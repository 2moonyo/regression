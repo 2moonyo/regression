{
 "cells": [
  {
   "cell_type": "markdown",
   "metadata": {},
   "source": [
    "# Regression\n",
    "\n",
    "\n",
    "\n",
    "\n",
    "\n",
    "\n"
   ]
  },
  {
   "cell_type": "markdown",
   "metadata": {},
   "source": [
    "## Preprocessing and Input Data\n",
    "\n",
    "### Downloaded External Information\n",
    "- I downloaded external open data from [Statbel](https://statbel.fgov.be/en/news/attert-richest-municipality-and-saint-josse-ten-noode-poorest-2022) on the median disposable income per municipality.\n",
    "  - This information accounted for both taxable and non-taxable (net) income, including:\n",
    "    - Professional income\n",
    "    - Social benefits\n",
    "    - Pensions\n",
    "    - Integration income\n",
    "    - Rental income\n",
    "    - Capital income\n",
    "    - Child allowances\n",
    "    - Maintenance allowances\n",
    "  - The dataset included the municipality and GPS coordinates.\n",
    "\n",
    "- I downloaded postal codes per municipality from [BPpost](https://www.bpost.be/fr/outil-de-validation-de-codes-postaux).\n",
    "- I combined the income data and postal data to create a comprehensive list, enabling me to match the median income to my dataset using both postal code and municipality name.\n",
    "- To handle mismatches between French and Dutch names, I used the **rapidfuzz** library for approximate string matching, achieving 75% accuracy by matching on postal code and name.\n",
    "\n",
    "## Improving Property Dataset\n",
    "- I revisited the **Immoweb** site and scraped additional data to retrieve the energy certification scores for all previously scraped properties.\n",
    "- An article about a new law revealed that all properties would need to achieve level D compliance before 2030 to avoid higher taxes."
   ]
  },
  {
   "cell_type": "markdown",
   "metadata": {},
   "source": [
    "## Feature Engineering\n",
    "- Cleaned the dataset by removing outliers and null values in critical features.\n",
    "- Created a new column to differentiate between **Brussels**, **Wallonia**, and **Flanders**, as public policies and politics vary significantly across these regions.\n",
    "- Dropped features with low correlation to price, including:\n",
    "  - `kitchen`, `postal_code`, `furnished`, `fireplace`, `province`, `property_type`, and `Terrace Surface`.\n",
    "- Scaled the median income data to align with the price scale.\n",
    "- Removed outliers beyond 1.5 times the interquartile range (IQR), retaining some for variability without introducing noise.\n",
    "\n",
    "# Model Creation\n",
    "\n",
    "- Used **Cross-Validation** and **Random Search** to optimize model performance.\n",
    "- Split the dataset into training and testing subsets to evaluate model accuracy.\n",
    "- I used the categorical features of [\"locality\", \"energy_certificate\", \"region\"]"
   ]
  },
  {
   "cell_type": "markdown",
   "metadata": {},
   "source": [
    "# Interpretation of Results\n",
    "\n",
    "### Median Income Insights\n",
    "- Median income per municipality showed limited correlation with property prices.\n",
    "- The metric was more relevant for properties near the median price range, suggesting its importance primarily for middle-income households.\n",
    "- For extremely high or low-income groups, the metric held little significance.\n",
    "\n",
    "### Energy Certification Insights\n",
    "- The energy certification rating significantly impacted prices in the **Flanders** region, less so in **Wallonia** and **Brussels**.\n",
    "- This discrepancy is likely due to the 2030 compliance deadline enforced in Flanders, which does not apply to the other regions.\n",
    "- Analysis confirms a stronger relationship between energy certification and price in Flanders."
   ]
  }
 ],
 "metadata": {
  "language_info": {
   "name": "python"
  }
 },
 "nbformat": 4,
 "nbformat_minor": 2
}
