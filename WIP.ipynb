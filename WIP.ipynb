{
 "cells": [
  {
   "cell_type": "code",
   "execution_count": 634,
   "metadata": {},
   "outputs": [],
   "source": [
    "import pandas as pd\n",
    "import numpy as np\n",
    "from sklearn.linear_model import LinearRegression\n",
    "from sklearn.metrics import mean_squared_error, f1_score, r2_score,roc_auc_score, root_mean_squared_error\n",
    "from sklearn.model_selection import train_test_split\n",
    "import catboost as cb\n",
    "from catboost import CatBoostClassifier, Pool, CatBoostRegressor\n",
    "\n",
    "from matplotlib import pyplot as plt"
   ]
  },
  {
   "cell_type": "code",
   "execution_count": 635,
   "metadata": {},
   "outputs": [],
   "source": [
    "filepath = \"properties_data_set_19_11_20H00.csv\"\n",
    "income_data = \"/Users/irisvirus/Desktop/Becode/Python/Projects/Regression/regression/INCOME DATA 2022.csv\"\n",
    "poverty_data = \"/Users/irisvirus/Desktop/Becode/Python/Projects/Regression/regression/POVERTY RISK DATA.csv\"\n",
    "zipcode = \"/Users/irisvirus/Desktop/Becode/Python/Projects/Regression/regression/BELGIUM/zipcodes_num_nl_new_Tumi.xls\"\n",
    "id = pd.read_csv(income_data)\n",
    "povd = pd.read_csv(poverty_data)\n",
    "df = pd.read_csv(filepath)\n",
    "zcode = pd.read_excel(zipcode)\n",
    "df.set_index(\"house_index\",drop=True, inplace=True )"
   ]
  },
  {
   "cell_type": "code",
   "execution_count": 636,
   "metadata": {},
   "outputs": [],
   "source": [
    "#Clean Income Data\n",
    "id_new_header = [\"Locality\", \"min_median_income\", \"unnamed\", \"max_median_income\", \"locality\"]\n",
    "id.columns = id_new_header\n",
    "id = id.drop(columns=[\"Locality\", \"unnamed\"])"
   ]
  },
  {
   "cell_type": "code",
   "execution_count": 637,
   "metadata": {},
   "outputs": [
    {
     "data": {
      "text/html": [
       "<div>\n",
       "<style scoped>\n",
       "    .dataframe tbody tr th:only-of-type {\n",
       "        vertical-align: middle;\n",
       "    }\n",
       "\n",
       "    .dataframe tbody tr th {\n",
       "        vertical-align: top;\n",
       "    }\n",
       "\n",
       "    .dataframe thead th {\n",
       "        text-align: right;\n",
       "    }\n",
       "</style>\n",
       "<table border=\"1\" class=\"dataframe\">\n",
       "  <thead>\n",
       "    <tr style=\"text-align: right;\">\n",
       "      <th></th>\n",
       "      <th>min_median_income</th>\n",
       "      <th>max_median_income</th>\n",
       "      <th>locality</th>\n",
       "    </tr>\n",
       "  </thead>\n",
       "  <tbody>\n",
       "    <tr>\n",
       "      <th>0</th>\n",
       "      <td>23.986</td>\n",
       "      <td>51.2609 4.3695</td>\n",
       "      <td>Antwerp</td>\n",
       "    </tr>\n",
       "    <tr>\n",
       "      <th>1</th>\n",
       "      <td>30.579</td>\n",
       "      <td>51.1605 4.5105</td>\n",
       "      <td>Boechout</td>\n",
       "    </tr>\n",
       "    <tr>\n",
       "      <th>2</th>\n",
       "      <td>25.936</td>\n",
       "      <td>51.0937 4.3731</td>\n",
       "      <td>Boom</td>\n",
       "    </tr>\n",
       "    <tr>\n",
       "      <th>3</th>\n",
       "      <td>26.591</td>\n",
       "      <td>51.1915 4.488</td>\n",
       "      <td>Borsbeek</td>\n",
       "    </tr>\n",
       "    <tr>\n",
       "      <th>4</th>\n",
       "      <td>29.869</td>\n",
       "      <td>51.31 4.4995</td>\n",
       "      <td>Brasschaat</td>\n",
       "    </tr>\n",
       "  </tbody>\n",
       "</table>\n",
       "</div>"
      ],
      "text/plain": [
       "   min_median_income max_median_income    locality\n",
       "0             23.986    51.2609 4.3695     Antwerp\n",
       "1             30.579    51.1605 4.5105    Boechout\n",
       "2             25.936    51.0937 4.3731        Boom\n",
       "3             26.591     51.1915 4.488    Borsbeek\n",
       "4             29.869      51.31 4.4995  Brasschaat"
      ]
     },
     "execution_count": 637,
     "metadata": {},
     "output_type": "execute_result"
    }
   ],
   "source": [
    "id.head()"
   ]
  },
  {
   "cell_type": "code",
   "execution_count": 638,
   "metadata": {},
   "outputs": [
    {
     "data": {
      "text/plain": [
       "(579, 3)"
      ]
     },
     "execution_count": 638,
     "metadata": {},
     "output_type": "execute_result"
    }
   ],
   "source": [
    "id.shape"
   ]
  },
  {
   "cell_type": "code",
   "execution_count": 639,
   "metadata": {},
   "outputs": [],
   "source": [
    "#rename columns from bpPost\n",
    "zcode = zcode.rename(columns={'Localité': 'locality'})"
   ]
  },
  {
   "cell_type": "code",
   "execution_count": 640,
   "metadata": {},
   "outputs": [
    {
     "data": {
      "text/html": [
       "<div>\n",
       "<style scoped>\n",
       "    .dataframe tbody tr th:only-of-type {\n",
       "        vertical-align: middle;\n",
       "    }\n",
       "\n",
       "    .dataframe tbody tr th {\n",
       "        vertical-align: top;\n",
       "    }\n",
       "\n",
       "    .dataframe thead th {\n",
       "        text-align: right;\n",
       "    }\n",
       "</style>\n",
       "<table border=\"1\" class=\"dataframe\">\n",
       "  <thead>\n",
       "    <tr style=\"text-align: right;\">\n",
       "      <th></th>\n",
       "      <th>Postcode</th>\n",
       "      <th>NAME</th>\n",
       "      <th>SUBMUNICIPALITY</th>\n",
       "      <th>MAIN MUNICIPALITY</th>\n",
       "      <th>Provincie</th>\n",
       "    </tr>\n",
       "  </thead>\n",
       "  <tbody>\n",
       "    <tr>\n",
       "      <th>0</th>\n",
       "      <td>2040</td>\n",
       "      <td>Berendrecht</td>\n",
       "      <td>Ja</td>\n",
       "      <td>ANTWERPEN</td>\n",
       "      <td>ANTWERPEN</td>\n",
       "    </tr>\n",
       "    <tr>\n",
       "      <th>1</th>\n",
       "      <td>2040</td>\n",
       "      <td>Lillo</td>\n",
       "      <td>Ja</td>\n",
       "      <td>ANTWERPEN</td>\n",
       "      <td>ANTWERPEN</td>\n",
       "    </tr>\n",
       "    <tr>\n",
       "      <th>2</th>\n",
       "      <td>2040</td>\n",
       "      <td>Zandvliet</td>\n",
       "      <td>Ja</td>\n",
       "      <td>ANTWERPEN</td>\n",
       "      <td>ANTWERPEN</td>\n",
       "    </tr>\n",
       "    <tr>\n",
       "      <th>3</th>\n",
       "      <td>2070</td>\n",
       "      <td>Burcht</td>\n",
       "      <td>Ja</td>\n",
       "      <td>ZWIJNDRECHT</td>\n",
       "      <td>ANTWERPEN</td>\n",
       "    </tr>\n",
       "    <tr>\n",
       "      <th>4</th>\n",
       "      <td>2100</td>\n",
       "      <td>Deurne</td>\n",
       "      <td>Ja</td>\n",
       "      <td>ANTWERPEN</td>\n",
       "      <td>ANTWERPEN</td>\n",
       "    </tr>\n",
       "  </tbody>\n",
       "</table>\n",
       "</div>"
      ],
      "text/plain": [
       "   Postcode         NAME SUBMUNICIPALITY MAIN MUNICIPALITY  Provincie\n",
       "0      2040  Berendrecht              Ja         ANTWERPEN  ANTWERPEN\n",
       "1      2040        Lillo              Ja         ANTWERPEN  ANTWERPEN\n",
       "2      2040    Zandvliet              Ja         ANTWERPEN  ANTWERPEN\n",
       "3      2070       Burcht              Ja       ZWIJNDRECHT  ANTWERPEN\n",
       "4      2100       Deurne              Ja         ANTWERPEN  ANTWERPEN"
      ]
     },
     "execution_count": 640,
     "metadata": {},
     "output_type": "execute_result"
    }
   ],
   "source": [
    "zcode.head()"
   ]
  },
  {
   "cell_type": "code",
   "execution_count": 641,
   "metadata": {},
   "outputs": [],
   "source": [
    "zcode.rename(columns={'Postcode': 'postal_code', 'Provincie': 'province','NAME':'locality','MAIN MUNICIPALITY':\"municipality\"}, inplace=True)\n"
   ]
  },
  {
   "cell_type": "code",
   "execution_count": 642,
   "metadata": {},
   "outputs": [
    {
     "data": {
      "text/html": [
       "<div>\n",
       "<style scoped>\n",
       "    .dataframe tbody tr th:only-of-type {\n",
       "        vertical-align: middle;\n",
       "    }\n",
       "\n",
       "    .dataframe tbody tr th {\n",
       "        vertical-align: top;\n",
       "    }\n",
       "\n",
       "    .dataframe thead th {\n",
       "        text-align: right;\n",
       "    }\n",
       "</style>\n",
       "<table border=\"1\" class=\"dataframe\">\n",
       "  <thead>\n",
       "    <tr style=\"text-align: right;\">\n",
       "      <th></th>\n",
       "      <th>postal_code</th>\n",
       "      <th>locality</th>\n",
       "      <th>SUBMUNICIPALITY</th>\n",
       "      <th>municipality</th>\n",
       "      <th>province</th>\n",
       "    </tr>\n",
       "  </thead>\n",
       "  <tbody>\n",
       "    <tr>\n",
       "      <th>0</th>\n",
       "      <td>2040</td>\n",
       "      <td>Berendrecht</td>\n",
       "      <td>Ja</td>\n",
       "      <td>ANTWERPEN</td>\n",
       "      <td>ANTWERPEN</td>\n",
       "    </tr>\n",
       "    <tr>\n",
       "      <th>1</th>\n",
       "      <td>2040</td>\n",
       "      <td>Lillo</td>\n",
       "      <td>Ja</td>\n",
       "      <td>ANTWERPEN</td>\n",
       "      <td>ANTWERPEN</td>\n",
       "    </tr>\n",
       "    <tr>\n",
       "      <th>2</th>\n",
       "      <td>2040</td>\n",
       "      <td>Zandvliet</td>\n",
       "      <td>Ja</td>\n",
       "      <td>ANTWERPEN</td>\n",
       "      <td>ANTWERPEN</td>\n",
       "    </tr>\n",
       "    <tr>\n",
       "      <th>3</th>\n",
       "      <td>2070</td>\n",
       "      <td>Burcht</td>\n",
       "      <td>Ja</td>\n",
       "      <td>ZWIJNDRECHT</td>\n",
       "      <td>ANTWERPEN</td>\n",
       "    </tr>\n",
       "    <tr>\n",
       "      <th>4</th>\n",
       "      <td>2100</td>\n",
       "      <td>Deurne</td>\n",
       "      <td>Ja</td>\n",
       "      <td>ANTWERPEN</td>\n",
       "      <td>ANTWERPEN</td>\n",
       "    </tr>\n",
       "  </tbody>\n",
       "</table>\n",
       "</div>"
      ],
      "text/plain": [
       "   postal_code     locality SUBMUNICIPALITY municipality   province\n",
       "0         2040  Berendrecht              Ja    ANTWERPEN  ANTWERPEN\n",
       "1         2040        Lillo              Ja    ANTWERPEN  ANTWERPEN\n",
       "2         2040    Zandvliet              Ja    ANTWERPEN  ANTWERPEN\n",
       "3         2070       Burcht              Ja  ZWIJNDRECHT  ANTWERPEN\n",
       "4         2100       Deurne              Ja    ANTWERPEN  ANTWERPEN"
      ]
     },
     "execution_count": 642,
     "metadata": {},
     "output_type": "execute_result"
    }
   ],
   "source": [
    "zcode.head()"
   ]
  },
  {
   "cell_type": "code",
   "execution_count": 643,
   "metadata": {},
   "outputs": [
    {
     "data": {
      "text/html": [
       "<div>\n",
       "<style scoped>\n",
       "    .dataframe tbody tr th:only-of-type {\n",
       "        vertical-align: middle;\n",
       "    }\n",
       "\n",
       "    .dataframe tbody tr th {\n",
       "        vertical-align: top;\n",
       "    }\n",
       "\n",
       "    .dataframe thead th {\n",
       "        text-align: right;\n",
       "    }\n",
       "</style>\n",
       "<table border=\"1\" class=\"dataframe\">\n",
       "  <thead>\n",
       "    <tr style=\"text-align: right;\">\n",
       "      <th></th>\n",
       "      <th>postal_code</th>\n",
       "      <th>locality</th>\n",
       "      <th>SUBMUNICIPALITY</th>\n",
       "      <th>municipality</th>\n",
       "      <th>province</th>\n",
       "    </tr>\n",
       "  </thead>\n",
       "  <tbody>\n",
       "    <tr>\n",
       "      <th>0</th>\n",
       "      <td>2040</td>\n",
       "      <td>Berendrecht</td>\n",
       "      <td>Ja</td>\n",
       "      <td>ANTWERPEN</td>\n",
       "      <td>ANTWERPEN</td>\n",
       "    </tr>\n",
       "    <tr>\n",
       "      <th>1</th>\n",
       "      <td>2040</td>\n",
       "      <td>Lillo</td>\n",
       "      <td>Ja</td>\n",
       "      <td>ANTWERPEN</td>\n",
       "      <td>ANTWERPEN</td>\n",
       "    </tr>\n",
       "    <tr>\n",
       "      <th>2</th>\n",
       "      <td>2040</td>\n",
       "      <td>Zandvliet</td>\n",
       "      <td>Ja</td>\n",
       "      <td>ANTWERPEN</td>\n",
       "      <td>ANTWERPEN</td>\n",
       "    </tr>\n",
       "    <tr>\n",
       "      <th>3</th>\n",
       "      <td>2070</td>\n",
       "      <td>Burcht</td>\n",
       "      <td>Ja</td>\n",
       "      <td>ZWIJNDRECHT</td>\n",
       "      <td>ANTWERPEN</td>\n",
       "    </tr>\n",
       "    <tr>\n",
       "      <th>4</th>\n",
       "      <td>2100</td>\n",
       "      <td>Deurne</td>\n",
       "      <td>Ja</td>\n",
       "      <td>ANTWERPEN</td>\n",
       "      <td>ANTWERPEN</td>\n",
       "    </tr>\n",
       "    <tr>\n",
       "      <th>...</th>\n",
       "      <td>...</td>\n",
       "      <td>...</td>\n",
       "      <td>...</td>\n",
       "      <td>...</td>\n",
       "      <td>...</td>\n",
       "    </tr>\n",
       "    <tr>\n",
       "      <th>2716</th>\n",
       "      <td>8930</td>\n",
       "      <td>Menen</td>\n",
       "      <td>Neen</td>\n",
       "      <td>MENEN</td>\n",
       "      <td>WEST-VLAANDEREN</td>\n",
       "    </tr>\n",
       "    <tr>\n",
       "      <th>2717</th>\n",
       "      <td>8940</td>\n",
       "      <td>Wervik</td>\n",
       "      <td>Neen</td>\n",
       "      <td>WERVIK</td>\n",
       "      <td>WEST-VLAANDEREN</td>\n",
       "    </tr>\n",
       "    <tr>\n",
       "      <th>2718</th>\n",
       "      <td>8957</td>\n",
       "      <td>Mesen</td>\n",
       "      <td>Neen</td>\n",
       "      <td>MESEN</td>\n",
       "      <td>WEST-VLAANDEREN</td>\n",
       "    </tr>\n",
       "    <tr>\n",
       "      <th>2719</th>\n",
       "      <td>8970</td>\n",
       "      <td>Poperinge</td>\n",
       "      <td>Neen</td>\n",
       "      <td>POPERINGE</td>\n",
       "      <td>WEST-VLAANDEREN</td>\n",
       "    </tr>\n",
       "    <tr>\n",
       "      <th>2720</th>\n",
       "      <td>8980</td>\n",
       "      <td>Zonnebeke</td>\n",
       "      <td>Neen</td>\n",
       "      <td>ZONNEBEKE</td>\n",
       "      <td>WEST-VLAANDEREN</td>\n",
       "    </tr>\n",
       "  </tbody>\n",
       "</table>\n",
       "<p>2721 rows × 5 columns</p>\n",
       "</div>"
      ],
      "text/plain": [
       "      postal_code     locality SUBMUNICIPALITY municipality         province\n",
       "0            2040  Berendrecht              Ja    ANTWERPEN        ANTWERPEN\n",
       "1            2040        Lillo              Ja    ANTWERPEN        ANTWERPEN\n",
       "2            2040    Zandvliet              Ja    ANTWERPEN        ANTWERPEN\n",
       "3            2070       Burcht              Ja  ZWIJNDRECHT        ANTWERPEN\n",
       "4            2100       Deurne              Ja    ANTWERPEN        ANTWERPEN\n",
       "...           ...          ...             ...          ...              ...\n",
       "2716         8930        Menen            Neen        MENEN  WEST-VLAANDEREN\n",
       "2717         8940       Wervik            Neen       WERVIK  WEST-VLAANDEREN\n",
       "2718         8957        Mesen            Neen        MESEN  WEST-VLAANDEREN\n",
       "2719         8970    Poperinge            Neen    POPERINGE  WEST-VLAANDEREN\n",
       "2720         8980    Zonnebeke            Neen    ZONNEBEKE  WEST-VLAANDEREN\n",
       "\n",
       "[2721 rows x 5 columns]"
      ]
     },
     "execution_count": 643,
     "metadata": {},
     "output_type": "execute_result"
    }
   ],
   "source": [
    "zcode"
   ]
  },
  {
   "cell_type": "code",
   "execution_count": 644,
   "metadata": {},
   "outputs": [],
   "source": [
    "id[\"postal_code\"] = None\n",
    "id[\"province\"] = None"
   ]
  },
  {
   "cell_type": "code",
   "execution_count": 645,
   "metadata": {},
   "outputs": [],
   "source": [
    "zcode.province = zcode[\"province\"].astype(str)\n",
    "zcode.locality = zcode[\"locality\"].astype(str)\n",
    "zcode.municipality = zcode[\"municipality\"].astype(str)\n",
    "zcode.province = zcode.province.apply(lambda x: x.strip().lower())\n",
    "zcode.locality = zcode.locality.apply(lambda x: x.strip().lower())\n",
    "zcode.municipality = zcode.municipality.apply(lambda x: x.strip().lower())\n",
    "id.locality = id.locality.apply(lambda x: x.strip().lower())\n",
    "id.locality = id[\"locality\"].astype(str)"
   ]
  },
  {
   "cell_type": "code",
   "execution_count": 646,
   "metadata": {},
   "outputs": [
    {
     "data": {
      "text/html": [
       "<div>\n",
       "<style scoped>\n",
       "    .dataframe tbody tr th:only-of-type {\n",
       "        vertical-align: middle;\n",
       "    }\n",
       "\n",
       "    .dataframe tbody tr th {\n",
       "        vertical-align: top;\n",
       "    }\n",
       "\n",
       "    .dataframe thead th {\n",
       "        text-align: right;\n",
       "    }\n",
       "</style>\n",
       "<table border=\"1\" class=\"dataframe\">\n",
       "  <thead>\n",
       "    <tr style=\"text-align: right;\">\n",
       "      <th></th>\n",
       "      <th>postal_code</th>\n",
       "      <th>locality</th>\n",
       "      <th>SUBMUNICIPALITY</th>\n",
       "      <th>municipality</th>\n",
       "      <th>province</th>\n",
       "    </tr>\n",
       "  </thead>\n",
       "  <tbody>\n",
       "    <tr>\n",
       "      <th>0</th>\n",
       "      <td>2040</td>\n",
       "      <td>berendrecht</td>\n",
       "      <td>Ja</td>\n",
       "      <td>antwerpen</td>\n",
       "      <td>antwerpen</td>\n",
       "    </tr>\n",
       "    <tr>\n",
       "      <th>1</th>\n",
       "      <td>2040</td>\n",
       "      <td>lillo</td>\n",
       "      <td>Ja</td>\n",
       "      <td>antwerpen</td>\n",
       "      <td>antwerpen</td>\n",
       "    </tr>\n",
       "    <tr>\n",
       "      <th>2</th>\n",
       "      <td>2040</td>\n",
       "      <td>zandvliet</td>\n",
       "      <td>Ja</td>\n",
       "      <td>antwerpen</td>\n",
       "      <td>antwerpen</td>\n",
       "    </tr>\n",
       "    <tr>\n",
       "      <th>3</th>\n",
       "      <td>2070</td>\n",
       "      <td>burcht</td>\n",
       "      <td>Ja</td>\n",
       "      <td>zwijndrecht</td>\n",
       "      <td>antwerpen</td>\n",
       "    </tr>\n",
       "    <tr>\n",
       "      <th>4</th>\n",
       "      <td>2100</td>\n",
       "      <td>deurne</td>\n",
       "      <td>Ja</td>\n",
       "      <td>antwerpen</td>\n",
       "      <td>antwerpen</td>\n",
       "    </tr>\n",
       "  </tbody>\n",
       "</table>\n",
       "</div>"
      ],
      "text/plain": [
       "   postal_code     locality SUBMUNICIPALITY municipality   province\n",
       "0         2040  berendrecht              Ja    antwerpen  antwerpen\n",
       "1         2040        lillo              Ja    antwerpen  antwerpen\n",
       "2         2040    zandvliet              Ja    antwerpen  antwerpen\n",
       "3         2070       burcht              Ja  zwijndrecht  antwerpen\n",
       "4         2100       deurne              Ja    antwerpen  antwerpen"
      ]
     },
     "execution_count": 646,
     "metadata": {},
     "output_type": "execute_result"
    }
   ],
   "source": [
    "zcode.head()"
   ]
  },
  {
   "cell_type": "code",
   "execution_count": 647,
   "metadata": {},
   "outputs": [
    {
     "data": {
      "text/plain": [
       "Index(['min_median_income', 'max_median_income', 'locality', 'postal_code',\n",
       "       'province'],\n",
       "      dtype='object')"
      ]
     },
     "execution_count": 647,
     "metadata": {},
     "output_type": "execute_result"
    }
   ],
   "source": [
    "id.columns"
   ]
  },
  {
   "cell_type": "code",
   "execution_count": null,
   "metadata": {},
   "outputs": [],
   "source": []
  },
  {
   "cell_type": "code",
   "execution_count": 648,
   "metadata": {},
   "outputs": [
    {
     "data": {
      "text/html": [
       "<div>\n",
       "<style scoped>\n",
       "    .dataframe tbody tr th:only-of-type {\n",
       "        vertical-align: middle;\n",
       "    }\n",
       "\n",
       "    .dataframe tbody tr th {\n",
       "        vertical-align: top;\n",
       "    }\n",
       "\n",
       "    .dataframe thead th {\n",
       "        text-align: right;\n",
       "    }\n",
       "</style>\n",
       "<table border=\"1\" class=\"dataframe\">\n",
       "  <thead>\n",
       "    <tr style=\"text-align: right;\">\n",
       "      <th></th>\n",
       "      <th>median_income</th>\n",
       "      <th>gps_coordinates</th>\n",
       "      <th>locality</th>\n",
       "      <th>postal_code</th>\n",
       "      <th>province</th>\n",
       "    </tr>\n",
       "  </thead>\n",
       "  <tbody>\n",
       "    <tr>\n",
       "      <th>0</th>\n",
       "      <td>23.986</td>\n",
       "      <td>51.2609 4.3695</td>\n",
       "      <td>antwerp</td>\n",
       "      <td>None</td>\n",
       "      <td>None</td>\n",
       "    </tr>\n",
       "    <tr>\n",
       "      <th>1</th>\n",
       "      <td>30.579</td>\n",
       "      <td>51.1605 4.5105</td>\n",
       "      <td>boechout</td>\n",
       "      <td>None</td>\n",
       "      <td>None</td>\n",
       "    </tr>\n",
       "    <tr>\n",
       "      <th>2</th>\n",
       "      <td>25.936</td>\n",
       "      <td>51.0937 4.3731</td>\n",
       "      <td>boom</td>\n",
       "      <td>None</td>\n",
       "      <td>None</td>\n",
       "    </tr>\n",
       "    <tr>\n",
       "      <th>3</th>\n",
       "      <td>26.591</td>\n",
       "      <td>51.1915 4.488</td>\n",
       "      <td>borsbeek</td>\n",
       "      <td>None</td>\n",
       "      <td>None</td>\n",
       "    </tr>\n",
       "    <tr>\n",
       "      <th>4</th>\n",
       "      <td>29.869</td>\n",
       "      <td>51.31 4.4995</td>\n",
       "      <td>brasschaat</td>\n",
       "      <td>None</td>\n",
       "      <td>None</td>\n",
       "    </tr>\n",
       "    <tr>\n",
       "      <th>...</th>\n",
       "      <td>...</td>\n",
       "      <td>...</td>\n",
       "      <td>...</td>\n",
       "      <td>...</td>\n",
       "      <td>...</td>\n",
       "    </tr>\n",
       "    <tr>\n",
       "      <th>574</th>\n",
       "      <td>25.033</td>\n",
       "      <td>50.151 4.759</td>\n",
       "      <td>doische</td>\n",
       "      <td>None</td>\n",
       "      <td>None</td>\n",
       "    </tr>\n",
       "    <tr>\n",
       "      <th>575</th>\n",
       "      <td>26.334</td>\n",
       "      <td>50.2605 4.5675</td>\n",
       "      <td>florennes</td>\n",
       "      <td>None</td>\n",
       "      <td>None</td>\n",
       "    </tr>\n",
       "    <tr>\n",
       "      <th>576</th>\n",
       "      <td>25.695</td>\n",
       "      <td>50.161 4.546</td>\n",
       "      <td>philippeville</td>\n",
       "      <td>None</td>\n",
       "      <td>None</td>\n",
       "    </tr>\n",
       "    <tr>\n",
       "      <th>577</th>\n",
       "      <td>27.975</td>\n",
       "      <td>50.2725 4.4555</td>\n",
       "      <td>walcourt</td>\n",
       "      <td>None</td>\n",
       "      <td>None</td>\n",
       "    </tr>\n",
       "    <tr>\n",
       "      <th>578</th>\n",
       "      <td>23.930</td>\n",
       "      <td>50.05 4.624</td>\n",
       "      <td>viroinval</td>\n",
       "      <td>None</td>\n",
       "      <td>None</td>\n",
       "    </tr>\n",
       "  </tbody>\n",
       "</table>\n",
       "<p>579 rows × 5 columns</p>\n",
       "</div>"
      ],
      "text/plain": [
       "     median_income gps_coordinates       locality postal_code province\n",
       "0           23.986  51.2609 4.3695        antwerp        None     None\n",
       "1           30.579  51.1605 4.5105       boechout        None     None\n",
       "2           25.936  51.0937 4.3731           boom        None     None\n",
       "3           26.591   51.1915 4.488       borsbeek        None     None\n",
       "4           29.869    51.31 4.4995     brasschaat        None     None\n",
       "..             ...             ...            ...         ...      ...\n",
       "574         25.033    50.151 4.759        doische        None     None\n",
       "575         26.334  50.2605 4.5675      florennes        None     None\n",
       "576         25.695    50.161 4.546  philippeville        None     None\n",
       "577         27.975  50.2725 4.4555       walcourt        None     None\n",
       "578         23.930     50.05 4.624      viroinval        None     None\n",
       "\n",
       "[579 rows x 5 columns]"
      ]
     },
     "execution_count": 648,
     "metadata": {},
     "output_type": "execute_result"
    }
   ],
   "source": [
    "id.rename(columns={'max_median_income': 'gps_coordinates', \"min_median_income\" : \"median_income\"}, inplace=True)\n",
    "id"
   ]
  },
  {
   "cell_type": "code",
   "execution_count": 649,
   "metadata": {},
   "outputs": [],
   "source": [
    "id[['latitude', 'longitude']] = id['gps_coordinates'].str.split(expand=True).astype(float)"
   ]
  },
  {
   "cell_type": "code",
   "execution_count": 650,
   "metadata": {},
   "outputs": [],
   "source": [
    "id = id.drop(columns=\"gps_coordinates\")"
   ]
  },
  {
   "cell_type": "code",
   "execution_count": 651,
   "metadata": {},
   "outputs": [
    {
     "data": {
      "text/html": [
       "<div>\n",
       "<style scoped>\n",
       "    .dataframe tbody tr th:only-of-type {\n",
       "        vertical-align: middle;\n",
       "    }\n",
       "\n",
       "    .dataframe tbody tr th {\n",
       "        vertical-align: top;\n",
       "    }\n",
       "\n",
       "    .dataframe thead th {\n",
       "        text-align: right;\n",
       "    }\n",
       "</style>\n",
       "<table border=\"1\" class=\"dataframe\">\n",
       "  <thead>\n",
       "    <tr style=\"text-align: right;\">\n",
       "      <th></th>\n",
       "      <th>median_income</th>\n",
       "      <th>locality</th>\n",
       "      <th>postal_code</th>\n",
       "      <th>province</th>\n",
       "      <th>latitude</th>\n",
       "      <th>longitude</th>\n",
       "    </tr>\n",
       "  </thead>\n",
       "  <tbody>\n",
       "    <tr>\n",
       "      <th>0</th>\n",
       "      <td>23.986</td>\n",
       "      <td>antwerp</td>\n",
       "      <td>None</td>\n",
       "      <td>None</td>\n",
       "      <td>51.2609</td>\n",
       "      <td>4.3695</td>\n",
       "    </tr>\n",
       "    <tr>\n",
       "      <th>1</th>\n",
       "      <td>30.579</td>\n",
       "      <td>boechout</td>\n",
       "      <td>None</td>\n",
       "      <td>None</td>\n",
       "      <td>51.1605</td>\n",
       "      <td>4.5105</td>\n",
       "    </tr>\n",
       "    <tr>\n",
       "      <th>2</th>\n",
       "      <td>25.936</td>\n",
       "      <td>boom</td>\n",
       "      <td>None</td>\n",
       "      <td>None</td>\n",
       "      <td>51.0937</td>\n",
       "      <td>4.3731</td>\n",
       "    </tr>\n",
       "    <tr>\n",
       "      <th>3</th>\n",
       "      <td>26.591</td>\n",
       "      <td>borsbeek</td>\n",
       "      <td>None</td>\n",
       "      <td>None</td>\n",
       "      <td>51.1915</td>\n",
       "      <td>4.4880</td>\n",
       "    </tr>\n",
       "    <tr>\n",
       "      <th>4</th>\n",
       "      <td>29.869</td>\n",
       "      <td>brasschaat</td>\n",
       "      <td>None</td>\n",
       "      <td>None</td>\n",
       "      <td>51.3100</td>\n",
       "      <td>4.4995</td>\n",
       "    </tr>\n",
       "    <tr>\n",
       "      <th>...</th>\n",
       "      <td>...</td>\n",
       "      <td>...</td>\n",
       "      <td>...</td>\n",
       "      <td>...</td>\n",
       "      <td>...</td>\n",
       "      <td>...</td>\n",
       "    </tr>\n",
       "    <tr>\n",
       "      <th>574</th>\n",
       "      <td>25.033</td>\n",
       "      <td>doische</td>\n",
       "      <td>None</td>\n",
       "      <td>None</td>\n",
       "      <td>50.1510</td>\n",
       "      <td>4.7590</td>\n",
       "    </tr>\n",
       "    <tr>\n",
       "      <th>575</th>\n",
       "      <td>26.334</td>\n",
       "      <td>florennes</td>\n",
       "      <td>None</td>\n",
       "      <td>None</td>\n",
       "      <td>50.2605</td>\n",
       "      <td>4.5675</td>\n",
       "    </tr>\n",
       "    <tr>\n",
       "      <th>576</th>\n",
       "      <td>25.695</td>\n",
       "      <td>philippeville</td>\n",
       "      <td>None</td>\n",
       "      <td>None</td>\n",
       "      <td>50.1610</td>\n",
       "      <td>4.5460</td>\n",
       "    </tr>\n",
       "    <tr>\n",
       "      <th>577</th>\n",
       "      <td>27.975</td>\n",
       "      <td>walcourt</td>\n",
       "      <td>None</td>\n",
       "      <td>None</td>\n",
       "      <td>50.2725</td>\n",
       "      <td>4.4555</td>\n",
       "    </tr>\n",
       "    <tr>\n",
       "      <th>578</th>\n",
       "      <td>23.930</td>\n",
       "      <td>viroinval</td>\n",
       "      <td>None</td>\n",
       "      <td>None</td>\n",
       "      <td>50.0500</td>\n",
       "      <td>4.6240</td>\n",
       "    </tr>\n",
       "  </tbody>\n",
       "</table>\n",
       "<p>579 rows × 6 columns</p>\n",
       "</div>"
      ],
      "text/plain": [
       "     median_income       locality postal_code province  latitude  longitude\n",
       "0           23.986        antwerp        None     None   51.2609     4.3695\n",
       "1           30.579       boechout        None     None   51.1605     4.5105\n",
       "2           25.936           boom        None     None   51.0937     4.3731\n",
       "3           26.591       borsbeek        None     None   51.1915     4.4880\n",
       "4           29.869     brasschaat        None     None   51.3100     4.4995\n",
       "..             ...            ...         ...      ...       ...        ...\n",
       "574         25.033        doische        None     None   50.1510     4.7590\n",
       "575         26.334      florennes        None     None   50.2605     4.5675\n",
       "576         25.695  philippeville        None     None   50.1610     4.5460\n",
       "577         27.975       walcourt        None     None   50.2725     4.4555\n",
       "578         23.930      viroinval        None     None   50.0500     4.6240\n",
       "\n",
       "[579 rows x 6 columns]"
      ]
     },
     "execution_count": 651,
     "metadata": {},
     "output_type": "execute_result"
    }
   ],
   "source": [
    "id"
   ]
  },
  {
   "cell_type": "code",
   "execution_count": 652,
   "metadata": {},
   "outputs": [
    {
     "name": "stdout",
     "output_type": "stream",
     "text": [
      "     median_income       locality postal_code   province  latitude  longitude  \\\n",
      "0           23.986        antwerp        None       None   51.2609     4.3695   \n",
      "1           30.579       boechout        2530  antwerpen   51.1605     4.5105   \n",
      "2           25.936           boom        2850  antwerpen   51.0937     4.3731   \n",
      "3           26.591       borsbeek        2150  antwerpen   51.1915     4.4880   \n",
      "4           29.869     brasschaat        2930  antwerpen   51.3100     4.4995   \n",
      "..             ...            ...         ...        ...       ...        ...   \n",
      "574         25.033        doische        5680      namen   50.1510     4.7590   \n",
      "575         26.334      florennes        5620      namen   50.2605     4.5675   \n",
      "576         25.695  philippeville        5600      namen   50.1610     4.5460   \n",
      "577         27.975       walcourt        5650      namen   50.2725     4.4555   \n",
      "578         23.930      viroinval        None       None   50.0500     4.6240   \n",
      "\n",
      "      new_column  \n",
      "0       No Match  \n",
      "1    Match Found  \n",
      "2    Match Found  \n",
      "3    Match Found  \n",
      "4    Match Found  \n",
      "..           ...  \n",
      "574  Match Found  \n",
      "575  Match Found  \n",
      "576  Match Found  \n",
      "577  Match Found  \n",
      "578     No Match  \n",
      "\n",
      "[579 rows x 7 columns]\n"
     ]
    }
   ],
   "source": [
    "for index, row in id.iterrows():\n",
    "    # Normalize the 'locality' column in both DataFrames\n",
    "    id_locality = row['locality'].strip().lower() if isinstance(row['locality'], str) else ''\n",
    "    zcode['normalized_locality'] = zcode['locality'].apply(lambda x: x.strip().lower() if isinstance(x, str) else '')\n",
    "    \n",
    "    # Find matching rows based on normalized 'locality'\n",
    "    matching_row = zcode[zcode['normalized_locality'] == id_locality]\n",
    "\n",
    "\n",
    "    \n",
    "    if not matching_row.empty:\n",
    "        # Copy relevant data from matching_row to id\n",
    "        id.at[index, 'postal_code'] = matching_row['postal_code'].values[0]\n",
    "        id.at[index, 'province'] = matching_row['province'].values[0]\n",
    "        id.at[index, 'new_column'] = 'Match Found'\n",
    "    else:\n",
    "        # Add a flag if no match is found\n",
    "        id.at[index, 'new_column'] = 'No Match'\n",
    "\n",
    "print(id)\n"
   ]
  },
  {
   "cell_type": "code",
   "execution_count": 653,
   "metadata": {},
   "outputs": [
    {
     "name": "stdout",
     "output_type": "stream",
     "text": [
      "<class 'pandas.core.frame.DataFrame'>\n",
      "Index: 16111 entries, 0 to 19978\n",
      "Data columns (total 25 columns):\n",
      " #   Column            Non-Null Count  Dtype  \n",
      "---  ------            --------------  -----  \n",
      " 0   bedrooms          16111 non-null  int64  \n",
      " 1   property_type     16111 non-null  object \n",
      " 2   property_subtype  16111 non-null  object \n",
      " 3   locality          16111 non-null  object \n",
      " 4   postal_code       16111 non-null  int64  \n",
      " 5   street            15697 non-null  object \n",
      " 6   number            15596 non-null  object \n",
      " 7   box               5027 non-null   object \n",
      " 8   kitchen           16111 non-null  int64  \n",
      " 9   facades           11576 non-null  float64\n",
      " 10  price             16110 non-null  float64\n",
      " 11  furnished         16111 non-null  int64  \n",
      " 12  terrace           16111 non-null  int64  \n",
      " 13  terraceSurface    11339 non-null  float64\n",
      " 14  fireplace         16111 non-null  int64  \n",
      " 15  fireplaceCount    16111 non-null  int64  \n",
      " 16  buildingState     13388 non-null  object \n",
      " 17  garden            16111 non-null  int64  \n",
      " 18  gardenSurface     16111 non-null  int64  \n",
      " 19  pool              16111 non-null  int64  \n",
      " 20  landSurface       8957 non-null   float64\n",
      " 21  livingArea        15173 non-null  float64\n",
      " 22  surfaceOfThePlot  8957 non-null   float64\n",
      " 23  typeOfSale        3452 non-null   object \n",
      " 24  province          16111 non-null  object \n",
      "dtypes: float64(6), int64(10), object(9)\n",
      "memory usage: 3.2+ MB\n"
     ]
    }
   ],
   "source": [
    "df.locality\n",
    "df.info()"
   ]
  },
  {
   "cell_type": "code",
   "execution_count": 654,
   "metadata": {},
   "outputs": [
    {
     "data": {
      "text/html": [
       "<div>\n",
       "<style scoped>\n",
       "    .dataframe tbody tr th:only-of-type {\n",
       "        vertical-align: middle;\n",
       "    }\n",
       "\n",
       "    .dataframe tbody tr th {\n",
       "        vertical-align: top;\n",
       "    }\n",
       "\n",
       "    .dataframe thead th {\n",
       "        text-align: right;\n",
       "    }\n",
       "</style>\n",
       "<table border=\"1\" class=\"dataframe\">\n",
       "  <thead>\n",
       "    <tr style=\"text-align: right;\">\n",
       "      <th></th>\n",
       "      <th>median_income</th>\n",
       "      <th>locality</th>\n",
       "      <th>postal_code</th>\n",
       "      <th>province</th>\n",
       "      <th>latitude</th>\n",
       "      <th>longitude</th>\n",
       "      <th>new_column</th>\n",
       "    </tr>\n",
       "  </thead>\n",
       "  <tbody>\n",
       "    <tr>\n",
       "      <th>0</th>\n",
       "      <td>23.986</td>\n",
       "      <td>antwerp</td>\n",
       "      <td>None</td>\n",
       "      <td>None</td>\n",
       "      <td>51.2609</td>\n",
       "      <td>4.3695</td>\n",
       "      <td>No Match</td>\n",
       "    </tr>\n",
       "    <tr>\n",
       "      <th>1</th>\n",
       "      <td>30.579</td>\n",
       "      <td>boechout</td>\n",
       "      <td>2530</td>\n",
       "      <td>antwerpen</td>\n",
       "      <td>51.1605</td>\n",
       "      <td>4.5105</td>\n",
       "      <td>Match Found</td>\n",
       "    </tr>\n",
       "    <tr>\n",
       "      <th>2</th>\n",
       "      <td>25.936</td>\n",
       "      <td>boom</td>\n",
       "      <td>2850</td>\n",
       "      <td>antwerpen</td>\n",
       "      <td>51.0937</td>\n",
       "      <td>4.3731</td>\n",
       "      <td>Match Found</td>\n",
       "    </tr>\n",
       "    <tr>\n",
       "      <th>3</th>\n",
       "      <td>26.591</td>\n",
       "      <td>borsbeek</td>\n",
       "      <td>2150</td>\n",
       "      <td>antwerpen</td>\n",
       "      <td>51.1915</td>\n",
       "      <td>4.4880</td>\n",
       "      <td>Match Found</td>\n",
       "    </tr>\n",
       "    <tr>\n",
       "      <th>4</th>\n",
       "      <td>29.869</td>\n",
       "      <td>brasschaat</td>\n",
       "      <td>2930</td>\n",
       "      <td>antwerpen</td>\n",
       "      <td>51.3100</td>\n",
       "      <td>4.4995</td>\n",
       "      <td>Match Found</td>\n",
       "    </tr>\n",
       "    <tr>\n",
       "      <th>5</th>\n",
       "      <td>30.339</td>\n",
       "      <td>brecht</td>\n",
       "      <td>2960</td>\n",
       "      <td>antwerpen</td>\n",
       "      <td>51.3290</td>\n",
       "      <td>4.5940</td>\n",
       "      <td>Match Found</td>\n",
       "    </tr>\n",
       "    <tr>\n",
       "      <th>6</th>\n",
       "      <td>30.055</td>\n",
       "      <td>edegem</td>\n",
       "      <td>2650</td>\n",
       "      <td>antwerpen</td>\n",
       "      <td>51.1590</td>\n",
       "      <td>4.4305</td>\n",
       "      <td>Match Found</td>\n",
       "    </tr>\n",
       "    <tr>\n",
       "      <th>7</th>\n",
       "      <td>28.732</td>\n",
       "      <td>essen</td>\n",
       "      <td>2910</td>\n",
       "      <td>antwerpen</td>\n",
       "      <td>51.4485</td>\n",
       "      <td>4.4635</td>\n",
       "      <td>Match Found</td>\n",
       "    </tr>\n",
       "    <tr>\n",
       "      <th>8</th>\n",
       "      <td>28.673</td>\n",
       "      <td>hemiksem</td>\n",
       "      <td>2620</td>\n",
       "      <td>antwerpen</td>\n",
       "      <td>51.1455</td>\n",
       "      <td>4.3405</td>\n",
       "      <td>Match Found</td>\n",
       "    </tr>\n",
       "    <tr>\n",
       "      <th>9</th>\n",
       "      <td>32.455</td>\n",
       "      <td>hove</td>\n",
       "      <td>2540</td>\n",
       "      <td>antwerpen</td>\n",
       "      <td>51.1474</td>\n",
       "      <td>4.4820</td>\n",
       "      <td>Match Found</td>\n",
       "    </tr>\n",
       "    <tr>\n",
       "      <th>10</th>\n",
       "      <td>30.452</td>\n",
       "      <td>kalmthout</td>\n",
       "      <td>2920</td>\n",
       "      <td>antwerpen</td>\n",
       "      <td>51.3988</td>\n",
       "      <td>4.4689</td>\n",
       "      <td>Match Found</td>\n",
       "    </tr>\n",
       "    <tr>\n",
       "      <th>11</th>\n",
       "      <td>31.018</td>\n",
       "      <td>kapellen</td>\n",
       "      <td>3381</td>\n",
       "      <td>vlaams-brabant</td>\n",
       "      <td>51.3339</td>\n",
       "      <td>4.4438</td>\n",
       "      <td>Match Found</td>\n",
       "    </tr>\n",
       "    <tr>\n",
       "      <th>12</th>\n",
       "      <td>31.087</td>\n",
       "      <td>kontich</td>\n",
       "      <td>2550</td>\n",
       "      <td>antwerpen</td>\n",
       "      <td>51.1237</td>\n",
       "      <td>4.4445</td>\n",
       "      <td>Match Found</td>\n",
       "    </tr>\n",
       "    <tr>\n",
       "      <th>13</th>\n",
       "      <td>31.141</td>\n",
       "      <td>lint</td>\n",
       "      <td>2547</td>\n",
       "      <td>antwerpen</td>\n",
       "      <td>51.1290</td>\n",
       "      <td>4.5110</td>\n",
       "      <td>Match Found</td>\n",
       "    </tr>\n",
       "    <tr>\n",
       "      <th>14</th>\n",
       "      <td>29.051</td>\n",
       "      <td>mortsel</td>\n",
       "      <td>2640</td>\n",
       "      <td>antwerpen</td>\n",
       "      <td>51.1746</td>\n",
       "      <td>4.4612</td>\n",
       "      <td>Match Found</td>\n",
       "    </tr>\n",
       "    <tr>\n",
       "      <th>15</th>\n",
       "      <td>28.979</td>\n",
       "      <td>niel</td>\n",
       "      <td>2845</td>\n",
       "      <td>antwerpen</td>\n",
       "      <td>51.1055</td>\n",
       "      <td>4.3395</td>\n",
       "      <td>Match Found</td>\n",
       "    </tr>\n",
       "    <tr>\n",
       "      <th>16</th>\n",
       "      <td>30.592</td>\n",
       "      <td>ranst</td>\n",
       "      <td>2520</td>\n",
       "      <td>antwerpen</td>\n",
       "      <td>51.1927</td>\n",
       "      <td>4.5907</td>\n",
       "      <td>Match Found</td>\n",
       "    </tr>\n",
       "    <tr>\n",
       "      <th>17</th>\n",
       "      <td>30.501</td>\n",
       "      <td>rumst</td>\n",
       "      <td>2840</td>\n",
       "      <td>antwerpen</td>\n",
       "      <td>51.0938</td>\n",
       "      <td>4.4214</td>\n",
       "      <td>Match Found</td>\n",
       "    </tr>\n",
       "    <tr>\n",
       "      <th>18</th>\n",
       "      <td>29.692</td>\n",
       "      <td>schelle</td>\n",
       "      <td>2627</td>\n",
       "      <td>antwerpen</td>\n",
       "      <td>51.1226</td>\n",
       "      <td>4.3429</td>\n",
       "      <td>Match Found</td>\n",
       "    </tr>\n",
       "    <tr>\n",
       "      <th>19</th>\n",
       "      <td>31.480</td>\n",
       "      <td>schilde</td>\n",
       "      <td>2970</td>\n",
       "      <td>antwerpen</td>\n",
       "      <td>51.2561</td>\n",
       "      <td>4.5814</td>\n",
       "      <td>Match Found</td>\n",
       "    </tr>\n",
       "  </tbody>\n",
       "</table>\n",
       "</div>"
      ],
      "text/plain": [
       "    median_income    locality postal_code        province  latitude  \\\n",
       "0          23.986     antwerp        None            None   51.2609   \n",
       "1          30.579    boechout        2530       antwerpen   51.1605   \n",
       "2          25.936        boom        2850       antwerpen   51.0937   \n",
       "3          26.591    borsbeek        2150       antwerpen   51.1915   \n",
       "4          29.869  brasschaat        2930       antwerpen   51.3100   \n",
       "5          30.339      brecht        2960       antwerpen   51.3290   \n",
       "6          30.055      edegem        2650       antwerpen   51.1590   \n",
       "7          28.732       essen        2910       antwerpen   51.4485   \n",
       "8          28.673    hemiksem        2620       antwerpen   51.1455   \n",
       "9          32.455        hove        2540       antwerpen   51.1474   \n",
       "10         30.452   kalmthout        2920       antwerpen   51.3988   \n",
       "11         31.018    kapellen        3381  vlaams-brabant   51.3339   \n",
       "12         31.087     kontich        2550       antwerpen   51.1237   \n",
       "13         31.141        lint        2547       antwerpen   51.1290   \n",
       "14         29.051     mortsel        2640       antwerpen   51.1746   \n",
       "15         28.979        niel        2845       antwerpen   51.1055   \n",
       "16         30.592       ranst        2520       antwerpen   51.1927   \n",
       "17         30.501       rumst        2840       antwerpen   51.0938   \n",
       "18         29.692     schelle        2627       antwerpen   51.1226   \n",
       "19         31.480     schilde        2970       antwerpen   51.2561   \n",
       "\n",
       "    longitude   new_column  \n",
       "0      4.3695     No Match  \n",
       "1      4.5105  Match Found  \n",
       "2      4.3731  Match Found  \n",
       "3      4.4880  Match Found  \n",
       "4      4.4995  Match Found  \n",
       "5      4.5940  Match Found  \n",
       "6      4.4305  Match Found  \n",
       "7      4.4635  Match Found  \n",
       "8      4.3405  Match Found  \n",
       "9      4.4820  Match Found  \n",
       "10     4.4689  Match Found  \n",
       "11     4.4438  Match Found  \n",
       "12     4.4445  Match Found  \n",
       "13     4.5110  Match Found  \n",
       "14     4.4612  Match Found  \n",
       "15     4.3395  Match Found  \n",
       "16     4.5907  Match Found  \n",
       "17     4.4214  Match Found  \n",
       "18     4.3429  Match Found  \n",
       "19     4.5814  Match Found  "
      ]
     },
     "execution_count": 654,
     "metadata": {},
     "output_type": "execute_result"
    }
   ],
   "source": [
    "# Merge datasets on locality\n",
    "merged_df = id.merge(zcode, on=['locality','postal_code'], how='left')\n",
    "id.head(20)\n"
   ]
  },
  {
   "cell_type": "code",
   "execution_count": 655,
   "metadata": {},
   "outputs": [
    {
     "data": {
      "text/plain": [
       "median_income      23.986\n",
       "locality          antwerp\n",
       "postal_code          2000\n",
       "province          antwerp\n",
       "latitude          51.2609\n",
       "longitude          4.3695\n",
       "new_column       No Match\n",
       "Name: 0, dtype: object"
      ]
     },
     "execution_count": 655,
     "metadata": {},
     "output_type": "execute_result"
    }
   ],
   "source": [
    "id.loc[0, 'province'] = 'antwerp'\n",
    "id.loc[0, 'postal_code'] = 2000\n",
    "id.loc[0]"
   ]
  },
  {
   "cell_type": "code",
   "execution_count": 656,
   "metadata": {},
   "outputs": [
    {
     "data": {
      "text/plain": [
       "101"
      ]
     },
     "execution_count": 656,
     "metadata": {},
     "output_type": "execute_result"
    }
   ],
   "source": [
    "id.postal_code.isna().sum()"
   ]
  },
  {
   "cell_type": "code",
   "execution_count": 657,
   "metadata": {},
   "outputs": [
    {
     "name": "stderr",
     "output_type": "stream",
     "text": [
      "/var/folders/q0/n2m_wdk56vqcbt6h62ljwtjc0000gn/T/ipykernel_19945/1019745166.py:1: FutureWarning: Downcasting object dtype arrays on .fillna, .ffill, .bfill is deprecated and will change in a future version. Call result.infer_objects(copy=False) instead. To opt-in to the future behavior, set `pd.set_option('future.no_silent_downcasting', True)`\n",
      "  id = id.fillna(value=np.nan)\n"
     ]
    }
   ],
   "source": [
    "id = id.fillna(value=np.nan)"
   ]
  },
  {
   "cell_type": "code",
   "execution_count": 658,
   "metadata": {},
   "outputs": [],
   "source": [
    "id['postal_code'] = pd.to_numeric(id['postal_code'], errors='coerce').fillna(0).astype(int)\n"
   ]
  },
  {
   "cell_type": "code",
   "execution_count": 659,
   "metadata": {},
   "outputs": [
    {
     "name": "stdout",
     "output_type": "stream",
     "text": [
      "<class 'pandas.core.frame.DataFrame'>\n",
      "RangeIndex: 579 entries, 0 to 578\n",
      "Data columns (total 7 columns):\n",
      " #   Column         Non-Null Count  Dtype  \n",
      "---  ------         --------------  -----  \n",
      " 0   median_income  579 non-null    float64\n",
      " 1   locality       579 non-null    object \n",
      " 2   postal_code    579 non-null    int64  \n",
      " 3   province       478 non-null    object \n",
      " 4   latitude       579 non-null    float64\n",
      " 5   longitude      579 non-null    float64\n",
      " 6   new_column     579 non-null    object \n",
      "dtypes: float64(3), int64(1), object(3)\n",
      "memory usage: 31.8+ KB\n"
     ]
    }
   ],
   "source": [
    "id.info()"
   ]
  },
  {
   "cell_type": "code",
   "execution_count": 660,
   "metadata": {},
   "outputs": [
    {
     "name": "stdout",
     "output_type": "stream",
     "text": [
      "Index([], dtype='int64')\n"
     ]
    }
   ],
   "source": [
    "missing_rows = id[id[\"postal_code\"].isna()].index\n",
    "print(missing_rows)\n"
   ]
  },
  {
   "cell_type": "code",
   "execution_count": 661,
   "metadata": {},
   "outputs": [
    {
     "data": {
      "text/plain": [
       "median_income      0\n",
       "locality           0\n",
       "postal_code        0\n",
       "province         101\n",
       "latitude           0\n",
       "longitude          0\n",
       "new_column         0\n",
       "dtype: int64"
      ]
     },
     "execution_count": 661,
     "metadata": {},
     "output_type": "execute_result"
    }
   ],
   "source": [
    "id.isna().sum()"
   ]
  },
  {
   "cell_type": "code",
   "execution_count": 662,
   "metadata": {},
   "outputs": [
    {
     "name": "stdout",
     "output_type": "stream",
     "text": [
      "['antwerp', 'boechout', 'boom', 'borsbeek', 'brasschaat', 'brecht', 'edegem', 'essen', 'hemiksem', 'hove', 'kalmthout', 'kapellen', 'kontich', 'lint', 'mortsel', 'niel', 'ranst', 'rumst', 'schelle', 'schilde', 'schoten', 'stabroek', 'wijnegem', 'wommelgem', 'wuustwezel', 'zandhoven', 'zoersel', 'zwijndrecht', 'malle', 'berlaar', 'bonheiden', 'bornem', 'duffel', 'heist-op-den-berg', 'lier', 'mechelen', 'nijlen', 'putte', 'sint-katelijne-waver', 'willebroek', 'puurs-sint-amands', 'arendonk', 'baarle-hertog', 'balen', 'beerse', 'dessel', 'geel', 'grobbendonk', 'herentals', 'herenthout', 'herselt', 'hoogstraten', 'hulshout', 'kasterlee', 'lille', 'meerhout', 'merksplas', 'mol', 'olen', 'oud-turnhout', 'ravels', 'retie', 'rijkevorsel', 'turnhout', 'vorselaar', 'vosselaar', 'westerlo', 'laakdal', 'anderlecht', 'oudergem', 'sint-agatha-berchem', 'brussels', 'etterbeek', 'evere', 'vorst', 'ganshoren', 'elsene', 'jette', 'koekelberg', 'sint-jans-molenbeek', 'sint-gillis', 'sint-joost-ten-node', 'schaarbeek', 'ukkel', 'watermaal-bosvoorde', 'sint-lambrechts-woluwe', 'sint-pieters-woluwe', 'asse', 'beersel', 'bever', 'dilbeek', 'galmaarden', 'gooik', 'grimbergen', 'halle', 'herne', 'hoeilaart', 'kampenhout', 'kapelle-op-den-bos', 'liedekerke', 'londerzeel', 'machelen', 'meise', 'merchtem', 'opwijk', 'overijse', 'pepingen', 'sint-pieters-leeuw', 'steenokkerzeel', 'ternat', 'vilvoorde', 'zaventem', 'zemst', 'roosdaal', 'drogenbos', 'kraainem', 'linkebeek', 'sint-genesius-rode', 'wemmel', 'wezembeek-oppem', 'lennik', 'affligem', 'aarschot', 'begijnendijk', 'bekkevoort', 'bertem', 'bierbeek', 'boortmeerbeek', 'boutersem', 'diest', 'geetbets', 'haacht', 'herent', 'hoegaarden', 'holsbeek', 'huldenberg', 'keerbergen', 'kortenaken', 'kortenberg', 'landen', 'leuven', 'lubbeek', 'oud-heverlee', 'rotselaar', 'tervuren(3)', 'tienen', 'tremelo', 'zoutleeuw', 'linter', 'scherpenheuvel-zichem', 'tielt-winge', 'glabbeek', 'bevekom', 'eigenbrakel', 'kasteelbrakel', 'chaumont-gistoux', 'court-saint-etienne', 'genepiën', 'graven', 'incourt', 'itter', 'geldenaken', 'terhulpen', 'mont-saint-guibert', 'nijvel', 'perwijs', 'rixensart', 'tubeke', 'villers-la-ville', 'waterloo', 'waver', 'chastre', 'hélécine', 'lasne', 'orp-jauche', 'ottignies-louvain-la-neuve', 'ramillies', 'rebecq', 'walhain', 'beernem', 'blankenberge', 'brugge', 'damme', 'jabbeke', 'oostkamp', 'torhout', 'zedelgem', 'zuienkerke', 'knokke-heist', 'diksmuide', 'houthulst', 'koekelare', 'kortemark', 'lo-reninge', 'ieper', 'mesen', 'poperinge', 'wervik', 'zonnebeke', 'heuvelland', 'langemark-poelkapelle', 'vleteren', 'anzegem', 'avelgem', 'deerlijk', 'harelbeke', 'kortrijk', 'kuurne', 'lendelede', 'menen', 'waregem', 'wevelgem', 'zwevegem', 'spiere-helkijn', 'bredene', 'gistel', 'ichtegem', 'middelkerke', 'oostende', 'oudenburg', 'de haan', 'hooglede', 'ingelmunster', 'izegem', 'ledegem', 'lichtervelde', 'moorslede', 'roeselare', 'staden', 'dentergem', 'meulebeke', 'oostrozebeke', 'pittem', 'ruiselede', 'tielt', 'wielsbeke', 'wingene', 'ardooie', 'alveringem', 'de panne', 'koksijde', 'nieuwpoort', 'veurne', 'aalst', 'denderleeuw', 'geraardsbergen', 'haaltert', 'herzele', 'lede', 'ninove', 'sint-lievens-houtem', 'zottegem', 'erpe-mere', 'berlare', 'buggenhout', 'dendermonde', 'hamme', 'laarne', 'lebbeke', 'waasmunster', 'wetteren', 'wichelen', 'zele', 'assenede', 'eeklo', 'kaprijke', 'maldegem', 'sint-laureins', 'zelzate', 'de pinte', 'destelbergen', 'evergem', 'gavere', 'gent', 'lochristi', 'melle', 'merelbeke', 'moerbeke', 'nazareth', 'oosterzele', 'sint-martens-latem', 'wachtebeke', 'zulte', 'deinze', 'aalter', 'lievegem', 'oudenaarde', 'ronse', 'brakel', 'kluisbergen', 'wortegem-petegem', 'horebeke', 'lierde', 'maarkedal', 'zwalm', 'kruisem', 'beveren', 'kruibeke', 'lokeren', 'sint-gillis-waas', 'sint-niklaas', 'stekene', 'temse', 'aat', 'beloeil', 'bernissart', 'brugelette', 'chièvres', 'elzele', 'vloesberg', 'frasnes-lez-anvaing', 'edingen', 'opzullik', 'lessen', 'chapelle-lez-herlaimont', 'charleroi', 'châtelet', 'courcelles', 'farciennes', 'fleurus', 'fontaine-l’evêque', 'gerpinnes', 'montigny-le-tilleul', 'pont-à-celles', 'aiseau-presles', 'les bons villers', 'boussu', 'dour', 'frameries', 'hensies', 'jurbeke', 'lens', 'bergen', 'quaregnon', 'quiévrain', 'saint-ghislain', 'colfontaine', 'honnelles', 'quévy', '’s gravenbrakel', 'le roeulx', 'zinnik', 'ecaussinnes', 'seneffe', 'manage', 'anderlues', 'beaumont', 'chimay', 'erquelinnes', 'froidchapelle', 'lobbes', 'merbes-le-château', 'momignies', 'thuin', 'ham-sur-heure-nalinnes', 'sivry-rance', 'antoing', 'celles', 'estaimpuis', 'pecq', 'péruwelz', 'rumes', 'doornik', 'brunehaut', 'leuze-en-hainaut', 'mont-de-l’enclus', 'moeskroen', 'komen-waasten', 'la louvière', 'binche', 'estinnes', 'morlanwelz', 'amay', 'burdinne', 'clavier', 'ferrières', 'hamoir', 'héron', 'hoei', 'marchin', 'modave', 'nandrin', 'ouffet', 'verlaine', 'villers-le-bouillet', 'wanze', 'anthisnes', 'engis', 'tinlot', 'ans', 'awans', 'aywaille', 'bitsingen', 'beyne-heusay', 'chaudfontaine', 'comblain-au-pont', 'dalhem', 'esneux', 'fléron', 'herstal', 'juprelle', 'luik', 'oupeye', 'saint-nicolas', 'seraing', 'soumagne', 'sprimont', 'wezet', 'grâce-hollogne', 'blegny', 'flémalle', 'neupré', 'trooz', 'amel', 'aubel', 'baelen', 'büllingen', 'bütgenbach', 'dison', 'eupen', 'herve', 'jalhay', 'kelmis', 'lierneux', 'limburg', 'lontzen', 'malmedy', 'olne', 'pepinster', 'raeren', 'sankt vith', 'spa', 'stavelot', 'stoumont', 'theux', 'verviers', 'weismes', 'welkenraedt', 'trois-ponts', 'burg-reuland', 'plombières', 'thimister-clermont', 'berloz', 'braives', 'crisnée', 'donceel', 'fexhe-le-haut-clocher', 'geer', 'hannuit', 'lijsem', 'oerle', 'remicourt', 'saint-georges-sur-meuse', 'borgworm', 'wasseiges', 'faimes', 'as', 'beringen', 'diepenbeek', 'genk', 'gingelom', 'halen', 'hasselt', 'herk-de-stad', 'leopoldsburg', 'lummen', 'nieuwerkerken', 'sint-truiden', 'tessenderlo', 'zonhoven', 'zutendaal', 'ham', 'heusden-zolder', 'bocholt', 'bree', 'kinrooi', 'lommel', 'maaseik', 'peer', 'hamont-achel', 'hechtel-eksel', 'houthalen-helchteren', 'dilsen-stokkem', 'oudsbergen', 'pelt', 'alken', 'bilzen', 'borgloon', 'heers', 'hoeselt', 'kortessem', 'lanaken', 'riemst', 'tongeren**', 'wellen', 'maasmechelen', 'voeren', 'aarlen', 'attert', 'aubange', 'martelange', 'messancy', 'bastenaken', 'bertogne', 'fauvillers', 'houffalize', 'vielsalm', 'vaux-sur-sûre', 'gouvy', 'sainte-ode', 'durbuy', 'erezée', 'hotton', 'la roche-en-ardenne', 'marche-en-famenne', 'nassogne', 'rendeux', 'tenneville', 'manhay', 'bertrix', 'bouillon', 'daverdisse', 'herbeumont', 'léglise', 'libin', 'neufchâteau', 'paliseul', 'saint-hubert', 'tellin', 'wellin', 'libramont-chevigny', 'chiny', 'etalle', 'florenville', 'meix-devant-virton', 'musson', 'saint-léger', 'tintigny', 'virton', 'habay', 'rouvroy', 'anhée', 'beauraing', 'bièvre', 'ciney', 'dinant', 'gedinne', 'hamois', 'havelange', 'houyet', 'onhaye', 'rochefort', 'somme-leuze', 'yvoir', 'hastière', 'vresse-sur-semois', 'andenne', 'assesse', 'eghezée', 'floreffe', 'fosses-la-ville', 'gesves', 'mettet', 'namen', 'ohey', 'profondeville', 'sombreffe', 'sambreville', 'fernelmont', 'jemeppe-sur-sambre', 'la bruyère', 'gembloux', 'cerfontaine', 'couvin', 'doische', 'florennes', 'philippeville', 'walcourt', 'viroinval']\n"
     ]
    }
   ],
   "source": [
    "municipalities = id[\"locality\"].unique().tolist()\n",
    "print((municipalities))"
   ]
  },
  {
   "cell_type": "code",
   "execution_count": 663,
   "metadata": {},
   "outputs": [
    {
     "data": {
      "text/plain": [
       "locality\n",
       "Knokke-Heist                  542\n",
       "Antwerpen                     367\n",
       "Oostende                      340\n",
       "Gent                          285\n",
       "Knokke                        276\n",
       "                             ... \n",
       "COUTHUIN                        1\n",
       "CUESMES                         1\n",
       "Marchienne-au-Pont              1\n",
       "Marche-en-Famenne, Marloie      1\n",
       "‘s Gravenwezel Schilde          1\n",
       "Name: locality, Length: 2261, dtype: int64"
      ]
     },
     "execution_count": 663,
     "metadata": {},
     "output_type": "execute_result"
    }
   ],
   "source": [
    "locality_count = (df.groupby(\"locality\")[\"locality\"].agg(\"count\")).sort_values(ascending=False)\n",
    "locality_count\n",
    "\n"
   ]
  },
  {
   "cell_type": "code",
   "execution_count": 664,
   "metadata": {},
   "outputs": [
    {
     "data": {
      "text/plain": [
       "1915"
      ]
     },
     "execution_count": 664,
     "metadata": {},
     "output_type": "execute_result"
    }
   ],
   "source": [
    "len(locality_count[locality_count<10])"
   ]
  },
  {
   "cell_type": "code",
   "execution_count": 665,
   "metadata": {},
   "outputs": [
    {
     "data": {
      "text/plain": [
       "(16111, 25)"
      ]
     },
     "execution_count": 665,
     "metadata": {},
     "output_type": "execute_result"
    }
   ],
   "source": [
    "df.shape"
   ]
  },
  {
   "cell_type": "code",
   "execution_count": 666,
   "metadata": {},
   "outputs": [
    {
     "name": "stdout",
     "output_type": "stream",
     "text": [
      "+-------------------+-------+\n",
      "|        Axis       | Count |\n",
      "+-------------------+-------+\n",
      "|   Number of Rows  | 16059 |\n",
      "| Number of Columns |   26  |\n",
      "+-------------------+-------+\n",
      "+------------------+-----------+----------------+\n",
      "|   Column Name    | NaN Count | NaN Percentage |\n",
      "+------------------+-----------+----------------+\n",
      "|     bedrooms     |     0     |     0.00%      |\n",
      "|  property_type   |     0     |     0.00%      |\n",
      "| property_subtype |     0     |     0.00%      |\n",
      "|     locality     |     0     |     0.00%      |\n",
      "|   postal_code    |     0     |     0.00%      |\n",
      "|     kitchen      |     0     |     0.00%      |\n",
      "|     facades      |    4527   |     28.19%     |\n",
      "|      price       |     0     |     0.00%      |\n",
      "|    furnished     |     0     |     0.00%      |\n",
      "|     terrace      |     0     |     0.00%      |\n",
      "|  terraceSurface  |    4755   |     29.61%     |\n",
      "|    fireplace     |     0     |     0.00%      |\n",
      "|  buildingState   |    2713   |     16.89%     |\n",
      "|      garden      |     0     |     0.00%      |\n",
      "|  gardenSurface   |     0     |     0.00%      |\n",
      "|       pool       |     0     |     0.00%      |\n",
      "|    livingArea    |    933    |     5.81%      |\n",
      "| surfaceOfThePlot |    7150   |     44.52%     |\n",
      "|    typeOfSale    |   12615   |     78.55%     |\n",
      "|     province     |     0     |     0.00%      |\n",
      "|   house_index    |     0     |     0.00%      |\n",
      "+------------------+-----------+----------------+\n",
      "+-------------------+-------+\n",
      "|        Axis       | Count |\n",
      "+-------------------+-------+\n",
      "|   Number of Rows  | 15126 |\n",
      "| Number of Columns |   17  |\n",
      "+-------------------+-------+\n",
      "+------------------+-----------+----------------+\n",
      "|   Column Name    | NaN Count | NaN Percentage |\n",
      "+------------------+-----------+----------------+\n",
      "|     bedrooms     |     0     |     0.00%      |\n",
      "|  property_type   |     0     |     0.00%      |\n",
      "|     locality     |     0     |     0.00%      |\n",
      "|   postal_code    |     0     |     0.00%      |\n",
      "|     kitchen      |     0     |     0.00%      |\n",
      "|     facades      |    4124   |     27.26%     |\n",
      "|      price       |     0     |     0.00%      |\n",
      "|    furnished     |     0     |     0.00%      |\n",
      "|  terraceSurface  |     0     |     0.00%      |\n",
      "|    fireplace     |     0     |     0.00%      |\n",
      "|  buildingState   |    2497   |     16.51%     |\n",
      "|  gardenSurface   |     0     |     0.00%      |\n",
      "|       pool       |     0     |     0.00%      |\n",
      "|    livingArea    |     0     |     0.00%      |\n",
      "| surfaceOfThePlot |    6824   |     45.11%     |\n",
      "|     province     |     0     |     0.00%      |\n",
      "|   house_index    |     0     |     0.00%      |\n",
      "+------------------+-----------+----------------+\n"
     ]
    },
    {
     "name": "stderr",
     "output_type": "stream",
     "text": [
      "/var/folders/q0/n2m_wdk56vqcbt6h62ljwtjc0000gn/T/ipykernel_19945/1023152778.py:13: FutureWarning: Downcasting behavior in `replace` is deprecated and will be removed in a future version. To retain the old behavior, explicitly call `result.infer_objects(copy=False)`. To opt-in to the future behavior, set `pd.set_option('future.no_silent_downcasting', True)`\n",
      "  df['buildingState'] = df['buildingState'].replace({\n"
     ]
    }
   ],
   "source": [
    "import pandas as pd\n",
    "import seaborn as sns\n",
    "import matplotlib.pyplot as plt\n",
    "from prettytable import PrettyTable\n",
    "from scipy import stats\n",
    "\n",
    "\n",
    "#Additional data cleaning and renaming\n",
    "df = df[df['price'] >= 40000]\n",
    "df = df[df['bedrooms'] <= 9]\n",
    "df['house_index'] = range(1, len(df) + 1)\n",
    "\n",
    "df['buildingState'] = df['buildingState'].replace({\n",
    "    'AS_NEW': 1,\n",
    "    'JUST_RENOVATED': 2,\n",
    "    'GOOD': 3,\n",
    "    'TO_RESTORE': 4,\n",
    "    'TO_RENOVATE': 4,\n",
    "    'TO_BE_DONE_UP':4\n",
    "})\n",
    "\n",
    "\n",
    "#print(df['buildingState'].nunique())\n",
    "#print(df['buildingState'].unique())\n",
    "\n",
    "\n",
    "df['province'] = df['province'].replace({'flemish_brabant_extended': 'flemish_brabant', 'hainaut_extended': 'hainaut_province'})\n",
    "df['province'] = df['province'].replace({'flemish_brabant': 'Flemish Brabant', 'hainaut_province': 'Hainaut', 'antwerp_province': 'Antwerp', 'brussels_capital': 'Brussels', \n",
    "                                         'limburg_province': 'Limburg', 'liège_province': 'Liège', 'luxembourg_province': 'Luxembourg', 'namur_province': 'Namur', \n",
    "                                         'walloon_brabant': 'Walloon Brabant', 'west_flanders': 'West Flanders','east_flanders': 'East Flanders'})\n",
    "#print(df['province'].nunique())\n",
    "#print(df['province'].unique())\n",
    "\n",
    "\n",
    "#Number of rows and columns and useless columns dropped\n",
    "rows, columns = df.shape\n",
    "table = PrettyTable()\n",
    "table.field_names = [\"Axis\", \"Count\"]\n",
    "table.add_row([\"Number of Rows\", rows])\n",
    "table.add_row([\"Number of Columns\", columns])\n",
    "print(table)\n",
    "df = df.drop(['street', 'number', 'box', 'landSurface', 'fireplaceCount'], axis=1)\n",
    "\n",
    "#NaN counts before changes\n",
    "nan_count = df.isna().sum()\n",
    "total_rows = len(df)\n",
    "table = PrettyTable()\n",
    "table.field_names = [\"Column Name\", \"NaN Count\", \"NaN Percentage\"]\n",
    "for column_name in nan_count.index:\n",
    "    nan_percentage = (nan_count[column_name] / total_rows) * 100\n",
    "    table.add_row([column_name, nan_count[column_name], f\"{nan_percentage:.2f}%\"])\n",
    "print(table)\n",
    "\n",
    "#Cleaning\n",
    "columns_to_replace = ['terraceSurface']\n",
    "df[columns_to_replace] = df[columns_to_replace].fillna(0)\n",
    "df = df.dropna(subset=['livingArea'])\n",
    "df = df.drop(['property_subtype', 'typeOfSale', 'terrace', 'garden'], axis=1)\n",
    "\n",
    "#Summary after changes\n",
    "rows, columns = df.shape\n",
    "table = PrettyTable()\n",
    "table.field_names = [\"Axis\", \"Count\"]\n",
    "table.add_row([\"Number of Rows\", rows])\n",
    "table.add_row([\"Number of Columns\", columns])\n",
    "print(table)\n",
    "\n",
    "nan_count = df.isna().sum()\n",
    "total_rows = len(df)\n",
    "table = PrettyTable()\n",
    "table.field_names = [\"Column Name\", \"NaN Count\", \"NaN Percentage\"]\n",
    "for column_name in nan_count.index:\n",
    "    nan_percentage = (nan_count[column_name] / total_rows) * 100\n",
    "    table.add_row([column_name, nan_count[column_name], f\"{nan_percentage:.2f}%\"])\n",
    "print(table)\n"
   ]
  },
  {
   "cell_type": "code",
   "execution_count": 667,
   "metadata": {},
   "outputs": [],
   "source": [
    "from fuzzywuzzy import process\n",
    "df2=df.copy()\n",
    "df2[\"median_income\"] = None\n"
   ]
  },
  {
   "cell_type": "code",
   "execution_count": 668,
   "metadata": {},
   "outputs": [
    {
     "name": "stdout",
     "output_type": "stream",
     "text": [
      "<class 'pandas.core.frame.DataFrame'>\n",
      "RangeIndex: 579 entries, 0 to 578\n",
      "Data columns (total 7 columns):\n",
      " #   Column         Non-Null Count  Dtype  \n",
      "---  ------         --------------  -----  \n",
      " 0   median_income  579 non-null    float64\n",
      " 1   locality       579 non-null    object \n",
      " 2   postal_code    579 non-null    int64  \n",
      " 3   province       478 non-null    object \n",
      " 4   latitude       579 non-null    float64\n",
      " 5   longitude      579 non-null    float64\n",
      " 6   new_column     579 non-null    object \n",
      "dtypes: float64(3), int64(1), object(3)\n",
      "memory usage: 31.8+ KB\n"
     ]
    }
   ],
   "source": [
    "id.info()"
   ]
  },
  {
   "cell_type": "code",
   "execution_count": 669,
   "metadata": {},
   "outputs": [
    {
     "name": "stdout",
     "output_type": "stream",
     "text": [
      "<class 'pandas.core.frame.DataFrame'>\n",
      "Index: 15126 entries, 0 to 19963\n",
      "Data columns (total 18 columns):\n",
      " #   Column            Non-Null Count  Dtype  \n",
      "---  ------            --------------  -----  \n",
      " 0   bedrooms          15126 non-null  int64  \n",
      " 1   property_type     15126 non-null  object \n",
      " 2   locality          15126 non-null  object \n",
      " 3   postal_code       15126 non-null  int64  \n",
      " 4   kitchen           15126 non-null  int64  \n",
      " 5   facades           11002 non-null  float64\n",
      " 6   price             15126 non-null  float64\n",
      " 7   furnished         15126 non-null  int64  \n",
      " 8   terraceSurface    15126 non-null  float64\n",
      " 9   fireplace         15126 non-null  int64  \n",
      " 10  buildingState     12629 non-null  float64\n",
      " 11  gardenSurface     15126 non-null  int64  \n",
      " 12  pool              15126 non-null  int64  \n",
      " 13  livingArea        15126 non-null  float64\n",
      " 14  surfaceOfThePlot  8302 non-null   float64\n",
      " 15  province          15126 non-null  object \n",
      " 16  house_index       15126 non-null  int64  \n",
      " 17  median_income     0 non-null      object \n",
      "dtypes: float64(6), int64(8), object(4)\n",
      "memory usage: 2.2+ MB\n"
     ]
    }
   ],
   "source": [
    "df2.info()\n"
   ]
  },
  {
   "cell_type": "code",
   "execution_count": 670,
   "metadata": {},
   "outputs": [
    {
     "data": {
      "text/plain": [
       "house_index\n",
       "0        3000\n",
       "1        9950\n",
       "2        2140\n",
       "3        6838\n",
       "4        4460\n",
       "         ... \n",
       "19953    6182\n",
       "19956    1420\n",
       "19961    8300\n",
       "19962    8300\n",
       "19963    8300\n",
       "Name: postal_code, Length: 15126, dtype: int64"
      ]
     },
     "execution_count": 670,
     "metadata": {},
     "output_type": "execute_result"
    }
   ],
   "source": [
    "df2[\"postal_code\"].astype(int)"
   ]
  },
  {
   "cell_type": "code",
   "execution_count": 671,
   "metadata": {},
   "outputs": [],
   "source": [
    "import pandas as pd\n",
    "from fuzzywuzzy import process\n",
    "\n",
    "def match_income(row, id, log_file=\"match_results.csv\", unmatched_file=\"unmatched_results.csv\"):\n",
    "    \"\"\"\n",
    "    Match income based on postal code or locality.\n",
    "    \n",
    "    Priority:\n",
    "    1. Exact match on postal code.\n",
    "    2. Fuzzy match on locality.\n",
    "    \n",
    "    If no match is found, return None.\n",
    "    Log each iteration to a CSV for double-checking.\n",
    "    \"\"\"\n",
    "    # Create a dictionary to log results for this row\n",
    "    log_data = {\n",
    "        \"postal_code\": row['postal_code'],\n",
    "        \"locality\": row['locality'],\n",
    "        \"province\": row['province'],\n",
    "        \"match_type\": \"None\",\n",
    "        \"matched_value\": None,\n",
    "        \"median_income\": None\n",
    "    }\n",
    "\n",
    "    # Attempt exact match on postal code\n",
    "    postal_matches = id[id['postal_code'] == row['postal_code']]\n",
    "    if not postal_matches.empty:\n",
    "        matched_income = postal_matches['median_income'].values[0]\n",
    "        log_data.update({\n",
    "            \"match_type\": \"Postal Code\",\n",
    "            \"matched_value\": row['postal_code'],\n",
    "            \"median_income\": matched_income\n",
    "        })\n",
    "        append_to_log(log_data, log_file)\n",
    "        return matched_income\n",
    "\n",
    "    # Fuzzy match on locality\n",
    "    best_match = process.extractOne(row['locality'], id['locality'])\n",
    "    if best_match and best_match[1] > 80:  # Ensure the match score is above a threshold\n",
    "        matched_locality = best_match[0]\n",
    "        matched_income = id[id['locality'] == matched_locality]['median_income'].values[0]\n",
    "        log_data.update({\n",
    "            \"match_type\": \"Locality\",\n",
    "            \"matched_value\": matched_locality,\n",
    "            \"median_income\": matched_income\n",
    "        })\n",
    "        append_to_log(log_data, log_file)\n",
    "        return matched_income\n",
    "\n",
    "    # No match found; log to the unmatched file\n",
    "    append_to_log(log_data, unmatched_file)\n",
    "    return None\n",
    "\n",
    "def append_to_log(log_data, log_file):\n",
    "    \"\"\"\n",
    "    Append log data to the specified CSV file.\n",
    "    \"\"\"\n",
    "    # Convert the log data dictionary to a DataFrame\n",
    "    log_df = pd.DataFrame([log_data])\n",
    "\n",
    "    # Append to the CSV file\n",
    "    try:\n",
    "        # If the file exists, append without writing the header\n",
    "        log_df.to_csv(log_file, mode='a', index=False, header=False)\n",
    "    except FileNotFoundError:\n",
    "        # If the file does not exist, write with the header\n",
    "        log_df.to_csv(log_file, mode='w', index=False, header=True)\n"
   ]
  },
  {
   "cell_type": "code",
   "execution_count": 672,
   "metadata": {},
   "outputs": [],
   "source": [
    "#Apply FuzzyMatch\n",
    "df2['median_income'] = df2.apply(match_income, axis=1, id=id)"
   ]
  },
  {
   "cell_type": "code",
   "execution_count": 673,
   "metadata": {},
   "outputs": [],
   "source": [
    "missing_media = df2[df2[\"median_income\"].isna()]\n",
    "df3 = df2.drop(missing_media.index)\n"
   ]
  },
  {
   "cell_type": "code",
   "execution_count": 674,
   "metadata": {},
   "outputs": [
    {
     "data": {
      "text/plain": [
       "(13370, 18)"
      ]
     },
     "execution_count": 674,
     "metadata": {},
     "output_type": "execute_result"
    }
   ],
   "source": [
    "df3.shape"
   ]
  },
  {
   "cell_type": "code",
   "execution_count": 675,
   "metadata": {},
   "outputs": [
    {
     "name": "stdout",
     "output_type": "stream",
     "text": [
      "Missing values count: 0\n",
      "Preview of missing rows:\n",
      "Empty DataFrame\n",
      "Columns: [bedrooms, property_type, locality, postal_code, kitchen, facades, price, furnished, terraceSurface, fireplace, buildingState, gardenSurface, pool, livingArea, surfaceOfThePlot, province, house_index, median_income]\n",
      "Index: []\n"
     ]
    }
   ],
   "source": [
    "# Count missing values in the 'median_income' column\n",
    "missing_count = df3['median_income'].isna().sum()\n",
    "print(f\"Missing values count: {missing_count}\")\n",
    "\n",
    "# Preview rows with missing values\n",
    "missing_preview = df3[df3['median_income'].isna()]\n",
    "print(\"Preview of missing rows:\")\n",
    "print(missing_preview.head())\n"
   ]
  },
  {
   "cell_type": "code",
   "execution_count": 676,
   "metadata": {},
   "outputs": [
    {
     "name": "stdout",
     "output_type": "stream",
     "text": [
      "<class 'pandas.core.frame.DataFrame'>\n",
      "Index: 13370 entries, 0 to 19963\n",
      "Data columns (total 18 columns):\n",
      " #   Column            Non-Null Count  Dtype  \n",
      "---  ------            --------------  -----  \n",
      " 0   bedrooms          13370 non-null  int64  \n",
      " 1   property_type     13370 non-null  object \n",
      " 2   locality          13370 non-null  object \n",
      " 3   postal_code       13370 non-null  int64  \n",
      " 4   kitchen           13370 non-null  int64  \n",
      " 5   facades           9650 non-null   float64\n",
      " 6   price             13370 non-null  float64\n",
      " 7   furnished         13370 non-null  int64  \n",
      " 8   terraceSurface    13370 non-null  float64\n",
      " 9   fireplace         13370 non-null  int64  \n",
      " 10  buildingState     11164 non-null  float64\n",
      " 11  gardenSurface     13370 non-null  int64  \n",
      " 12  pool              13370 non-null  int64  \n",
      " 13  livingArea        13370 non-null  float64\n",
      " 14  surfaceOfThePlot  7363 non-null   float64\n",
      " 15  province          13370 non-null  object \n",
      " 16  house_index       13370 non-null  int64  \n",
      " 17  median_income     13370 non-null  float64\n",
      "dtypes: float64(7), int64(8), object(3)\n",
      "memory usage: 1.9+ MB\n"
     ]
    }
   ],
   "source": [
    "df3.info()"
   ]
  },
  {
   "cell_type": "code",
   "execution_count": 633,
   "metadata": {},
   "outputs": [
    {
     "data": {
      "text/html": [
       "<div>\n",
       "<style scoped>\n",
       "    .dataframe tbody tr th:only-of-type {\n",
       "        vertical-align: middle;\n",
       "    }\n",
       "\n",
       "    .dataframe tbody tr th {\n",
       "        vertical-align: top;\n",
       "    }\n",
       "\n",
       "    .dataframe thead th {\n",
       "        text-align: right;\n",
       "    }\n",
       "</style>\n",
       "<table border=\"1\" class=\"dataframe\">\n",
       "  <thead>\n",
       "    <tr style=\"text-align: right;\">\n",
       "      <th></th>\n",
       "      <th>bedrooms</th>\n",
       "      <th>property_type</th>\n",
       "      <th>locality</th>\n",
       "      <th>postal_code</th>\n",
       "      <th>kitchen</th>\n",
       "      <th>facades</th>\n",
       "      <th>price</th>\n",
       "      <th>furnished</th>\n",
       "      <th>terraceSurface</th>\n",
       "      <th>fireplace</th>\n",
       "      <th>buildingState</th>\n",
       "      <th>gardenSurface</th>\n",
       "      <th>pool</th>\n",
       "      <th>livingArea</th>\n",
       "      <th>surfaceOfThePlot</th>\n",
       "      <th>province</th>\n",
       "      <th>house_index</th>\n",
       "      <th>median_income</th>\n",
       "    </tr>\n",
       "    <tr>\n",
       "      <th>house_index</th>\n",
       "      <th></th>\n",
       "      <th></th>\n",
       "      <th></th>\n",
       "      <th></th>\n",
       "      <th></th>\n",
       "      <th></th>\n",
       "      <th></th>\n",
       "      <th></th>\n",
       "      <th></th>\n",
       "      <th></th>\n",
       "      <th></th>\n",
       "      <th></th>\n",
       "      <th></th>\n",
       "      <th></th>\n",
       "      <th></th>\n",
       "      <th></th>\n",
       "      <th></th>\n",
       "      <th></th>\n",
       "    </tr>\n",
       "  </thead>\n",
       "  <tbody>\n",
       "    <tr>\n",
       "      <th>0</th>\n",
       "      <td>2</td>\n",
       "      <td>APARTMENT</td>\n",
       "      <td>LEUVEN</td>\n",
       "      <td>3000</td>\n",
       "      <td>1</td>\n",
       "      <td>2.0</td>\n",
       "      <td>299500.0</td>\n",
       "      <td>0</td>\n",
       "      <td>0.0</td>\n",
       "      <td>0</td>\n",
       "      <td>4.0</td>\n",
       "      <td>100</td>\n",
       "      <td>0</td>\n",
       "      <td>60.0</td>\n",
       "      <td>NaN</td>\n",
       "      <td>Flemish Brabant</td>\n",
       "      <td>1</td>\n",
       "      <td>29834.0</td>\n",
       "    </tr>\n",
       "    <tr>\n",
       "      <th>1</th>\n",
       "      <td>3</td>\n",
       "      <td>HOUSE</td>\n",
       "      <td>Waarschoot</td>\n",
       "      <td>9950</td>\n",
       "      <td>1</td>\n",
       "      <td>NaN</td>\n",
       "      <td>360000.0</td>\n",
       "      <td>0</td>\n",
       "      <td>0.0</td>\n",
       "      <td>0</td>\n",
       "      <td>2.0</td>\n",
       "      <td>0</td>\n",
       "      <td>0</td>\n",
       "      <td>136.0</td>\n",
       "      <td>260.0</td>\n",
       "      <td>East Flanders</td>\n",
       "      <td>2</td>\n",
       "      <td>29467.0</td>\n",
       "    </tr>\n",
       "    <tr>\n",
       "      <th>3</th>\n",
       "      <td>5</td>\n",
       "      <td>HOUSE</td>\n",
       "      <td>Bouillon Corbion</td>\n",
       "      <td>6838</td>\n",
       "      <td>1</td>\n",
       "      <td>2.0</td>\n",
       "      <td>149500.0</td>\n",
       "      <td>0</td>\n",
       "      <td>15.0</td>\n",
       "      <td>0</td>\n",
       "      <td>4.0</td>\n",
       "      <td>400</td>\n",
       "      <td>0</td>\n",
       "      <td>156.0</td>\n",
       "      <td>562.0</td>\n",
       "      <td>Luxembourg</td>\n",
       "      <td>4</td>\n",
       "      <td>24705.0</td>\n",
       "    </tr>\n",
       "    <tr>\n",
       "      <th>4</th>\n",
       "      <td>2</td>\n",
       "      <td>HOUSE</td>\n",
       "      <td>Grâce-Hollogne</td>\n",
       "      <td>4460</td>\n",
       "      <td>1</td>\n",
       "      <td>2.0</td>\n",
       "      <td>179000.0</td>\n",
       "      <td>0</td>\n",
       "      <td>0.0</td>\n",
       "      <td>0</td>\n",
       "      <td>4.0</td>\n",
       "      <td>275</td>\n",
       "      <td>0</td>\n",
       "      <td>151.0</td>\n",
       "      <td>476.0</td>\n",
       "      <td>Liège</td>\n",
       "      <td>5</td>\n",
       "      <td>24818.0</td>\n",
       "    </tr>\n",
       "    <tr>\n",
       "      <th>5</th>\n",
       "      <td>3</td>\n",
       "      <td>HOUSE</td>\n",
       "      <td>Ans</td>\n",
       "      <td>4430</td>\n",
       "      <td>1</td>\n",
       "      <td>2.0</td>\n",
       "      <td>230000.0</td>\n",
       "      <td>1</td>\n",
       "      <td>40.0</td>\n",
       "      <td>1</td>\n",
       "      <td>3.0</td>\n",
       "      <td>187</td>\n",
       "      <td>0</td>\n",
       "      <td>115.0</td>\n",
       "      <td>255.0</td>\n",
       "      <td>Liège</td>\n",
       "      <td>6</td>\n",
       "      <td>25054.0</td>\n",
       "    </tr>\n",
       "    <tr>\n",
       "      <th>...</th>\n",
       "      <td>...</td>\n",
       "      <td>...</td>\n",
       "      <td>...</td>\n",
       "      <td>...</td>\n",
       "      <td>...</td>\n",
       "      <td>...</td>\n",
       "      <td>...</td>\n",
       "      <td>...</td>\n",
       "      <td>...</td>\n",
       "      <td>...</td>\n",
       "      <td>...</td>\n",
       "      <td>...</td>\n",
       "      <td>...</td>\n",
       "      <td>...</td>\n",
       "      <td>...</td>\n",
       "      <td>...</td>\n",
       "      <td>...</td>\n",
       "      <td>...</td>\n",
       "    </tr>\n",
       "    <tr>\n",
       "      <th>19921</th>\n",
       "      <td>3</td>\n",
       "      <td>HOUSE</td>\n",
       "      <td>Wetteren</td>\n",
       "      <td>9230</td>\n",
       "      <td>0</td>\n",
       "      <td>3.0</td>\n",
       "      <td>435000.0</td>\n",
       "      <td>0</td>\n",
       "      <td>0.0</td>\n",
       "      <td>0</td>\n",
       "      <td>3.0</td>\n",
       "      <td>0</td>\n",
       "      <td>0</td>\n",
       "      <td>185.0</td>\n",
       "      <td>417.0</td>\n",
       "      <td>East Flanders</td>\n",
       "      <td>16035</td>\n",
       "      <td>28519.0</td>\n",
       "    </tr>\n",
       "    <tr>\n",
       "      <th>19949</th>\n",
       "      <td>2</td>\n",
       "      <td>APARTMENT</td>\n",
       "      <td>Oostende</td>\n",
       "      <td>8400</td>\n",
       "      <td>0</td>\n",
       "      <td>NaN</td>\n",
       "      <td>249000.0</td>\n",
       "      <td>0</td>\n",
       "      <td>0.0</td>\n",
       "      <td>0</td>\n",
       "      <td>4.0</td>\n",
       "      <td>0</td>\n",
       "      <td>0</td>\n",
       "      <td>77.0</td>\n",
       "      <td>NaN</td>\n",
       "      <td>West Flanders</td>\n",
       "      <td>16045</td>\n",
       "      <td>25635.0</td>\n",
       "    </tr>\n",
       "    <tr>\n",
       "      <th>19961</th>\n",
       "      <td>3</td>\n",
       "      <td>APARTMENT</td>\n",
       "      <td>Knokke-Heist</td>\n",
       "      <td>8300</td>\n",
       "      <td>0</td>\n",
       "      <td>NaN</td>\n",
       "      <td>995000.0</td>\n",
       "      <td>0</td>\n",
       "      <td>0.0</td>\n",
       "      <td>0</td>\n",
       "      <td>3.0</td>\n",
       "      <td>0</td>\n",
       "      <td>0</td>\n",
       "      <td>145.0</td>\n",
       "      <td>NaN</td>\n",
       "      <td>West Flanders</td>\n",
       "      <td>16049</td>\n",
       "      <td>28421.0</td>\n",
       "    </tr>\n",
       "    <tr>\n",
       "      <th>19962</th>\n",
       "      <td>2</td>\n",
       "      <td>APARTMENT</td>\n",
       "      <td>Knokke</td>\n",
       "      <td>8300</td>\n",
       "      <td>0</td>\n",
       "      <td>2.0</td>\n",
       "      <td>995000.0</td>\n",
       "      <td>0</td>\n",
       "      <td>0.0</td>\n",
       "      <td>0</td>\n",
       "      <td>3.0</td>\n",
       "      <td>0</td>\n",
       "      <td>0</td>\n",
       "      <td>83.0</td>\n",
       "      <td>NaN</td>\n",
       "      <td>West Flanders</td>\n",
       "      <td>16050</td>\n",
       "      <td>28421.0</td>\n",
       "    </tr>\n",
       "    <tr>\n",
       "      <th>19963</th>\n",
       "      <td>0</td>\n",
       "      <td>APARTMENT</td>\n",
       "      <td>Knokke</td>\n",
       "      <td>8300</td>\n",
       "      <td>0</td>\n",
       "      <td>NaN</td>\n",
       "      <td>1475000.0</td>\n",
       "      <td>0</td>\n",
       "      <td>0.0</td>\n",
       "      <td>0</td>\n",
       "      <td>NaN</td>\n",
       "      <td>0</td>\n",
       "      <td>0</td>\n",
       "      <td>166.0</td>\n",
       "      <td>NaN</td>\n",
       "      <td>West Flanders</td>\n",
       "      <td>16051</td>\n",
       "      <td>28421.0</td>\n",
       "    </tr>\n",
       "  </tbody>\n",
       "</table>\n",
       "<p>13370 rows × 18 columns</p>\n",
       "</div>"
      ],
      "text/plain": [
       "             bedrooms property_type          locality  postal_code  kitchen  \\\n",
       "house_index                                                                   \n",
       "0                   2     APARTMENT            LEUVEN         3000        1   \n",
       "1                   3         HOUSE        Waarschoot         9950        1   \n",
       "3                   5         HOUSE  Bouillon Corbion         6838        1   \n",
       "4                   2         HOUSE    Grâce-Hollogne         4460        1   \n",
       "5                   3         HOUSE               Ans         4430        1   \n",
       "...               ...           ...               ...          ...      ...   \n",
       "19921               3         HOUSE          Wetteren         9230        0   \n",
       "19949               2     APARTMENT          Oostende         8400        0   \n",
       "19961               3     APARTMENT      Knokke-Heist         8300        0   \n",
       "19962               2     APARTMENT            Knokke         8300        0   \n",
       "19963               0     APARTMENT            Knokke         8300        0   \n",
       "\n",
       "             facades      price  furnished  terraceSurface  fireplace  \\\n",
       "house_index                                                             \n",
       "0                2.0   299500.0          0             0.0          0   \n",
       "1                NaN   360000.0          0             0.0          0   \n",
       "3                2.0   149500.0          0            15.0          0   \n",
       "4                2.0   179000.0          0             0.0          0   \n",
       "5                2.0   230000.0          1            40.0          1   \n",
       "...              ...        ...        ...             ...        ...   \n",
       "19921            3.0   435000.0          0             0.0          0   \n",
       "19949            NaN   249000.0          0             0.0          0   \n",
       "19961            NaN   995000.0          0             0.0          0   \n",
       "19962            2.0   995000.0          0             0.0          0   \n",
       "19963            NaN  1475000.0          0             0.0          0   \n",
       "\n",
       "             buildingState  gardenSurface  pool  livingArea  surfaceOfThePlot  \\\n",
       "house_index                                                                     \n",
       "0                      4.0            100     0        60.0               NaN   \n",
       "1                      2.0              0     0       136.0             260.0   \n",
       "3                      4.0            400     0       156.0             562.0   \n",
       "4                      4.0            275     0       151.0             476.0   \n",
       "5                      3.0            187     0       115.0             255.0   \n",
       "...                    ...            ...   ...         ...               ...   \n",
       "19921                  3.0              0     0       185.0             417.0   \n",
       "19949                  4.0              0     0        77.0               NaN   \n",
       "19961                  3.0              0     0       145.0               NaN   \n",
       "19962                  3.0              0     0        83.0               NaN   \n",
       "19963                  NaN              0     0       166.0               NaN   \n",
       "\n",
       "                    province  house_index  median_income  \n",
       "house_index                                               \n",
       "0            Flemish Brabant            1        29834.0  \n",
       "1              East Flanders            2        29467.0  \n",
       "3                 Luxembourg            4        24705.0  \n",
       "4                      Liège            5        24818.0  \n",
       "5                      Liège            6        25054.0  \n",
       "...                      ...          ...            ...  \n",
       "19921          East Flanders        16035        28519.0  \n",
       "19949          West Flanders        16045        25635.0  \n",
       "19961          West Flanders        16049        28421.0  \n",
       "19962          West Flanders        16050        28421.0  \n",
       "19963          West Flanders        16051        28421.0  \n",
       "\n",
       "[13370 rows x 18 columns]"
      ]
     },
     "execution_count": 633,
     "metadata": {},
     "output_type": "execute_result"
    }
   ],
   "source": [
    "#Convert number formatting of median_income column\n",
    "df3['median_income'] = df3['median_income'] * 1000\n",
    "\n",
    "#make a float\n",
    "df3['median_income'] = df3['median_income'].astype(float)\n",
    "\n",
    "df3\n"
   ]
  },
  {
   "cell_type": "code",
   "execution_count": 290,
   "metadata": {},
   "outputs": [
    {
     "data": {
      "text/plain": [
       "locality\n",
       "antwerp                1\n",
       "theux                  1\n",
       "ouffet                 1\n",
       "verlaine               1\n",
       "villers-le-bouillet    1\n",
       "                      ..\n",
       "lo-reninge             1\n",
       "ieper                  1\n",
       "mesen                  1\n",
       "poperinge              1\n",
       "viroinval              1\n",
       "Name: count, Length: 579, dtype: int64"
      ]
     },
     "execution_count": 290,
     "metadata": {},
     "output_type": "execute_result"
    }
   ],
   "source": [
    "id[\"locality\"].value_counts()"
   ]
  },
  {
   "cell_type": "code",
   "execution_count": 221,
   "metadata": {},
   "outputs": [
    {
     "name": "stdout",
     "output_type": "stream",
     "text": [
      "2200 ['LEUVEN', 'Waarschoot', 'BORGERHOUT', 'Bouillon Corbion', 'Grâce-Hollogne', 'Ans', 'MERKSEM', 'Ganshoren', 'Evere', 'Oosteeklo', 'Erembodegem', 'Gent Drongen', 'Boom', 'MECHELEN', 'TIENEN', 'Brakel', 'ANTWERPEN 2018', 'Dikkelvenne', 'Seraing', 'MELLE', 'Auderghem', 'Ixelles', 'Mechelen', 'Tielt', 'Eeklo', 'Maaseik', 'GERAARDSBERGEN', 'Leuven', 'Ledeberg', 'ANTWERPEN', 'BERCHEM', 'MOLENBEEK-SAINT-JEAN', 'Anderlecht', 'Brussel', 'HEMIKSEM', 'BRUGELETTE', 'FLÉMALLE', 'ERTVELDE', 'Gent', 'DUFFEL', 'Sint-Martens-Latem', 'Ternat', 'Woluwe-Saint-Pierre', 'Geraardsbergen', 'MORTSEL', 'MIDDELKERKE', 'Heusden', 'Mont-Saint-Guibert', 'GENT', 'Geetbets', 'Kraainem', 'Sint-Michiels', 'Heist-op-den-Berg Booischot', 'SINT-KATELIJNE-WAVER', 'EDEGEM', 'HOBOKEN', 'Maarkedal', 'Visé', 'BRASSCHAAT', 'WATERLOO', 'IXELLES', 'BLANKENBERGE', 'WATERMAEL-BOITSFORT', 'Zottegem', 'BOORTMEERBEEK', 'WOMMELGEM', 'BORSBEEK', 'HALLE', 'Liège', 'Wezembeek-Oppem', 'Anzegem', 'ANDERLECHT', 'Oudenaarde', 'Burcht', 'HULSTE', 'AUDERGHEM', 'Uccle', 'Tintigny', 'Kortrijk', 'Knokke', 'Ronse', 'Sint-Amandsberg', 'Asper', 'Aalter', 'Aalst (9300)', 'Moorsel', 'SINT-MARTENS-LATEM', 'Oostduinkerke', 'VICHTE', 'Schilde', 'Laeken', 'Borgerhout', 'Jauche', 'Jodoigne', 'Evergem', 'Bruxelles', 'LAARNE', 'Gentbrugge', 'Waremme', 'Sint-Pieters-Leeuw', 'Denderhoutem', 'Berlare', 'DESTELBERGEN', 'Alken', 'Saint-josse-ten-noode', 'DENDERMONDE', 'DEURNE', 'Blankenberge', 'Duinbergen', 'SINT-LENAARTS', 'Erpe-Mere', 'Jette', 'LEMBEKE', 'Hoeilaart', 'BORNEM', 'Zelzate', 'Dentergem', 'WENDUINE', 'Langemark-Poelkapelle', 'Oostende', 'WEMMEL', 'Knokke-Zoute', 'JODOIGNE', 'De Pinte', 'Oupeye', 'Putte', 'Stabroek', 'Lanaye', 'Willebroek', 'WILRIJK', 'EVERGEM', 'Middelkerke', 'RONSE', 'Westende', 'Duffel', 'Fléron Romsée', 'Sint-Lenaarts', 'Gavere', 'BRUXELLES', 'SINT-JANS-MOLENBEEK', 'Etterbeek', 'LIER', 'Machelen (1830)', 'Saint-Nicolas', 'Wemmel', 'Brecht', 'Waterloo', 'Kessel-Lo', 'Sprimont', 'Bree', 'UCCLE', 'Drongen', 'Antwerpen (2000)', 'Ledegem', 'HARELBEKE', 'SINT-NIKLAAS', 'AALST', 'Ruisbroek (1601)', 'EREMBODEGEM', 'Gent Mariakerke', 'Rhode-Saint-Genèse', 'Gent Sint-Denijs-Westrem', 'Knokke-Heist', 'Oosterzele', 'Antwerpen (2018)', 'MANAGE', 'Oostkamp', 'Assebroek', 'LIERDE', 'Overijse', 'Charleroi Marcinelle', 'Aubange', 'Woluwe-Saint-Lambert', 'AARSCHOT', 'Rollegem', 'Pittem', 'HERENT', 'Rotselaar', 'Herent', 'Brugge', 'Aubange (Athus)', 'Saint-Gilles', 'HUY', 'Wenduine', 'Beersel', 'LANGEMARK', 'WETTEREN', 'Forest', 'BEERSEL', 'Roeselare', 'Tongeren', 'Berchem', 'Berchem-Sainte-Agathe', 'Hombeek', 'Herk-de-Stad', 'ROZEBEKE', 'HEIST-OP-DEN-BERG', 'Wezembeek-oppem', 'Izegem', 'BLAASVELD', 'MAARKEDAL', 'Poperinge', 'LIEDEKERKE', 'Chaudfontaine', 'LIÈGE', 'Aubange Rachecourt', 'Zaventem', 'KESSEL-LO', 'SINT-PIETERS-LEEUW', 'Huy', 'Zemst Hofstade', 'Destelbergen', 'Wichelen', 'Merelbeke', 'Ukkel', 'Stekene', 'Herzele Borsbeke', 'NINOVE', 'ASPELARE', 'WAREGEM', 'Kruisem', 'ARLON', 'SINT-AGATHA-BERCHEM', 'Hasselt', 'Arlon', 'Aubange Athus', 'Nieuwkerke', 'Ruddervoorde', 'EKEREN', 'Asse', 'Molenbeek-Saint-Jean', 'Brussels', 'Aubange Halanzy', 'Tervuren', 'SAINT-NICOLAS', 'Lichtervelde', 'Vilvoorde', 'Saint-Josse-ten-Noode', 'MONTEGNEE', 'Courcelles', 'ZELE', 'BRAKEL', 'Deinze', 'La Louvière', 'Laarne', 'Gavere Dikkelvenne', 'Watermael-Boitsfort', 'ROTSELAAR', 'WEZEMAAL', 'DROGENBOS', 'Glabbeek', 'VORSELAAR', 'HALANZY', 'Antwerpen', 'Adegem', 'Kalmthout', 'Flémalle', 'Engis', 'Blégny', 'Wanze', 'Hachy', 'Elzele', 'Bredene', 'MORKHOVEN', 'BAVEGEM', 'Lierde', 'Opwijk', 'Sint-Idesbald', 'Wavre', 'LAEKEN (BRU.)', 'HEVERLEE', 'Koksijde', 'Steenokkerzeel Perk', 'Koekelberg', 'RIXENSART', 'Zele', 'Maldegem', 'Lebbeke', 'Rixensart', 'Saint-Léger Châtillon', 'Waregem', 'Sint-Eloois-Vijve', 'Ichtegem', 'Wielsbeke', 'SLEIDINGE', 'Hannut', 'Bissegem', 'Borsbeek', 'Boncelles', 'Hulshout', 'Rillaar', 'Borsbeke', \"BRAINE-L'ALLEUD\", 'Namur', 'TOLLEMBEEK', 'Nevele', 'OOSTAKKER', 'Kontich', 'Torhout', 'Menen', 'Liedekerke', 'Herstal', 'RUISBROEK', 'Sint-Laureins', 'ZULTE', 'Beerse', 'Braine-le-Comte', 'Somme-Leuze', 'Seraing Ougrée', 'Soumagne', 'Dilbeek', 'Lievegem', 'Antwerpen (Wilrijk)', 'RHODE-SAINT-GENÈSE', 'MEERDONK', 'HERZELE', 'GENVAL', 'Sint-Katelijne-Waver', 'SINT-GENESIUS-RODE', 'Affligem', 'WOLUWE-SAINT-PIERRE', 'Aalst', 'Leuven Wilsele', 'Boitsfort (Watermael-Boitsfort)', 'Sint-Truiden', 'HABAY-LA-VIEILLE', 'Koekelare', 'Halle', 'Buizingen', 'Merchtem', 'Aarschot', 'Aalst Erembodegem', 'FOREST', 'Amay', 'Bassilly', 'Sint-Andries', 'WANZE', 'Couvin', 'Meulebeke', 'Ingelmunster', 'Bekkevoort', 'STERREBEEK', 'DEERLIJK', 'Gistel', 'NIVELLES', 'Rochefort', 'Saint-nicolas', 'Galmaarden', 'Juprelle', 'Schaerbeek', 'Sint-Pieters-Woluwe', \"Braine-l'Alleud\", 'KIELDRECHT', 'Iddergem', 'Aalst Baardegem', 'Beerzel', 'ROSIÈRES', 'KORTRIJK-DUTSEL', 'Zwevegem', 'Berchem (2600)', 'WAVRE', 'Moerkerke', 'Turnhout', 'Wommelgem', 'Wetteren', 'Eke', 'Schaarbeek', 'ANGLEUR', 'Grimbergen', 'Wingene', 'Fosses-la-Ville', 'Rhode-Saint-Genese', 'Hélécine', 'Ninove', 'Huldenberg', 'Meise', 'Reet', 'SCHOTEN', 'Rouvroy', 'Chiny', 'HEESTERT', 'GROOT-BIJGAARDEN', 'DILBEEK', 'Morlanwelz Mont-Sainte-Aldegonde', 'Wilrijk', 'AMAY', 'Wachtebeke', 'Lasne Plancenoit', 'Vresse-sur-Semois', 'STROMBEEK-BEVER', 'Grez-Doiceau', 'WILLEBROEK', 'DENDERWINDEKE', 'SCHAERBEEK', 'Berendrecht', 'Zulte', 'Sint-Niklaas', 'Baulers', 'Lokeren', 'Marke', 'Hotton', 'Évegnée', 'Haaltert', 'Scherpenheuvel-Zichem', 'Hamme (9220)', 'Sijsele', 'Roesbrugge-Haringe', 'Mortsel', 'Libramont-Chevigny', 'Woluwe-Saint-Pierre - Sint-Pieters-Woluwe', 'Lasne', 'De Haan', 'TILLEUR', 'Nivelles', 'Mariakerke', 'Melle', 'MELSBROEK', 'Denderleeuw', 'Lot', 'Merksem', 'Fourons', 'VILVOORDE', 'PALISEUL', 'FLÉMALLE-GRANDE', 'Wortegem-Petegem', 'Tienen', 'Essen', 'Woluwe-St.-Lambert', 'Mol', 'PETEGEM-AAN-DE-LEIE', 'Deurne', 'Landegem', 'Keerbergen', 'Zwijndrecht', 'Bertrix', 'OUDENAARDE', 'Habay (Habay-la-Neuve)', 'Vilvorde', 'Zemst', 'Herselt', 'LUBBEEK', 'Liège Grivegnée', 'Paliseul', 'Ranst', 'Strombeek-Bever', 'Deurne (2100)', 'ELSENE', 'Herzele', 'Aarsele', 'Saint-Hubert', 'Sint-Kruis', 'Boortmeerbeek', 'Zingem', 'Harelbeke', 'TERHAGEN', 'MUIZEN', 'Roosdaal', 'WAASMUNSTER', 'FLEURUS', 'Wondelgem', 'DEINZE', 'Heist-op-den-Berg', 'MESSANCY', 'Zandvliet', 'GRÂCE-HOLLOGNE', 'SOIGNIES', 'KAPELLE-OP-DEN-BOS', 'SERAING', 'Oreye', 'GRIVEGNÉE', 'Beyne-Heusay', 'Herstal Vottem', 'FLÉMALLE-HAUTE', 'Chiny (Jamoigne)', 'OPPUURS', 'HORION-HOZÉMONT', 'BUGGENHOUT', 'Kruibeke Bazel', 'Lembeke', 'Opglabbeek', 'Durbuy', 'Malmedy', 'Hoevenen', 'JAMBES', 'BELSELE', 'Ottignies-Louvain-la-Neuve', 'Wakken', 'Idegem', 'Sinaai-Waas', 'Hoboken', 'Nieuwpoort', 'Antwerpen Borgerhout', 'UKKEL', 'LINKEBEEK', 'Landen', 'LOCHRISTI', 'Gilly', 'Aarschot Langdorp', 'Recogne Libramont', 'Boutersem Roosbeek', 'Wellen', 'Tielt (8700)', 'Knokke-Heist Knokke', 'Londerzeel', 'Hoegaarden', 'Dendermonde', 'Trooz', 'Dison', 'Ooigem', 'Étalle (Buzenol)', 'ZELZATE', 'Drogenbos', 'GRIMBERGEN', 'Ham', 'ZWALM', 'Grimbergen Strombeek-Bever', 'Sint-Martens-Leerne', 'Sint-Denijs-Westrem', 'Deurle', 'Brugge Sint-Michiels', 'Zoersel', 'AARTSELAAR', 'Edegem', 'Waasmunster', 'Diksmuide', 'Hoogstraten', 'La Bruyère', 'AUTELBAS', 'JEMEPPE-SUR-SAMBRE', 'BOECHOUT', 'KOKSIJDE', 'Herentals', 'HAALTERT', 'Nieuwrode', 'Mouscron', 'VOTTEM', 'EMBOURG', 'KEERBERGEN', 'COURT-SAINT-ETIENNE', 'Brasschaat', 'OESELGEM', 'LOT', 'Gingelom', 'Faimes', 'Baardegem', 'Welle', 'SINT-AMANDSBERG', 'HERSTAL', 'MARCHE-EN-FAMENNE', 'ANS', 'JUPILLE-SUR-MEUSE', 'WIEKEVORST', 'PUTTE', 'Langdorp', 'Haacht', 'GOSSELIES', 'Eernegem', 'TURNHOUT', 'CHAUDFONTAINE', 'Schelle', 'Hansbeke', 'Manage', 'WACHTEBEKE', 'Sint-Stevens-Woluwe', 'DENDERLEEUW', 'Embourg', 'Zeebrugge', 'Lubbeek', 'Gerpinnes', 'Hamme', 'Hever', 'Lede', 'Antwerpen-Zuid', 'Liege', 'LIERS', 'Herve', 'Habay (Houdemont)', 'ÉrezÉe', 'Heusden (9070)', 'OOSTROZEBEKE', 'Anderlecht (Anderlecht)', 'Lier', 'Kortemark', 'Nandrin', 'Heule (Kortrijk)', 'Anvers', 'PUURS-SINT-AMANDS', 'Seraing Boncelles', 'ERPE', 'Neder-Over-Heembeek', 'Fléron', 'MALLE', 'OELEGEM', 'BONCELLES', 'Nazareth', 'Spa', 'Tournai', 'ZULZEKE', 'Langemark', 'Kluisbergen', 'Kruibeke', 'RANST', 'Blaasveld', 'Antwerpen (2050)', 'De Panne', 'ANTWERPEN 2020', 'Heist-aan-Zee', 'Hamoir', 'Hermalle-Sous-Argenteau', 'Dendermonde Schoonaarde', 'Profondeville', 'CHÊNEE', 'Bastogne', 'BUIZINGEN', 'Halle (brabant)', 'Zwevezele', 'LEDE', 'ELLEZELLES', 'Beersel Alsemberg', 'Loyers', 'Vottem', 'Tielt-Winge', 'Kampenhout', 'BASSENGE', 'Deerlijk', 'LOKEREN', 'Nijlen', 'Bever', 'Soumagne (Soumagne)', 'Rivière', 'Lochristi', 'Heist-op-den-Berg Wiekevorst', 'ROESELARE', 'MEISE', 'WOLVERTEM', 'ONZE-LIEVE-VROUW-WAVER', 'MOREGEM', 'Tildonk', 'VIVEGNIS', 'Nassogne', 'Jupille-sur-meuse', 'Waarmaarde', 'VOROUX-LEZ-LIERS', 'HERSELT', 'ZOTTEGEM', 'Houthulst', 'MERELBEKE', 'Gent Sint-Amandsberg', 'Leopoldsburg', 'Neupré', 'Beernem', 'Saint-Gilles - Sint-Gillis', 'Hooglede', 'Sint-Joost-ten-Node', 'Molenbeek-saint-jean', 'Hermalle-sous-argenteau', 'Tamines', 'Aartselaar', 'Ruisbroek (2870)', 'Belsele', 'Pont-à-Celles Viesville', 'Desselgem', 'LA HESTRE', 'Incourt', 'Kapellen (2950)', 'Neuville-en-Condroz', 'LONDERZEEL', 'Marche-en-Famenne Hargimont', 'Asse Zellik', 'Wevelgem', 'Horion-Hozémont', 'Genappe', 'Belvaux', 'KALKEN', 'Chaumont-Gistoux', 'KORTRIJK', 'Tremelo Baal', 'La Hulpe', 'Oostrozebeke', 'HUMBEEK', 'ASSESSE', 'BLEID', 'Zwalm', 'Lanaken', 'Xhendremael', 'Otegem', 'Herdersem', 'Rhode-Saint-Genèse - Sint-Genesius-Rode', 'Halle (1500)', 'Brecht Sint-Lenaarts', 'ETTERBEEK', 'WORTEGEM', 'Heverlee', 'WASMES', 'SINT-STEVENS-WOLUWE', 'Bruxelles (Bruxelles)', 'Verviers', 'BASTOGNE', 'Virton Ruette', 'Awans', 'Limelette', 'Maldegem Middelburg', 'Sint-Amands', 'WARZÉE', 'Geluwe', 'Frasnes-lez-Anvaing', 'ENGIS', 'Kuregem', 'Sint-Jans-Molenbeek', 'Bassevelde', 'Niel', 'Oostkerke (8340)', 'NEDER-OVER-HEEMBEEK (BRU.)', 'Oostakker', 'Kallo (9120)', 'Zoerle-Parwijs (Westerlo)', 'Veurne', 'Kortrijk Marke', 'AVELGEM', 'TOERNICH', 'ASSEBROEK', 'HERENTHOUT', 'BRECHT', 'SINT-KWINTENS-LENNIK', 'LAAKDAL', 'DIEGEM', 'Bocholt', 'Zellik', 'Nieuwerkerken (9320)', 'Aalst Meldert', 'Hechtel-Eksel', 'KOEKELBERG', 'Manhay', 'Tremelo', 'BERLAAR', 'Antwerpen Merksem', 'Alveringem', 'ANSEREMME', 'Heule', 'Liège Chênée', 'Verviers Petit-Rechain', 'Reningelst', 'Marcinelle', 'Grimminge', 'Sougné-remouchamps', 'Chastre', 'ROCOURT', 'Houthalen-Helchteren', 'Bilzen', 'HAMME', 'Verviers Lambermont', 'Zwijnaarde', 'Sint-Agatha-Berchem', 'Sint-Martens-Bodegem', 'VIRTON', 'OUD-HEVERLEE', 'GENTBRUGGE', 'Lendelede', 'KUMTICH', 'Oupeye Heurele-Romain', 'Anthisnes', 'Antwerpen (2060)', 'Bovekerke', 'Damme', 'Gent Gentbrugge', 'CINEY', 'Dinant', 'Gullegem', 'Werken', 'Sterrebeek', 'Vorst', 'GANSHOREN', 'Florenville Muno', 'Les Bons Villers', 'Zandhoven', 'Lasne Ohain', 'Anthisnes Tavier', 'Sint Gillis Dendermonde', 'Ieper', 'Wibrin', 'Outrijve', 'Oudenburg', 'Hove', 'Antwerpen Deurne', 'Bonheiden', 'Astene', 'HEUSDEN', 'STEENOKKERZEEL', 'Kerkhove', 'Vurste', 'Antwerpen Berchem', 'Deurne (Antwerpen)', 'Heure-le-Romain', 'Sint-Gillis-Waas', 'Brugge Sint-Kruis', 'BEVERE', 'SINT-DENIJS-WESTREM', 'Puurs-Sint-Amands', 'Laken', 'Bierges', 'Dilbeek Itterbeek', 'Buggenhout', 'Woluwé-Saint-Pierre', 'Elsene', 'LOUVAIN-LA-NEUVE', 'VRASENE', 'Glabais', 'ROOSDAAL', 'Chênée', 'Morlanwelz', 'HOEGAARDEN', 'La Louvière Saint-Vaast', 'Wespelaar', 'NIEUWPOORT', 'ROCHEFORT', 'Temse', 'Marchin', 'Assenede', 'Antwerpen Linkeroever', 'ARENDONK', 'Ciney', 'Twee-Akren', 'BEVEREN- LEIE', 'SINT-AMANDS', 'Aix Sur Cloie', 'Machelen', 'Staden', 'SINT-MARTENS-LENNIK', 'Wavre Limal', 'Courcelles Trazegnies', 'Grez-doiceau', 'Bouillon', 'Beveren', 'Egem', 'AUBANGE', 'Borgloon', 'VILLERS-LE-BOUILLET', 'Bottelare', 'Marche-en-Famenne', 'DEURLE', 'WONDELGEM', 'Grembergen', 'Sint-amandsberg', 'Linkebeek', 'Genk', 'Pollare', 'Dudzele', 'Kasterlee', 'Charleroi Gilly', 'Merendree', 'Leuven Kessel-Lo', 'Ertvelde', 'Tournai Kain', 'Ransart', 'SINT-MICHIELS', 'Vichte', 'Ramsel', 'NAMUR', 'Assesse', 'Pont-à-Celles', 'Beauvechain', 'SART-DAMES-AVELINES', 'Malonne', 'Malonne - Proche Wépion et Vecquée', 'HANSBEKE', 'LADEUZE', 'Aartrijke', 'Ardooie', 'Charleroi', 'Marche-en-Famenne, Marloie', 'Namur Bouge', 'Houyet, Wanlin', 'Zedelgem', 'Hognoul', 'Braine-le-Château', 'Malle', 'Gent Wondelgem', 'Tinlot', 'Neupré Plainevaux', 'TEMSE', 'Frameries', 'Geel', 'MEIX-DEVANT-VIRTON', 'Houyet', 'HAUT-ITTRE', 'Wichelen Schellebelle', 'Jabbeke', 'Lummen', 'Muno', 'Kortenaken', 'Wolvertem (Meise)', 'Forchies-la-Marche', 'Heers', 'Riemst', 'WELLIN', 'Léglise', 'DWORP', 'VINALMONT', 'Schoten', 'Eksaarde', 'AALBEKE', 'Berlaar', 'AnhÉe', 'Lapscheure', 'Diepenbeek', 'Nederhasselt', 'Bazel', 'ATHUS', 'GRÂCE-BERLEUR', 'Holsbeek', 'Jupille', 'Quiévrain', 'Houffalize', 'Paal', 'KNOKKE', 'Rebecq', 'Tubize', 'Kapellen', 'Herk-de-stad', 'La Louvière Houdeng-Goegnies', 'Fernelmont', 'JEMEPPE-SUR-MEUSE', 'FRASNES-LEZ-BUISSENAL', 'EEKLO', 'FLEMALLE', 'Quaregnon', 'Bunsbeek', 'Heusy', 'Lennik', 'Linden', 'Theux', 'Watermaal-Bosvoorde', 'Beervelde', 'Zuienkerke', 'Bavikhove', 'Pelt', 'Havré', 'Bierbeek', 'KRAAINEM', 'THISNES', 'Gooik', 'Rijkevorsel', 'Ferrières', 'GREMBERGEN', 'Oud-Turnhout', 'LIEGE', 'Hastiere-par-Delà', 'Relegem', 'Florennes', 'Herseaux', 'WOLUWE-SAINT-LAMBERT', 'ans', 'SAINT-GILLES', 'Horebeke', 'HULSHOUT', 'Goetsenhoven', 'SAINT-JOSSE-TEN-NOODE', 'GOOIK', 'Wijnegem', 'GALMAARDEN', 'Anderlues', 'Villers-le-Bouillet', 'Deux-Acren', 'Aarschot Gelrode', 'Oplinter', 'Schepdaal', 'SINT-PIETERS-WOLUWE', 'Templeuve', 'STAMBRUGES', 'NEDERBRAKEL', 'Bièvre', 'Herfelingen', 'Boutersem', 'VOSSELARE', 'Ravels Weelde', 'LOTENHULLE', 'Liège Jupillesur-Meuse', 'EVERE', 'Rekkem', 'FLÉRON', 'Herent Veltem-Beisem', 'Mere', 'Antwerpen Hoboken', 'YVOIR', 'Villers-La-Ville', 'Zoutleeuw', 'Boechout', 'Dormaal', 'Lo-Reninge', 'Boussu Hornu', 'Héron', 'Kortessem', 'Vaux-sous-chèvremont', 'Theux La Reid', 'Ciplet', 'Knesselare', 'Hamme-mille', 'GENAPPE', 'Sint-Lambrechts-Woluwe', 'Heestert', 'La Roche-en-Ardenne Halleux', 'Gedinne Sart-Custinne', 'Ramsdonk', 'Montigny-le-Tilleul', 'Antwerpen (2020)', 'Knocke-Heyst', 'KONINGSHOOIKT', 'Chaudfontaine Beaufays', 'DINANT', 'Melsen', 'Antwerpen Ekeren', 'Wellin', 'Mettet', 'Kapelle-op-den-Bos', 'Ranst Oelegem', 'Lint', 'Brugge Assebroek', 'Hannut Thisnes', 'Hamont-Achel', 'Zingem Ouwegem', 'Charleroi Lodelinsart', 'Bertrix (jéhonville)', 'Otegem (Zwevegem)', 'Liege Chenée', 'Pont-de-Loup', 'NEDERENAME', 'Retie', 'Bornem', 'Rumbeke', 'Aywaille', 'Gembloux', 'Martelange', 'WESTENDE', 'Zaventem Sint-Stevens-Woluwe', 'Bertem', 'Athus', 'AUVELAIS', 'Koolskamp', 'BOUILLON', 'Meerbeke', 'Nederzwalm', 'Pont-a-Celles', 'Antwerpen Wilrijk', 'Wommersom', 'RUETTE', 'Liege Grivegnée', 'Saint-Vith', 'Koolkerke', 'Villers-saint-siméon', 'SINT-JORIS-WEERT', 'Colfontaine Wasmes', 'Nijlen Kessel', 'Hemiksem', \"Schilde 's Gravenwezel\", 'Virton Latour', 'Huizingen', 'Wépion', 'Vierset-barse', 'Tournai Maulde', 'Nieuwerkerken', 'Esneux', 'Heusden-Zolder', \"Braine-l'Alleud Ophain-Bois-Seigneur-Isaac\", 'Rixensart Genval', 'Comines-Warneton', 'Aalst Moorsel', 'WAREMME', 'Groot-Bijgaarden', 'BERLARE', 'Charleroi Mont-sur-Marchienne', 'Jemeppe-sur-Sambre', 'Gognies Chaussee', 'BRAINE-LE-COMTE', 'La Roche-en-Ardenne', 'Deinze (Hansbeke)', 'Le Rœulx', 'Anhée', 'Soignies', 'VEDRIN', 'Lembeek', 'Dadizele', 'Vielsalm (Vielsalm)', 'Sint-Pauwels', 'Lier Koningshooikt', 'Meensel-Kiezegem', 'Saive', 'Pepingen', 'BRAINE-LE-CHÂTEAU', 'SAINT-GHISLAIN', 'Dilbeek Groot-Bijgaarden', 'Kuurne', 'Manage La Hestre', 'Vresse-sur-Semois Chairière', 'HANZINELLE', 'Colfontaine', 'Mons', 'VISÉ', 'Linter', 'Mont-sur-marchienne', 'Laakdal', 'Roosdaal Borchtlombeek', 'Ravels', 'Hennuyères', 'Champlon', 'MELLET', 'Edingen', 'Liege (Bressoux)', 'Frameries La Bouverie', 'Lixhe', 'COUTHUIN', 'Lincent Racour', 'Halen', 'Balegem', 'Mont-sur-Marchienne', 'Tilff', 'Avelgem', 'Vleteren', 'Beigem', 'Molenstede', 'Ottignies', 'Vosselaar', 'Grimbergen Humbeek', 'ERPENT', 'Montignies-sur-Sambre', 'Nord-Est (Bruxelles)', \"Mont-de-l'Enclus\", 'Onkerzele', 'Châtelineau', 'BLAIMONT', 'FLÉNU', 'Wervik', 'MORTEHAN', 'Meerhout', 'Céroux-Mousty', 'haasdonk', 'Oudsbergen', 'Lebbeke Wieze', 'Sint-Kruis-Winkel', 'Itegem', 'Sint-Jan-in-eremo', 'Sleidinge', 'Lommel', 'Couillet', 'OPWIJK', 'Leeuw-Saint-Pierre', 'Vielsalm', 'FRASNES-LEZ-GOSSELIES', 'Maasmechelen', 'Sint-Genesius-Rode', 'Appelterre-Eichem', 'Walsbets', 'Court-Saint-Etienne', 'het Zoute', 'AISCHE-EN-REFAIL', 'Damme Sijsele', 'Wulpen', 'Baasrode', 'Aische-en-Refail', 'Lessines', 'Enghien', 'Tervueren', 'Wiekevorst (Heist-op-den-Berg)', 'Veerle (Laakdal)', 'Morlanwelz Carnières', 'Rendeux', 'Ferrières Vieuxville', 'Ruiselede', 'Aalst Herdersem', 'GEMBLOUX', 'Eppegem', 'La reid', 'Grivegnée', 'BERINGEN', 'ANDERLUES', 'HOUDEMONT', 'Mons - Obourg', 'Fouron-le-Comte', 'Aalst Hofstade', 'Somme-Leuze ( Baillonville )', 'Grobbendonk', 'Herzele Sint-Lievens-Esse', 'Coxyde', 'Bavegem', 'Louveigné', 'SAINT-SERVAIS', 'LAEKEN', 'Ougrée', 'Vollezele', 'Zonhoven', 'ESTINNES-AU-MONT', 'Fauvillers', 'Halle-Booienhoven', 'Kontich-Kazerne', 'CHAUMONT-GISTOUX', 'Alsemberg', 'GHLIN', 'Ravels Poppel', 'VERVIERS', 'Fleron', 'Menen Lauwe', 'FLORENVILLE', 'Marchienne-au-Pont', 'Zandbergen', 'Thieu', 'Rumst', 'DURBUY', 'Horrues', 'Balen', 'Bornem Hingene', 'HASTIÈRE-PAR-DELÀ', 'Hoogstraten Wortel', 'Waudrez', 'KAIN', 'Zandhoven Pulle', 'Schriek', 'VIESVILLE', 'Zoersel Halle', 'DAVERDISSE', 'MONS', 'Bierghes', 'Ploegsteert', 'SAINT-MARD', 'Erezée', 'Wandre', 'WASMUEL', 'Herne', 'Ivoz-Ramet', 'Mechelen-Bovelingen', 'Limerlé (Gouvy)', 'MOUZAIVE', 'BELGRADE', 'Ophain-Bois-Seigneur-Isaac', 'FAYT-LE-FRANC', 'Wichelen Serskamp', 'Arendonk', 'Sint-Martens-Latem Deurle', 'Rosières', 'HASTIÈRE-LAVAUX', 'Poupehan', 'Loën (Visé)', 'Hermalle-sous-Argenteau', 'Boussu', 'Wervik Geluwe', 'Thuin', 'Mons Nimy', 'Floreffe', 'ANTOING', 'Viroinval', 'Grâce-Berleur', 'Beveren-Waas', 'Vlijtingen', 'HAM-SUR-SAMBRE', 'Dendermonde Oudegem', 'Beernem Oedelem', 'Zerkegem (Jabbeke)', 'Korbeek-Lo', 'Hamont', 'AULNOIS', 'Jeuk', 'Emelgem', 'Kessel Lo', 'Stembert', 'Sars-la-Buissière', 'Neeroeteren', 'Scherpenheuvel', 'Beringen', 'Stavelot', 'Lichtaart', 'Betekom', 'Zichen-Zussen-Bolder', 'Kermt', 'CUESMES', 'Malderen', 'Hulshout (Westmeerbeek)', 'Minderhout', 'Ulbeek', \"Braine-l'Alleud Lillois-Witterzée\", 'Gosselies', 'Raeren', 'Jemeppe-sur-Meuse', 'Kaprijke', 'Nalinnes', 'Laken (Brussel)', 'Antwerpen-Noord', 'Olen', 'Bruxelles  2', 'Oud-Heverlee', 'Kaggevinne', 'Jumet', 'Meer', 'Mater', 'Middelburg', 'Neerwinden', 'Budingen', 'Neufchâteau', 'Moorslede', 'Nieuwkerken-Waas', 'Beaufays', 'Everberg', 'Louvain-la-Neuve', 'Adinkerke', 'Dessel', 'Londerzeel Malderen', 'Kortenberg', 'PERUWELZ', 'Wolvertem', 'Gouvy', 'Dendermonde Sint-Gillis-bij-Dendermonde', 'Sougné-Remouchamps', 'OUD-TURNHOUT', 'LAKEN', 'BONHEIDEN', 'TONGEREN', 'Viesville', 'Diest', 'HASSELT', 'LEOPOLDSBURG', 'HERENTALS', 'VOSSELAAR', 'STEKENE', 'BOOM', 'GEEL', 'DESSEL', 'LEBBEKE', \"'S-GRAVENWEZEL\", 'RAVELS', 'Leest', 'Weelde', 'LINT', 'Ekeren', 'ZWIJNDRECHT', 'TESSENDERLO', 'LUMMEN', 'HOOGSTRATEN', 'GENK', 'Herenthout', 'NIEUWERKERKEN', 'GLABBEEK', 'BEERSE', 'RIJKEVORSEL', 'Kuringen', 'KAPELLEN', 'ZOERSEL', 'KALMTHOUT', 'DIEPENBEEK', 'OUDEGEM', 'KASTERLEE', 'WUUSTWEZEL', 'OLEN', 'ESSEN', 'NOORDERWIJK', 'PELT', 'LICHTAART', 'Mechelen-Zuid', 'BORGLOON', 'HOVE', 'HOEVENEN', 'MEERHOUT', 'Vorselaar', 'LOMMEL', 'HOUTHALEN-HELCHTEREN', 'HOUFFALIZE', 'AS', 'Westerlo', 'MOL', 'ZUTENDAAL', 'Hastière', 'SCHELLE', 'HEUSDEN-ZOLDER', 'MERCHTEM', 'ORP-JAUCHE', 'Gierle', 'ZICHEM', 'DE KLINGE', 'Haasdonk', 'WECHELDERZANDE', 'SCHERPENHEUVEL', 'LILLE', 'DIEST', 'LANGDORP', 'ASSE', 'Veerle', 'SCHERPENHEUVEL-ZICHEM', 'RETIE', 'BEVEL', 'KONTICH', 'BERCHEM-SAINTE-AGATHE', 'Loppem', 'Westmeerbeek', 'Kumtich', 'Sint-Lievens-Houtem', 'Beerst', 'POPERINGE', 'Pulle', 'RAMSDONK', 'LIEVEGEM', 'HAM', 'HAMONT-ACHEL', 'VLIERMAAL', 'GEETBETS', 'SINT-TRUIDEN', 'SCHILDE', 'TERVUREN', 'Woubrechtegem', 'BALEN', 'Oevel', 'CHENEE', 'Farciennes', 'GRAND-BIGARD', 'KRUIBEKE', 'MALDEREN', 'Bouge', 'HOEILAART', 'GROTE-BROGEL', 'PUURS', 'WOLUWÉ-SAINT-PIERRE', 'ANTWERPEN 6', 'BRUSSEL', 'MARCHIENNE-AU-PONT', 'Mont Sur Marchienne', 'Antwerpen Kiel', 'Oud-Heverlee (Haasrode)', \"'s-Gravenwezel\", 'BAASRODE', 'SCHOONAARDE', 'OVERIJSE', 'Sint-Pieters-Leeuw Ruisbroek', 'KESSEL', 'KORTENAKEN', 'JETTE', 'WILSELE', 'Veldegem', 'TREMELO', 'Braine-l’Alleud', \"MESLIN-L'EVÊQUE\", 'NIJLEN', 'HAASDONK', 'HALEN', 'WEZEMBEEK-OPPEM', 'Leuven Heverlee', 'Faymonville', 'TIELT-WINGE', 'Meldert (3560)', 'HULDENBERG', 'Aalst Nieuwerkerken', 'SCHAFFEN', 'Ham-sur-Heure-Nalinnes', 'Clavier', 'Molenbeek', 'OOSTENDE', 'Pellenberg (Lubbeek)', 'BEERZEL', 'LINTER', 'KAMPENHOUT', 'MAASEIK', 'Heist-op-den-Berg Schriek', 'Asse Mollem', 'BOUTERSEM', 'Ondenval (Waimes)', 'AVERBODE', 'BERENDRECHT', 'Thimister-Clermont', 'Remicourt', 'Kessel', 'LA HULPE', 'Braives', 'Geer', 'HERK-DE-STAD', 'ATH', 'ZOUTLEEUW', 'BAZEL', 'Sint-Eloois-Winkel', 'Kruishoutem', 'NIEUWKERKE', 'Kortenberg Erps-Kwerps', 'STADEN', 'TISSELT', 'Koningshooikt', 'Tongres', 'CHARLEROI', 'SPA', 'Tielen', 'Zutendaal', 'ITEGEM', 'Stevoort', 'Turnhout.', 'ZAVENTEM', 'Grez-Doiceau Nethen', 'OVERPELT', 'MONTEGNÉE', 'Sint-eloois-Winkel', 'HAMOIR', 'Affligem Hekelgem', 'BURCHT', 'Fexhe-le-Haut-Clocher', 'ALKEN', 'PEER', 'Hamois', 'OUGREE', 'HOUTVENNE', 'VEERLE', 'Beverlo', 'BUVINGEN', 'LOVERVAL', 'TILFF', 'Sint-Lievens-Houtem Vlierzele', 'BEVEREN', 'Mettet Ermetonsur-Biert', 'Sint-Jan-in-Eremo', 'Neder-over-Heembeek', 'Oelegem', 'Eindhout', 'CHERATTE', 'OOSTHAM', 'COMBLAIN-AU-PONT', 'SINT-DENIJS', 'Paliseul, Plainevaux', 'Jambes', 'LONGEAU', 'ASSENEDE', 'Houthalen', 'Bonnert', 'GREZ-DOICEAU', 'VISE', 'WALEM', 'Hertsberge', 'IZEGEM', 'Attert', 'INGELMUNSTER', 'TEMPLEUVE', 'Seneffe Feluy', 'REDU', 'Orp-le-grand', 'MOIRCY', 'Oedelem', 'Meerle', 'SCHELDEWINDEKE', 'ANTWERPEN 2000', 'Leefdaal', 'LIPPELO', 'ANTWERPEN 2060', 'Deinze Astene', 'BLATON', 'FALISOLLE', 'Attert (Metzert)', 'ANZEGEM', 'CLERMONT-SOUS-HUY', 'SINT-GILLIS-BIJ-DENDERMONDE', 'Eupen', 'Meldert (9310)', 'WETTEREN TEN-EDE', 'Gavere Semmerzake', 'NOBRESSART', 'Stree', 'Vloesberg', 'MEIX-LE-TIGE', 'FOSSES-LA-VILLE', 'Estaimpuis', 'Lauwe', 'LAKEN (BRU.)', 'LUSTIN', 'Pellenberg', 'ATTERT', 'ZEMST', 'WOLKRANGE', 'MARKE', 'SINT-MARIA-OUDENHOVE', 'Hingene', 'OOSTERZELE', 'Chiny Jamoigne', 'Zétrud-lumay', 'Wijgmaal', 'Jalhay', 'BEUZET', 'Schellebelle', 'Berchem-sainte-agathe', 'Stoumont', 'Battice', 'Stene', 'Saint-Ghislain', 'ETALLE', 'Habay', 'Virton Ethe', 'Genval', 'Bambrugge', 'Aalbeke', 'Arlon (Bonnert)', 'RUIEN', 'WICHELEN', 'Koningslo', 'Maldegem Adegem', 'GENTINNES', 'MUSSON', 'HERVE', 'Denderbelle', 'BONNERT', 'Etalle', 'HEULE', 'Lierneux', 'Tarcienne', 'Lombardsijde', 'ZEEBRUGGE', 'Walhain', 'Antwerp', 'Uccle (Uccle)', 'Ename', 'Aarlen', 'HAREN (BRU.)', 'MONT', 'Saint-Léger', 'VARSENARE', 'Ans Alleur', 'Modave', 'CHASTRE', 'Vivegnis', 'Neigem', 'Heron', 'Nivelles feluy', 'Plombières', 'Aiseau', 'KORTEMARK', 'MERE', 'Werbomont', 'ESTAIMPUIS', 'LIBIN', 'VANCE', 'Châtelet', 'ASTENE', 'BIERGES', 'Schendelbeke', 'Cornesse', 'Ottignies-Louvain-la-Neuve Céroux-Mousty', 'SINAAI', 'Etalle Vance', 'Arlon (Stockem)', 'GERPINNES', 'ZELLIK', 'Ville-Pommeroeul', 'CORROY-LE-CHÂTEAU', 'HOFSTADE', 'HEFFEN', 'Klemskerke', 'Wilsele', 'Haacht Tildonk', 'Dendermonde Baasrode', 'WORTEGEM-PETEGEM', 'MARCHIN', 'BREDENE', 'Steendorp', 'JEHAY', 'Helkijn', 'OREYE', 'BERTEM', 'Messancy Habergy', 'Awans Othée', 'Libin', 'Musson', 'Eprave', 'Neder-over-heembeek', 'Villers-le-bouillet', 'Etalle (Buzenol)', 'LESSINES', 'Zolder', 'KRUISEM', 'NAZARETH', 'Bassenge', 'Scheldewindeke', 'KINROOI', 'TOURNAI', 'Arlon (Freylange)', 'MARIAKERKE', 'Rocourt', 'Werchter', 'Durbuy Wéris', 'Ohey', 'Boussu-lez-Walcourt', 'MOESKROEN', 'Étalle', 'Arlon (Heinsch)', 'Habay (Rulles)', 'Tintigny Rossignol', 'Oostkerke', 'Knokke centrum', 'Begijnendijk', 'OOSTEEKLO', 'Erondegem', 'Onze-Lieve-Vrouw-Waver', 'Auby-sur-semois (Bertrix)', 'Liège Angleur', 'Bouvignes-sur-Meuse', 'Écaussinnes', 'Saint-Léger (Saint-Léger)', 'Saint-Georges-sur-Meuse', 'Waimes Faymonville', 'Lille', 'WESTERLO', 'Fleurus', 'Ittre (Virginal)', 'Ouffet Warzée', 'RAMILLIES-OFFUS', 'Oordegem', 'FORÊT', 'Céroux-mousty', 'LIBRAMONT-CHEVIGNY', 'HERNE', 'BAMBRUGGE', 'Varsenare', 'Oostvleteren', 'Sint-Gillis-Dendermonde', 'Petegem-aan-de-Leie', 'Seneffe', 'Ecaussinnes', 'Ramillies', 'Gits', 'Hoeselt', 'Strée', 'VILLANCE', 'GRACE-HOLLOGNE', 'Zeveneken', 'SIRAULT', 'LÉGLISE', 'Broechem', 'HENSIES', 'Moerbeke', 'Wijtschate', 'Liers', 'Melsbroek', 'Jandrain-jandrenouille', 'aubange', 'MAGNÉE', 'Anseroeul', 'COUR-SUR-HEURE', 'Wambeek', 'Erquelinnes', 'Schoonaarde', 'On', 'Milmort', 'Braine-le-Château Wauthier-Braine', 'Bertrix Jehonville', 'OTTIGNIES', 'OTTIGNIES-LOUVAIN-LA-NEUVE', 'LAMBUSART', 'Moen', 'INCOURT', 'ETHE', 'MACHELEN', 'SINT-PAUWELS', 'Breendonk', 'alleur', 'KRUISHOUTEM', 'kluisbergen', 'FRAITURE', 'PULLE', 'Woluwe-Saint-Lambert - Sint-Lambrechts-Woluwe', 'Stabroek Hoevenen', 'WEILLEN', 'OLLIGNIES', 'Booischot', 'Aalst Gijzegem', 'SAINT-HUBERT', 'LOVENDEGEM', 'Ottignies-Louvain-la-Neuve Ottignies', 'Neerpelt', 'Flobecq', 'SPIERE-HELKIJN', 'Aalter Bellem', 'Charleroi Couillet', 'Essene (Affligem)', 'Sambreville', 'SINT-ELOOIS-VIJVE', 'WINKSELE', 'Brugge Sint-Andries', 'GRIVEGNEE', 'PROFONDEVILLE', 'Ressegem', 'Haasrode', 'APPELS', 'Veldwezelt', 'Hulshout Houtvenne', 'TROOZ', 'EINE', 'Opvelp', \"Braine-L'Alleud\", 'HÉLÉCINE', 'Lissewege', 'MANHAY', 'ALSEMBERG', 'Olne', 'Jodoigne Dongelberg', 'Meix-devant-Virton Houdrigny', 'De Pinte Zevergem', 'Sart-dames-avelines', 'Haccourt', 'Mons Saint-Symphorien', 'Wuustwezel', 'Hannuit', 'Ingooigem', 'FOOZ', 'Lovendegem', 'Zomergem', 'Walcourt', 'Houmont', 'Stoumont Chevron', 'POEDERLEE', 'Orp-Jauche', 'Haut-Fays', 'Sainte-Marie-sur-Semois', 'Bachte-Maria-Leerne', 'VILLERS-LE-TEMPLE', 'MONT-SAINT-GUIBERT', 'Muizen (2812)', 'Holsbeek Nieuwrode', 'POESELE', 'Bonneville', 'Huy Tihange', 'Cortil-wodon', 'NOSSEGEM', 'SINT-ANDRIES', 'BIERGHES', 'Tessenderlo', 'MOUSCRON', 'Goeferdinge', 'WANFERCÉE-BAULET', 'Aiseau-Presles', 'SOY', 'Denderleeuw Welle', 'Profondeville Lustin', 'Elversele', 'REMICOURT', 'Pecq Hérinneslez-Pecq', 'Ferrieres', 'Zonnebeke', 'Fronville', 'Heuvelland', 'SPRIMONT', 'Petit-Enghien', 'NEUVILLE-EN-CONDROZ', 'Kapellen (3381)', 'Dottignies', 'Houdeng-Goegnies', 'Ghoy', 'TELLIN', 'WAUDREZ', 'ZERKEGEM', 'Oudergem', 'BAUDOUR', 'STAVE', \"Fontaine-l'Évêque\", 'WELKENRAEDT', 'Sint-Joost-Ten-Noode', 'Sart (-lez-spa)', 'IVOZ-RAMET', 'ALLEUR', 'Roeselare Rumbeke', 'oostkamp', 'Lokeren Eksaarde', 'Puurs', 'Vosselare', 'GROBBENDONK', 'OPBRAKEL', 'MARTELANGE', 'Modave Strée-lez-Huy', 'WESTENDE-BAD', 'Brussels City', 'Liège Glain', 'LIGNY', 'Cambron-Saint-Vincent (Lens)', 'LEUPEGEM', 'Jehay', \"Sint-Job-in-'t-Goor\", 'Pentagone (Bruxelles)', 'Beauraing, Revogne', 'MODAVE', 'KNOKKE-HEIST', 'Geraardsbergen Moerbeke', 'Kalken', 'Melsele', 'UITBERGEN', 'OUPEYE', 'AALTER', 'Merchtem Brussegem Vijlst', 'Neuville-En-Condroz', 'MEULEBEKE', 'Dilsen-Stokkem', 'RENDEUX', 'Dolembreux', 'RESTEIGNE', 'Chièvres', 'Vlissegem', 'Luttre', 'ECAUSSINNES-LALAING', 'HEINSCH', 'Boortmeerbeek Hever', 'CELLES', 'ONZE-LIEVE-VROUW-OLEN', 'VERLAINE', 'DESSELGEM', 'KOERSEL', 'SOUMAGNE', 'TIHANGE', 'NIMY', 'Warcoing', 'Libramont-Chevigny, Jenneville', 'Averbode', 'ZANDHOVEN', 'EDINGEN', 'WEYLER', \"'s Gravenwezel\", 'Binche', 'GIJZEGEM', 'ERPS-KWERPS', \"Fontaine-l'Evêque\", 'Sint-Gillis', 'AWANS', 'Erpe-Mere Burst', 'VIERSET-BARSE', 'SAINT-GEORGES-SUR-MEUSE', 'LAMBERMONT', 'Molenbeek-Sint-Jan', 'VERREBROEK', 'Membre', 'Tielrode', 'Spiere-Helkijn', 'Ittre', 'Florennes Morville', 'TORHOUT', 'Rendeux Beffe', 'Bellecourt', 'Orp-le-Grand', 'AYWAILLE', 'Thuin Gozée', 'Grobbendonk (Bouwel)', 'CHANLY', 'JABBEKE', 'Steenokkerzeel', 'Tintigny Lahage', 'Andenne', 'PAAL', 'Nijlen Bevel', 'Hoogstraten Minderhout', 'ZOUTE', 'Jodoigne Jauchelette', 'Othée', 'Rotselaar Werchter', 'Montroeul-Sur-Haine', 'Chapelle-lez-Herlaimont', 'Ottignies-Louvain-la-Neuve Louvain-la-Neuve', 'NIEL', 'Wasseiges', 'ZWEVEGEM', 'MUSSY-LA-VILLE', 'DOLEMBREUX', 'Burdinne', 'ZWIJNAARDE', 'Hermée', 'Cognelée', 'Hal', 'Verlaine Chapon-Seraing', 'HEURE', 'Halle Buizingen', 'NANDRIN', 'Nieuwerkerken (3850)', 'Rumes Taintignies', 'QUAREGNON', 'Humbeek', 'Trois-Ponts', 'La Louvière Haine-Saint-Pierre', 'Okegem', 'Overpelt', 'Rochefort, Lavaux-Sainte-Anne', 'THON', 'Hingeon', 'DOHAN', 'EMBLEM', 'Messancy Hondelange', 'Érezée', 'TENNEVILLE', 'Lamine', 'Borchtlombeek', 'Villers-la-Ville', 'Liège Rocourt', 'Rotselaar Wezemaal', 'Baelen', 'SEILLES', 'Kluizen', 'Willebroek Blaasveld', \"ECAUSSINNES-D'ENGHIEN\", 'Grandmetz', 'CERFONTAINE', 'Montegnée', 'Crisnée', 'Ciney Achêne', 'Ranst Emblem', 'Berchem st Agathe', 'Gent (9000)', 'Erps-Kwerps', 'Beveren Kieldrecht', 'Sint-Gillis-Waas Meerdonk', 'itegem', 'DE HAAN', 'Bevercé', 'Strepy-Bracquegnies', 'OTEGEM', 'MOEN', 'BOOISCHOT', 'Waimes', 'Dilbeek Schepdaal', 'Bertogne', 'Burdinne Oteppe', 'Éghezée', 'Les Bons Villers Mellet', 'Namur Erpent', 'Velm', 'Bonheiden Rijmenam', 'Petit-Roeulx-lez-Braine', 'Mechelen Heffen', 'Sint-Maria-Oudenhove', 'Pepinster Soiron', 'Uitkerke', 'Tournai Thimougies', 'Bekkerzeel', 'Orsmaal', 'Sambreville Auvelais', 'Yvoir', 'Givry', 'LIERNEUX', 'Merksplas', 'Dalhem', 'Retranchement', '‘s Gravenwezel Schilde', 'Strombeek-Bever (1853)', 'BERTRIX', 'MONS-LEZ-LIÈGE', 'Estaimpuis Néchin', 'SAINTE-ODE', 'Rijmenam', 'Sart-Dames-Avelines', 'MALEMPRÉ', 'HÉRON', 'Buggenhout Opstal', 'Alost', 'BARVAUX', 'Zaventem Sterrebeek', 'Afsnee', 'OCHAMPS', 'AMBLÈVE', 'Ham-sur-heure', 'Loncin', 'Achêne', 'Brugelette', 'Ath', 'KNOKKE-ZOUTE', 'Lubbeek Linden', 'Aartrijke (Zedelgem)', 'Pulderbos', 'Walhain-Saint-Paul', 'bruxelles', 'FRAMERIES', 'THY-LE-CHÂTEAU', 'Havelange', 'ath', 'Audregnies', 'VERGNIES', 'Bousval', 'LA PANNE', 'SMUID', 'SUGNY', 'Berneau', 'Kinrooi', 'Estinnes', 'Ninove Outer', 'GOETSENHOVEN', 'BINCHE', 'Beauraing, Feschaux', 'Brecht (Schoten)', 'Rendeux, Beffe', 'ARSIMONT', 'OOIGEM', 'Neerlinter', 'Villers-Poterie', 'noiseux', 'Rumes', 'MALONNE', 'KURINGEN', 'Puurs Liezele', 'HOVES', 'Poppel', 'SINT-AGATHA-RODE', 'Heist-op-den-Berg Itegem', 'Virginal', 'HAMOIS', 'Silly', 'Muizen', 'VORST', 'BEAUFAYS', 'MONTIGNY-LE-TILLEUL', 'MERBES-LE-CHÂTEAU', 'Polleur - THEUX', 'Sint-Amands Oppuurs', 'Buggenhout Opdorp', 'Neufvilles', 'Leffinge', 'MÉVERGNIES-LEZ-LENS', 'Perwez', 'Rochefort, Han-sur-Lesse', 'Puurs Breendonk', 'Mollem', 'Onhaye Sommière', 'Tubeke', 'Charleroi Jumet', 'Overmere', 'THULIN', 'Bornival', 'La Louvière - Haine-Saint-Paul', 'Tournai Blandain', 'Kanegem', 'NODEBAIS', 'Heikruis', 'Machelen Diegem', 'Dour', 'Geest-Gérompont-Petit-Rosière', 'Gages', 'Sommiere', 'MELSELE', 'ISNES', 'Oevel (Westerlo)', 'CHAPELLE-LEZ-HERLAIMONT', 'Sint-Agatha-Rode', 'HOGNE', 'BELLEM', 'Hoogstraten Meerle', \"Brecht Sint-Job-in-'t-Goor\", 'Hoogstraten Meer', 'Sélange', 'Ramskapelle (8301)', 'Sibret', 'Mortroux', 'Orroir', 'Vlezenbeek', 'Liège (Laveu)', 'Tisselt', 'Noiseux', 'Le Roeulx', 'la roche en ardenne', 'AYE', 'nadrin', 'INGOOIGEM', 'Ternat Sint-Katherina-Lombeek', 'GRANDHAN', 'MOERBEKE', 'Baaigem', 'Ottignies-Louvain-la-Neuve Limelette', 'Sainte-Ode', 'FEXHE-SLINS', 'Romedenne', 'Mechelen Leest', 'Chimay', 'Genappe Ways', 'Leval-Chaudeville', 'LEVAL-TRAHEGNIES', 'Liège Wandre', 'Pepinster', 'Westerlo (Tongerlo)', 'Westerlo (Oevel)', 'GLIMES', 'HEUSY', 'SAINT-SYMPHORIEN', 'CORTIL-WODON', 'ISIÈRES', 'Manage - La Hestre', 'Baudour', 'Dion', 'Ramsel (Herselt)', 'Booischot (Heist-op-den-Berg)', 'ANDENNE', 'OHEY', 'MEER', 'alsemberg', 'BOUSSOIT', 'Sainte-Ode Tillet', 'Serskamp', 'MARCHE EN FAMENNE', 'Tournai Vaulx', 'Winksele', 'Herselt Ramsel', 'Meise Wolvertem', 'CASTEAU', 'Boekhoute', \"Ecaussinnes-d'Enghien\", 'Septon', 'Dampremy', 'Welkenraedt', 'Mariembourg', 'Fleurus Saint-Amand', 'Charleroi Roux', 'Epinois', 'Cadzand', 'Lillois-Witterzee', 'Zaffelare', 'Souvret']\n"
     ]
    }
   ],
   "source": [
    "localities = []\n",
    "for local in df.locality:\n",
    "    if local not in localities:\n",
    "            localities.append(local)\n",
    "print(len(localities), localities)\n"
   ]
  },
  {
   "cell_type": "code",
   "execution_count": null,
   "metadata": {},
   "outputs": [],
   "source": []
  },
  {
   "cell_type": "code",
   "execution_count": 232,
   "metadata": {},
   "outputs": [
    {
     "data": {
      "text/plain": [
       "475289.5806558244"
      ]
     },
     "execution_count": 232,
     "metadata": {},
     "output_type": "execute_result"
    }
   ],
   "source": [
    "df.price.mean()"
   ]
  },
  {
   "cell_type": "code",
   "execution_count": 233,
   "metadata": {},
   "outputs": [
    {
     "data": {
      "text/plain": [
       "count    1.512600e+04\n",
       "mean     4.752896e+05\n",
       "std      4.690730e+05\n",
       "min      4.000000e+04\n",
       "25%      2.499000e+05\n",
       "50%      3.499995e+05\n",
       "75%      5.250000e+05\n",
       "max      1.050000e+07\n",
       "Name: price, dtype: float64"
      ]
     },
     "execution_count": 233,
     "metadata": {},
     "output_type": "execute_result"
    }
   ],
   "source": [
    "df.price.describe()"
   ]
  },
  {
   "cell_type": "code",
   "execution_count": 25,
   "metadata": {},
   "outputs": [
    {
     "data": {
      "image/png": "[encoded data removed]",
      "text/plain": [
       "<Figure size 640x480 with 1 Axes>"
      ]
     },
     "metadata": {},
     "output_type": "display_data"
    }
   ],
   "source": [
    "plt.bar(\"price\",[\"price\"])\n",
    "plt.show()"
   ]
  },
  {
   "cell_type": "code",
   "execution_count": 234,
   "metadata": {},
   "outputs": [],
   "source": [
    "X = df.drop(columns=[\"price\",\"kitchen\",\"postal_code\",\"furnished\",\"property_type\", \"locality\",\"fireplace\",\"province\"])\n",
    "y = df.price"
   ]
  },
  {
   "cell_type": "code",
   "execution_count": null,
   "metadata": {},
   "outputs": [],
   "source": [
    "X_train,X_test,y_train,y_test = train_test_split(X,y, test_size=0.2, random_state=42)\n"
   ]
  },
  {
   "cell_type": "code",
   "execution_count": 236,
   "metadata": {},
   "outputs": [
    {
     "data": {
      "text/plain": [
       "Index(['bedrooms', 'facades', 'terraceSurface', 'buildingState',\n",
       "       'gardenSurface', 'pool', 'livingArea', 'surfaceOfThePlot',\n",
       "       'house_index'],\n",
       "      dtype='object')"
      ]
     },
     "execution_count": 236,
     "metadata": {},
     "output_type": "execute_result"
    }
   ],
   "source": [
    "X.columns"
   ]
  },
  {
   "cell_type": "code",
   "execution_count": 75,
   "metadata": {},
   "outputs": [],
   "source": [
    "categorical_feature_indices = [\"property_type\",\"province\",\"locality\"]"
   ]
  },
  {
   "cell_type": "code",
   "execution_count": null,
   "metadata": {},
   "outputs": [
    {
     "data": {
      "application/vnd.jupyter.widget-view+json": {
       "model_id": "4616cc654c494f66b7a9c53217d912e2",
       "version_major": 2,
       "version_minor": 0
      },
      "text/plain": [
       "MetricVisualizer(layout=Layout(align_self='stretch', height='500px'))"
      ]
     },
     "metadata": {},
     "output_type": "display_data"
    },
    {
     "data": {
      "text/plain": [
       "<catboost.core.CatBoostRegressor at 0x13c2a4cb0>"
      ]
     },
     "execution_count": 237,
     "metadata": {},
     "output_type": "execute_result"
    }
   ],
   "source": [
    "model = CatBoostRegressor(iterations=500, learning_rate=0.1, depth=6, eval_metric=\"AUC\" )\n",
    "model.fit(X_train, y_train, eval_set=(X_test, y_test), plot=True)"
   ]
  },
  {
   "cell_type": "code",
   "execution_count": 238,
   "metadata": {},
   "outputs": [
    {
     "name": "stdout",
     "output_type": "stream",
     "text": [
      "<bound method CatBoostRegressor.score of <catboost.core.CatBoostRegressor object at 0x13c2a4cb0>>\n",
      "Root Mean Squared Error: 353016.17\n"
     ]
    }
   ],
   "source": [
    "#Make predictions\n",
    "y_pred = model.predict(X_test)\n",
    "\n",
    "#Evaluate Mean Square Root (MSE)\n",
    "mse = root_mean_squared_error(y_test, y_pred)\n",
    "print(model.score)\n",
    "print(f\"Root Mean Squared Error: {mse:.2f}\")"
   ]
  },
  {
   "cell_type": "code",
   "execution_count": 239,
   "metadata": {},
   "outputs": [
    {
     "name": "stdout",
     "output_type": "stream",
     "text": [
      "{'R2': [0.045413518163719635, 0.08146979150503353, 0.116379224954685, 0.1414536473718484, 0.16324454750672368, 0.18641104992799307, 0.20439014283726753, 0.2214891550823762, 0.23447862744337233, 0.24870043923016583, 0.25646355787581154, 0.2653743970242548, 0.27280283342808553, 0.28040135100022734, 0.2878119943994609, 0.2949764765441665, 0.30006870961341725, 0.30708880922954973, 0.31237511202550594, 0.3175725354537987, 0.32132204199433245, 0.32385171518681466, 0.32544572200384736, 0.32836254180403857, 0.3313723209083703, 0.33396422382165425, 0.3346364745950563, 0.33545516587870106, 0.33562102211737954, 0.33730543077243935, 0.3388659266581101, 0.34217298301281607, 0.34333777423167644, 0.34448592959229374, 0.3480688265937082, 0.34804880996091636, 0.3500786095267213, 0.35072114632243057, 0.3515379410312207, 0.3531570066397264, 0.3534977744013602, 0.3532016500745643, 0.35301548648364767, 0.35427415458620515, 0.35678038262428824, 0.35661109043708805, 0.3583731155894647, 0.3582284949633757, 0.3591145205898931, 0.36026907343000536, 0.3596379508949433, 0.3608169693047928, 0.36252100047368585, 0.3640940866909288, 0.3653073797112142, 0.3652879478821959, 0.3653021109827854, 0.36567730582197033, 0.3661055504343965, 0.36601866224253277, 0.3653950662404555, 0.365235899100249, 0.36485619229032007, 0.3660739813231242, 0.36612679424384964, 0.3662478423119936, 0.36636887553104536, 0.36669473513306783, 0.3676558497279332, 0.3682001491058704, 0.3688110077994554, 0.36992843928612196, 0.37024809685935367, 0.3683443745233813, 0.3679534112128151, 0.3683538152118353, 0.36848808641184894, 0.3693796074589858, 0.37123018483879733, 0.3716925372968427, 0.37404741595575597, 0.3738516811818451, 0.3742296072609532, 0.37378945664674756, 0.3739987077147543, 0.3744047539726627, 0.37459287149797704, 0.3744700173535431, 0.37484655291836955, 0.3749886063402532, 0.3761963785461271, 0.3756213574655316, 0.3755664227104544, 0.3761398879247202, 0.3761174756618113, 0.37591883287679606, 0.37564003701319515, 0.37425060418459744, 0.3746888035554903, 0.3746687171788411, 0.37477231814949996, 0.37574714509530194, 0.37569854438090444, 0.3760836448432294, 0.3769784402013818, 0.3779548677107023, 0.3784888828876427, 0.378315453204059, 0.3791456932959003, 0.3792556123437172, 0.3809214696340879, 0.3807128852222854, 0.38037247896340587, 0.38020790276930294, 0.38032162686957816, 0.3800085443194856, 0.38016622032849445, 0.38098251073580747, 0.3811477617918634, 0.38100439151742105, 0.38156036286389106, 0.3815768062676378, 0.38102957258914727, 0.38087239043300547, 0.38045020116090167, 0.38008324527338055, 0.37978907554241736, 0.3793445838208973, 0.37936127900045724, 0.37866646987134933, 0.37877319840081547, 0.3788641791797215, 0.37866310319881635, 0.37875317351314974, 0.37885293300290956, 0.37836216130930955, 0.37647289344652013, 0.3770699632064536, 0.3780433237699967, 0.37774761664099277, 0.3775254210705863, 0.37767676780937576, 0.3779246400092089, 0.3783189396351718, 0.37811389877704216, 0.3779435984002766, 0.37893007360108955, 0.37915164609073015, 0.37895492928847885, 0.3769469106795845, 0.37801278793720283, 0.37811153373540685, 0.37821053415929395, 0.3783020569030282, 0.3789631053461411, 0.3787083917839139, 0.37844947400754936, 0.37939602989915044, 0.3803146387208777, 0.3805183282800444, 0.3816734510298092, 0.3822480125134692, 0.38211014981041125, 0.38290389224824883, 0.38275661614463374, 0.38255629169254357, 0.38219804930918155, 0.38179841304361617, 0.3814817601664596, 0.38126182731024916, 0.3816836421266455, 0.38191449979691716, 0.3825896118782901, 0.38331808651151456, 0.3827922452972289, 0.3823627314784386, 0.3830443802892777, 0.38315431545648526, 0.3833616974477141, 0.38442920113972157, 0.3843425999805, 0.38395895706552186, 0.3846664132301961, 0.3848208208235463, 0.3847490495138529, 0.38552398836765256, 0.3857895318851041, 0.38618003402452117, 0.38626538437955904, 0.3863829076419296, 0.3867030945914256, 0.38682259041923905, 0.38734393943315326, 0.38726932083744325, 0.3877397143875906, 0.38754648573521244, 0.3877218454346497, 0.3878539824778703, 0.3882426348727509, 0.38803416050472916, 0.3886837947497255, 0.3885108536086195, 0.3882382528602222, 0.38754607533697416, 0.38748122550014585, 0.3877950846680759, 0.38787633868656946, 0.3879507180508164, 0.3881120444401829, 0.3880648513129592, 0.3882056837284362, 0.38782427023397925, 0.38772475163886577, 0.387580160111906, 0.387094968779641, 0.38739419189578783, 0.3874401291750461, 0.38738889260918175, 0.38794598876511066, 0.38801431154486277, 0.3877826987801616, 0.3875627222597897, 0.38617678439578385, 0.38591789707569657, 0.3858861824302159, 0.3860137820099575, 0.38622155417481474, 0.386683764931151, 0.38682010302502934, 0.3874466235210684, 0.38844262946767305, 0.38823276422202413, 0.3885470985852457, 0.38851584877868595, 0.3886073694194403, 0.38857585315104515, 0.38901987311164543, 0.38728289006557337, 0.3872375185932122, 0.3872547344496029, 0.38773308737836376, 0.38791664680984284, 0.3876734021902668, 0.3876969409004535, 0.3875788983822579, 0.3877644699760584, 0.388415064183259, 0.3889821181719705, 0.3887992213027218, 0.38859418072741403, 0.38871586096911204, 0.388423121523903, 0.3886395615584072, 0.3888929795645124, 0.38867877890617275, 0.3886322418193513, 0.38687471430282283, 0.38687478523547625, 0.386844942559354, 0.386807479104455, 0.3866371523397627, 0.3864956852049143, 0.3862996704079016, 0.3862858667167428, 0.38621688314687597, 0.3858514549492026, 0.3860673993548309, 0.3863436954893783, 0.3863188560604557, 0.38592240511193154, 0.3861207044868662, 0.38629744981293834, 0.3864514053689396, 0.386745330984817, 0.38677775086953126, 0.38649510750119254, 0.38599819311427497, 0.38616223921923154, 0.3859436605319666, 0.3857117079856929, 0.3849812714112576, 0.38519174247163823, 0.38493899549707333, 0.3851762895460361, 0.3853910761477024, 0.38549598864596823, 0.3855143159625094, 0.3854816500689605, 0.38559732391003354, 0.3851751091951633, 0.3851801314419141, 0.3854823138768324, 0.3854489070070394, 0.38522629441078493, 0.3849729051687888, 0.3849378751553062, 0.38493550332570103, 0.3847332902158922, 0.38329499927477884, 0.38340231763124355, 0.3833660460507621, 0.38411335993089735, 0.38408165573164865, 0.3841624624112875, 0.3841740075526844, 0.3839885699936014, 0.38437981510327135, 0.38421551134202003, 0.38421722858939555, 0.38438843472893125, 0.3842983323643041, 0.38435076756805175, 0.3847071808795606, 0.384632518413798, 0.38513867797017487, 0.3851457342233132, 0.3847514519595522, 0.38543163508713885, 0.3856537352663071, 0.3856006583518208, 0.38576011676078514, 0.38553610608507727, 0.3852866844343804, 0.3852947427316097, 0.3850598208503023, 0.3849934254735333, 0.384809040142988, 0.38542760684354693, 0.38543739900332474, 0.38558167218105033, 0.3856376387446191, 0.38575268889629777, 0.3856512762340215, 0.3853243681022812, 0.3852815266996179, 0.3851701478783598, 0.384961117485504, 0.38516975173956547, 0.38536838484033276, 0.38537879583112766, 0.3856494309512587, 0.3856639098882838, 0.3856779221179283, 0.3852492847865895, 0.38525285090860284, 0.3851515699564415, 0.38516156252638545, 0.3852539749291347, 0.38523949198870333, 0.38524555729900356, 0.38534676173148696, 0.3857613785390026, 0.3857657615145108, 0.38574976899370383, 0.3857513052618494, 0.38575050853675885, 0.3854511028529758, 0.3855545128099508, 0.3855624149259662, 0.38551477790878586, 0.3855116345318972, 0.38556521878033156, 0.3854278811866708, 0.38540279911442654, 0.38526004636735345, 0.3852675828133213, 0.3851847521541323, 0.385560344481934, 0.38623622618741105, 0.38654083255180227, 0.3861357440087779, 0.38594967226843, 0.3860273577362964, 0.38624641844043495, 0.38671425617030875, 0.3867058159328479, 0.3866468026158578, 0.3866272011497518, 0.3868146046243992, 0.38693580461341226, 0.3868034762714023, 0.3867720569142782, 0.3868898749724078, 0.38698646874134224, 0.3868753497714046, 0.3873497287324511, 0.3873669466848584, 0.3869596957242394, 0.3868213554767008, 0.3870227824529441, 0.38697862526545423, 0.3866592923578499, 0.3869874333005656, 0.38697255874595315, 0.3870730259470301, 0.38709694610238954, 0.38712351701492476, 0.38700075911948584, 0.38706071963590793, 0.3871370933834679, 0.3874298327158434, 0.38769969784413083, 0.38791985849088073, 0.3882018990172269, 0.38860937913395066, 0.38902453529972303, 0.389107829131736, 0.38904229933530177, 0.3890829129468747, 0.3891904480051993, 0.3892705691582935, 0.389696686926466, 0.3899774624957001, 0.38994508932567795, 0.3900105892248681, 0.3901072782143201, 0.39041197912932624, 0.3904183761517038, 0.3905292664322264, 0.39057468992439515, 0.39062676629674364, 0.3905191435030094, 0.39040260197606846, 0.3902822440343835, 0.39014690059440393, 0.3901708801976054, 0.38999830847585326, 0.39028007239143814, 0.39054886508749576, 0.3902635682049733, 0.3906369318002819, 0.3908082848467871, 0.3909195466734511, 0.3912549900669743, 0.39125593577858053, 0.3912176120987283, 0.3912461365854939, 0.39128483468829234, 0.3912303410818446, 0.39127385246261726, 0.3915925755080273, 0.391568437094984, 0.39206238962047546, 0.39209173120573004, 0.3920938112328398, 0.39216100127468023, 0.3922712901922091, 0.39225689627537963, 0.3923395697682647, 0.3924776626446064, 0.392355000510614, 0.3923918867453742, 0.3923898052999113, 0.392289505276477, 0.3925384466920506, 0.3926056254949756], 'RMSE': [442554.5993288474, 434116.14781155024, 425786.78445404564, 419702.051852002, 414341.55742724653, 408565.54528859333, 404025.9835869331, 399660.7987824434, 396312.5987664356, 392614.00389297295, 390580.3121095515, 388232.82198195625, 386264.9553069964, 384241.6055183847, 382257.96744453954, 380330.38450193434, 378954.3731128243, 377049.1849581429, 375608.1544614217, 374185.9418662773, 373156.5686447262, 372460.4760263232, 372021.18269668083, 371215.9885391905, 370383.2977574781, 369664.7142077872, 369478.1100213791, 369250.72934708896, 369204.6479123691, 368736.3262179603, 368301.9249967021, 367379.6293350241, 367054.2321188438, 366733.1997479774, 365729.58462405636, 365735.19918806496, 365165.41122820904, 364984.8584437322, 364755.2101834099, 364299.56925965904, 364203.5970497665, 364286.9975344676, 364339.41889304866, 363984.84652804065, 363277.8004146877, 363325.60371983843, 362827.74949878966, 362868.6372959869, 362618.06372359913, 362291.2889305806, 362469.9529763943, 362136.11398640316, 361653.0731131498, 361206.5777227489, 360861.8265162995, 360867.35056953185, 360863.32431141933, 360756.6483051037, 360634.85053838836, 360659.56588051585, 360836.89806032414, 360882.1465080456, 360990.0676414912, 360643.8305665217, 360628.80748008296, 360594.37196179474, 360559.93737956515, 360467.21227280505, 360193.5829012906, 360038.5286083966, 359864.4340344855, 359545.7481985778, 359454.5314944709, 359997.43199307413, 360108.8249817646, 359994.7417326208, 359956.47703935194, 359702.3075556388, 359174.1403508451, 359042.06054836547, 358368.58915706247, 358424.6155349676, 358316.43153814465, 358442.42461496656, 358382.53203747625, 358266.28348272014, 358212.4138007037, 358247.5954580734, 358139.7562895734, 358099.0639855193, 357752.90130373475, 357917.75132032693, 357933.4963268043, 357769.0996917302, 357775.52608680935, 357832.4790129983, 357912.39736421354, 358310.42006336694, 358184.9394002652, 358190.69219972554, 358161.0195753644, 357881.6963608261, 357895.627388497, 357785.2263704059, 357528.57383671944, 357248.2965186499, 357094.9177970364, 357144.7371302097, 356906.1796946558, 356874.58409842325, 356395.40012697515, 356455.4347273085, 356553.3884779625, 356600.7365231641, 356568.0191340888, 356658.0828934812, 356612.7274304843, 356377.82941252977, 356330.2574580963, 356371.53080667264, 356211.45142413577, 356206.7158223905, 356364.28204091225, 356409.52697356197, 356531.02586413466, 356636.5959025429, 356721.2034306163, 356849.00771193317, 356844.2081901946, 357043.89703631506, 357013.23040976917, 356987.0865513292, 357044.8643495169, 357018.98442119017, 356990.3183096564, 357131.32046463795, 357673.60152936133, 357502.31207195076, 357222.8949051957, 357307.80500258255, 357371.59352917946, 357328.14572015277, 357256.9764866454, 357143.7356880189, 357202.6268346707, 357251.53255692887, 356968.1502087195, 356904.4686697576, 356961.0070698014, 357537.6205239228, 357231.66397635615, 357203.306057345, 357174.872754476, 357148.58505651006, 356958.65736643824, 357031.85180232127, 357106.2389844905, 356834.21781246096, 356570.02964746376, 356511.42283989856, 356178.8814374905, 356013.35868138395, 356053.08192543866, 355824.31521138654, 355866.7731784051, 355924.51623002393, 356027.75540440815, 356142.88825607375, 356234.0876602777, 356297.4169300218, 356175.9462017041, 356109.4481828459, 355914.91241445695, 355704.8807125027, 355856.50217763544, 355980.3006086197, 355783.8094410401, 355752.10951492144, 355692.3029987843, 355384.28830060107, 355409.28591989976, 355520.0041697152, 355315.8074913048, 355271.224437421, 355291.9481048309, 355068.1237554096, 354991.39478204574, 354878.52879632683, 354853.85538792884, 354819.8785041739, 354727.2934701781, 354692.7339475657, 354541.91460285825, 354563.5047053674, 354427.37931308296, 354483.3033406933, 354432.55129638984, 354394.3038135332, 354281.7832219289, 354342.1440641193, 354154.0176203826, 354204.1091019071, 354283.0520782772, 354483.4221083184, 354502.1888944071, 354411.35247974057, 354387.8323303163, 354366.3007803147, 354319.5950613596, 354333.25861460407, 354292.48265962343, 354402.904475725, 354431.71013082686, 354473.5579738229, 354613.9465077496, 354527.3738426955, 354514.08117710066, 354528.9072415597, 354367.669866345, 354347.8905171993, 354414.93761682045, 354478.6045228407, 354879.46817758115, 354954.2976292524, 354963.46342672023, 354926.5846426562, 354866.5262061154, 354732.88350657496, 354693.45336395653, 354512.20189694787, 354223.8679130084, 354284.6413629458, 354193.6115240056, 354202.6623768205, 354176.154684349, 354185.28316116246, 354056.65404304577, 354559.5786903316, 354572.70594928035, 354567.72496900894, 354429.2974410528, 354376.1639824779, 354446.57231197454, 354439.75952991104, 354473.9231232989, 354420.2139397584, 354231.85095115786, 354067.5931722635, 354120.58099056553, 354179.97472960554, 354144.7290318788, 354229.5175253951, 354166.83020323043, 354093.41888223705, 354155.47053254733, 354168.9503935934, 354677.65808583464, 354677.6375694502, 354686.2690861606, 354697.10449387773, 354746.3632612661, 354787.27057937824, 354843.9433681748, 354847.93401998386, 354867.8765209692, 354973.49968736066, 354911.08703373984, 354831.21540230536, 354838.3967149561, 354952.9947499106, 354895.6789962713, 354844.58534596313, 354800.0737808485, 354715.07862012624, 354705.7024388057, 354787.43762129906, 354931.09034508205, 354883.6727708664, 354946.8516009445, 355013.88376666175, 355224.8906243843, 355164.10307964415, 355237.0993574121, 355168.5664956019, 355106.5226025318, 355076.21332701563, 355070.91829023807, 355080.35590203153, 355046.93505974836, 355168.90742530185, 355167.4568093943, 355080.16412159154, 355089.81555707246, 355154.12291042396, 355227.3067194729, 355237.4228918058, 355238.10783222906, 355296.4983747773, 355711.53906079277, 355680.5874399907, 355691.04880539933, 355475.44809022953, 355484.5974357962, 355461.2774028024, 355457.9454607786, 355511.45919129415, 355398.5439064887, 355445.9671581057, 355445.4715390287, 355396.0558357538, 355422.0631877898, 355406.92840248265, 355304.03694074677, 355325.5934013166, 355179.4299715561, 355177.3919159262, 355291.25442817324, 355094.8054105035, 355030.63537577796, 355045.97161591175, 354999.8951182774, 355064.6226940815, 355136.67885547824, 355134.35109860223, 355202.2054559672, 355221.3806119469, 355274.62614290067, 355095.9691590075, 355093.1402243239, 355051.45738950797, 355035.2864343239, 355002.04157865397, 355031.3459123037, 355125.79324633774, 355138.16873450426, 355170.34043650556, 355230.71086780843, 355170.4548557447, 355113.0777928068, 355110.07022327336, 355031.87910518394, 355027.6954071731, 355023.6465176113, 355147.48209038057, 355146.45199715806, 355175.7063739157, 355172.8201890162, 355146.1273172576, 355150.31077652564, 355148.5587917094, 355119.32428339607, 354999.5304957764, 354998.2639220305, 355002.88535129366, 355002.44141172484, 355002.6716436024, 355089.181172695, 355059.30454127205, 355057.0214023311, 355070.78482600633, 355071.6930007121, 355056.2112880581, 355095.889902154, 355103.1359597112, 355144.3735417091, 355142.19657682383, 355166.12216670084, 355057.6196120514, 354862.2847430162, 354774.21606754867, 354891.3316481274, 354945.11409575486, 354922.66076563974, 354859.33828269655, 354724.0655599706, 354726.50646543404, 354743.5725690781, 354749.24094953976, 354695.0436332602, 354659.98803654383, 354698.2621979659, 354707.3492101943, 354673.2730244538, 354645.333037614, 354677.4742844387, 354540.2394752962, 354535.25743240275, 354653.0774196004, 354693.0911239047, 354634.82863728853, 354647.60186454764, 354739.96072009025, 354645.0540253703, 354649.3566738892, 354620.2942814094, 354613.3744886331, 354605.68770764803, 354641.1993234349, 354623.8542860684, 354601.76009392896, 354517.0606609099, 354438.96158227755, 354375.23425232497, 354293.5785284645, 354175.5725759733, 354055.3031956224, 354031.1683245607, 354050.1561012765, 354038.38810614694, 354007.22740117664, 353984.0087093969, 353860.49640744587, 353779.08867939893, 353788.47587244463, 353769.4827202379, 353741.4437340168, 353653.0685137379, 353651.2128895696, 353619.0447070648, 353605.86695272924, 353590.75853510055, 353621.9813908942, 353655.7885854558, 353690.6994808427, 353729.9529381076, 353722.99848686066, 353773.0438741555, 353691.3293536165, 353613.3590251375, 353696.1162630519, 353587.8092399078, 353538.0912544849, 353505.804956881, 353408.44711403066, 353408.17259629787, 353419.2968842386, 353411.01706016087, 353399.7838228492, 353415.60205676965, 353402.9717659919, 353310.4404859324, 353317.44916828343, 353174.0004284526, 353165.47750611167, 353164.8733077206, 353145.3556430159, 353113.3160848679, 353117.4977645598, 353093.4790223885, 353053.3559024472, 353088.99582024245, 353078.27877224504, 353078.8835309176, 353108.02421951666, 353035.69354879856, 353016.1720079798], 'MAE': [237195.50298940745, 229122.00774567176, 221341.89245727044, 215328.4618642444, 210130.72533336448, 204293.59860743218, 199846.67769995975, 196384.48057991147, 193138.27882538323, 190319.69869492747, 188534.23767916532, 186345.00387834414, 184134.43756113618, 182079.61794126758, 180630.7477862305, 179023.99159030654, 177665.20978561032, 176580.9109481787, 175416.3510529451, 174363.98331777495, 173600.80911180977, 172840.48733103543, 172509.64997903502, 172001.0276308826, 171250.32108048713, 170794.8273270501, 170570.17261539068, 170182.0596276658, 170276.68356365277, 170013.99005762202, 169950.00089454616, 169578.67566841355, 169302.41454246978, 169071.35936926593, 168756.13251708832, 168794.12992020368, 168664.23726236515, 168639.88229393255, 168616.9667579465, 168431.22932738377, 168268.3128682109, 168285.3531222897, 168260.62917902292, 168164.21241679692, 168033.7221474681, 168151.48882823696, 168077.24687756578, 168092.04665573742, 168055.31393813752, 168014.63846274503, 168104.78694605327, 168006.9660600334, 167946.26704619383, 167769.6905791959, 167705.98100010084, 167747.62786672672, 167736.87882339497, 167670.40476373563, 167731.94155445485, 167736.44035272603, 167839.4251276569, 167800.39208240612, 167910.6002752408, 167826.46212896414, 167785.01918357878, 167791.42640508944, 167835.48346792065, 167797.1436407121, 167767.57740468695, 167770.62265855903, 167743.63495794858, 167685.4452562443, 167691.0738332265, 167879.5608445698, 167905.77356668506, 167868.075217213, 167928.4725081133, 167923.28162788672, 167874.94028540797, 167794.51465922839, 167743.20536660316, 167762.31213565273, 167689.6514311018, 167682.26208398328, 167674.5741645077, 167610.61778856756, 167639.88295207213, 167622.7057371171, 167600.25928823854, 167579.3223022595, 167459.30894837924, 167426.71306291767, 167416.9239897463, 167439.0992357362, 167466.04106914427, 167517.2989261334, 167551.66053166124, 167630.34276921654, 167619.76826606764, 167623.2810779542, 167608.0171517363, 167516.8699085453, 167486.88603638485, 167457.02177515786, 167469.49320041455, 167470.1787491594, 167460.0250084806, 167553.34234110292, 167393.52377492742, 167360.3614496766, 167314.41804562428, 167387.53178985365, 167393.38299161018, 167420.7400591112, 167390.79930984275, 167385.30555500768, 167356.8525272513, 167305.27037200087, 167374.91007458052, 167372.4538017095, 167405.34376513906, 167405.5680158421, 167433.18677920155, 167412.27472472974, 167466.9675323177, 167520.517894945, 167539.03077053314, 167563.95541163342, 167489.56653919353, 167624.49438408826, 167607.10627516758, 167590.61180532476, 167607.81417526017, 167598.6001841038, 167580.69139739772, 167600.716720597, 167756.35106681017, 167638.1247927688, 167593.61463541756, 167597.44594272604, 167594.30646638194, 167580.39759436753, 167555.3483749787, 167407.31013538718, 167489.5395914868, 167500.88426038335, 167548.03999839025, 167540.23537085895, 167522.85095313322, 167657.2537767233, 167620.01209020146, 167593.8709146163, 167606.48245455459, 167544.39523172862, 167519.00238418905, 167523.2930102691, 167573.4210508077, 167526.74533392824, 167524.38440050595, 167500.39224228368, 167366.99870632307, 167270.16296032278, 167272.14236832058, 167276.46586424677, 167231.66572159802, 167220.01952781275, 167205.2433057269, 167245.20781941997, 167286.452249668, 167312.03423684282, 167278.48077947303, 167256.81022095203, 167151.0971451406, 167067.72074951147, 167069.14955597481, 167082.1589432659, 167141.22335953265, 167133.18297226884, 167115.83958772046, 166972.641580132, 166983.07964081867, 166974.52808751888, 166991.90903274616, 166986.41349876582, 166993.4391787647, 166892.1228409151, 166899.76415963608, 166872.53258860225, 166882.72067156853, 166869.18650273106, 166846.18724582865, 166845.71143850984, 166819.52119831913, 166821.77262354924, 166770.07721972515, 166785.94011785393, 166757.7206561922, 166711.0244770559, 166695.01458158775, 166693.16225412875, 166600.1532198874, 166606.6591278306, 166647.99153929923, 166683.62567036162, 166692.63961011946, 166702.7475413962, 166669.49290722652, 166678.48499109704, 166670.45571355315, 166719.1039429579, 166691.42172934636, 166690.52145462448, 166671.2874088625, 166652.36702335122, 166677.06888337363, 166629.079487856, 166608.22579766568, 166653.7774377912, 166677.0876283903, 166670.94112876075, 166646.61482552445, 166674.39580893214, 166753.07994107163, 166753.30224023975, 166761.06857848464, 166711.0508095542, 166679.15794204196, 166628.20975396372, 166649.95334606856, 166646.2268561561, 166583.01594679587, 166589.48456822502, 166476.6402474861, 166486.6998362719, 166493.30700401837, 166470.794364301, 166412.52473720256, 166482.91865748612, 166489.2179302855, 166480.9640463899, 166389.54030088446, 166369.44052339144, 166417.3978665837, 166390.53861545678, 166388.57822433315, 166370.46007700457, 166312.1615364706, 166315.79326261737, 166326.71626465998, 166340.29654231414, 166349.78974964895, 166395.5309791675, 166281.77302475483, 166235.57587149253, 166256.434775822, 166283.8722160265, 166333.68653277124, 166330.413464563, 166322.92437795553, 166316.25153038482, 166316.72972969478, 166362.63736982556, 166313.3396216027, 166302.22490721924, 166320.22532808, 166342.74992703513, 166315.1333537966, 166287.35130230055, 166284.7592727896, 166324.77744419035, 166325.65171001496, 166374.13312726555, 166353.24147599246, 166330.75350866013, 166321.68569596438, 166339.3951141259, 166366.55403123808, 166343.76079504009, 166352.73189228468, 166343.74237554288, 166390.88781855773, 166366.45236172978, 166354.31106765114, 166333.61483859704, 166254.8047626083, 166231.02194912784, 166223.18155708438, 166207.68498515317, 166187.62657055727, 166203.0878545685, 166198.95621813048, 166190.23342242863, 166192.1668105614, 166216.50945180847, 166249.20677595816, 166235.38109507848, 166279.08694585934, 166306.52281922818, 166341.01368493275, 166292.20359113082, 166323.12529859843, 166237.95549391766, 166234.8581858636, 166217.4730605302, 166201.54673868188, 166202.96060849188, 166186.12739758802, 166228.56166635093, 166229.01836128114, 166234.4563322746, 166226.39925787045, 166188.92473698553, 166209.7766166633, 166239.86675326785, 166173.5474116447, 166164.7345405818, 166201.33315390509, 166136.28392975032, 166083.16037780454, 166107.1856214522, 166088.5665496779, 166131.687659054, 166163.2440030934, 166136.32316636402, 166168.3764559695, 166160.6078638848, 166157.9902455602, 166073.25273112644, 166041.533666883, 166030.43137163736, 166039.6114599045, 166028.70031668627, 166041.38355524995, 166051.81359331086, 166040.16899825286, 166028.1871224838, 166049.5789359186, 165996.91963697434, 165998.69203197205, 165981.42111455637, 165932.0369120976, 165922.41957753926, 165948.547307566, 165962.2861449463, 165945.70366132027, 165912.26348891298, 165886.32102332852, 165806.38415620752, 165799.9364162599, 165775.92840662398, 165754.64397964708, 165707.10939042136, 165685.31555070853, 165683.09408343417, 165664.33510377345, 165652.69796812264, 165695.0437766903, 165668.65660649515, 165683.68445277947, 165643.93240742385, 165656.55156585906, 165636.8955758206, 165636.33006600878, 165663.89622595473, 165665.04959087702, 165685.4408753686, 165701.58149032577, 165679.57708776413, 165609.00182444794, 165583.48084359273, 165604.914822584, 165646.31201560856, 165629.42017043583, 165584.83665191318, 165517.0712060652, 165519.88824669764, 165521.98822401973, 165514.26178646105, 165548.72701086235, 165522.95136982005, 165559.82685445744, 165574.2381048342, 165527.97153885532, 165537.7366805504, 165548.77982109998, 165517.70332824142, 165541.7821469747, 165562.06371457863, 165542.24224094566, 165468.1830326515, 165471.18042278607, 165558.80126855106, 165512.2127190933, 165524.38335487022, 165512.33111382945, 165547.49896963465, 165515.86575984728, 165510.83844862314, 165520.48678039844, 165515.48383504542, 165499.31515528832, 165453.5700705085, 165405.2163041996, 165365.8069940122, 165310.83660277654, 165319.55204537936, 165344.94882042022, 165355.86304529104, 165345.90666308187, 165349.0925788303, 165363.8754898922, 165356.52426725946, 165297.8677144814, 165303.48145166365, 165288.8712061621, 165268.6256415295, 165217.10551362956, 165213.51598936363, 165226.9135172811, 165228.48984859584, 165218.22689061583, 165245.46149089545, 165235.38633923585, 165194.09753886773, 165204.0869097741, 165228.19272118225, 165284.08082023586, 165245.0227079666, 165271.57307723188, 165342.50181636008, 165362.5026441362, 165338.15099961613, 165319.8006939004, 165283.18856927456, 165296.4368595001, 165309.5069627957, 165345.05392880327, 165359.40716267025, 165368.0890309871, 165384.07659426887, 165370.32286427158, 165390.37554052923, 165312.68417541077, 165304.4699429938, 165325.59903018674, 165323.88789894074, 165306.77136615623, 165322.5408400719, 165318.92537487866, 165303.34819899383, 165358.24232598062, 165365.2451493893, 165356.11794921098, 165365.00565474897, 165356.19560232293, 165282.67763464095]}\n"
     ]
    }
   ],
   "source": [
    "validation_pool = Pool(X_test, y_test)\n",
    "metrics = model.eval_metrics(data=validation_pool, metrics=['R2', 'RMSE', 'MAE'])\n",
    "print(metrics)"
   ]
  },
  {
   "cell_type": "code",
   "execution_count": 240,
   "metadata": {},
   "outputs": [
    {
     "data": {
      "image/png": "[encoded data removed]",
      "text/plain": [
       "<Figure size 640x480 with 1 Axes>"
      ]
     },
     "metadata": {},
     "output_type": "display_data"
    }
   ],
   "source": [
    "plt.scatter(y_test, y_pred)\n",
    "\n",
    "plt.show()"
   ]
  },
  {
   "cell_type": "code",
   "execution_count": 241,
   "metadata": {},
   "outputs": [
    {
     "data": {
      "text/plain": [
       "10500000.0"
      ]
     },
     "execution_count": 241,
     "metadata": {},
     "output_type": "execute_result"
    }
   ],
   "source": [
    "df.price.max()"
   ]
  },
  {
   "cell_type": "code",
   "execution_count": 242,
   "metadata": {},
   "outputs": [
    {
     "ename": "ValueError",
     "evalue": "Input X contains NaN.\nLinearRegression does not accept missing values encoded as NaN natively. For supervised learning, you might want to consider sklearn.ensemble.HistGradientBoostingClassifier and Regressor which accept missing values encoded as NaNs natively. Alternatively, it is possible to preprocess the data, for instance by using an imputer transformer in a pipeline or drop samples with missing values. See https://scikit-learn.org/stable/modules/impute.html You can find a list of all estimators that handle NaN values at the following page: https://scikit-learn.org/stable/modules/impute.html#estimators-that-handle-nan-values",
     "output_type": "error",
     "traceback": [
      "\u001b[0;31m---------------------------------------------------------------------------\u001b[0m",
      "\u001b[0;31mValueError\u001b[0m                                Traceback (most recent call last)",
      "Cell \u001b[0;32mIn[242], line 2\u001b[0m\n\u001b[1;32m      1\u001b[0m model \u001b[38;5;241m=\u001b[39m LinearRegression()\n\u001b[0;32m----> 2\u001b[0m \u001b[43mmodel\u001b[49m\u001b[38;5;241;43m.\u001b[39;49m\u001b[43mfit\u001b[49m\u001b[43m(\u001b[49m\u001b[43mX_train\u001b[49m\u001b[43m,\u001b[49m\u001b[43my_train\u001b[49m\u001b[43m)\u001b[49m\n",
      "File \u001b[0;32m~/Desktop/Becode/ByteMind_Final/ByteMind/.conda/lib/python3.12/site-packages/sklearn/base.py:1473\u001b[0m, in \u001b[0;36m_fit_context.<locals>.decorator.<locals>.wrapper\u001b[0;34m(estimator, *args, **kwargs)\u001b[0m\n\u001b[1;32m   1466\u001b[0m     estimator\u001b[38;5;241m.\u001b[39m_validate_params()\n\u001b[1;32m   1468\u001b[0m \u001b[38;5;28;01mwith\u001b[39;00m config_context(\n\u001b[1;32m   1469\u001b[0m     skip_parameter_validation\u001b[38;5;241m=\u001b[39m(\n\u001b[1;32m   1470\u001b[0m         prefer_skip_nested_validation \u001b[38;5;129;01mor\u001b[39;00m global_skip_validation\n\u001b[1;32m   1471\u001b[0m     )\n\u001b[1;32m   1472\u001b[0m ):\n\u001b[0;32m-> 1473\u001b[0m     \u001b[38;5;28;01mreturn\u001b[39;00m \u001b[43mfit_method\u001b[49m\u001b[43m(\u001b[49m\u001b[43mestimator\u001b[49m\u001b[43m,\u001b[49m\u001b[43m \u001b[49m\u001b[38;5;241;43m*\u001b[39;49m\u001b[43margs\u001b[49m\u001b[43m,\u001b[49m\u001b[43m \u001b[49m\u001b[38;5;241;43m*\u001b[39;49m\u001b[38;5;241;43m*\u001b[39;49m\u001b[43mkwargs\u001b[49m\u001b[43m)\u001b[49m\n",
      "File \u001b[0;32m~/Desktop/Becode/ByteMind_Final/ByteMind/.conda/lib/python3.12/site-packages/sklearn/linear_model/_base.py:609\u001b[0m, in \u001b[0;36mLinearRegression.fit\u001b[0;34m(self, X, y, sample_weight)\u001b[0m\n\u001b[1;32m    605\u001b[0m n_jobs_ \u001b[38;5;241m=\u001b[39m \u001b[38;5;28mself\u001b[39m\u001b[38;5;241m.\u001b[39mn_jobs\n\u001b[1;32m    607\u001b[0m accept_sparse \u001b[38;5;241m=\u001b[39m \u001b[38;5;28;01mFalse\u001b[39;00m \u001b[38;5;28;01mif\u001b[39;00m \u001b[38;5;28mself\u001b[39m\u001b[38;5;241m.\u001b[39mpositive \u001b[38;5;28;01melse\u001b[39;00m [\u001b[38;5;124m\"\u001b[39m\u001b[38;5;124mcsr\u001b[39m\u001b[38;5;124m\"\u001b[39m, \u001b[38;5;124m\"\u001b[39m\u001b[38;5;124mcsc\u001b[39m\u001b[38;5;124m\"\u001b[39m, \u001b[38;5;124m\"\u001b[39m\u001b[38;5;124mcoo\u001b[39m\u001b[38;5;124m\"\u001b[39m]\n\u001b[0;32m--> 609\u001b[0m X, y \u001b[38;5;241m=\u001b[39m \u001b[38;5;28;43mself\u001b[39;49m\u001b[38;5;241;43m.\u001b[39;49m\u001b[43m_validate_data\u001b[49m\u001b[43m(\u001b[49m\n\u001b[1;32m    610\u001b[0m \u001b[43m    \u001b[49m\u001b[43mX\u001b[49m\u001b[43m,\u001b[49m\n\u001b[1;32m    611\u001b[0m \u001b[43m    \u001b[49m\u001b[43my\u001b[49m\u001b[43m,\u001b[49m\n\u001b[1;32m    612\u001b[0m \u001b[43m    \u001b[49m\u001b[43maccept_sparse\u001b[49m\u001b[38;5;241;43m=\u001b[39;49m\u001b[43maccept_sparse\u001b[49m\u001b[43m,\u001b[49m\n\u001b[1;32m    613\u001b[0m \u001b[43m    \u001b[49m\u001b[43my_numeric\u001b[49m\u001b[38;5;241;43m=\u001b[39;49m\u001b[38;5;28;43;01mTrue\u001b[39;49;00m\u001b[43m,\u001b[49m\n\u001b[1;32m    614\u001b[0m \u001b[43m    \u001b[49m\u001b[43mmulti_output\u001b[49m\u001b[38;5;241;43m=\u001b[39;49m\u001b[38;5;28;43;01mTrue\u001b[39;49;00m\u001b[43m,\u001b[49m\n\u001b[1;32m    615\u001b[0m \u001b[43m    \u001b[49m\u001b[43mforce_writeable\u001b[49m\u001b[38;5;241;43m=\u001b[39;49m\u001b[38;5;28;43;01mTrue\u001b[39;49;00m\u001b[43m,\u001b[49m\n\u001b[1;32m    616\u001b[0m \u001b[43m\u001b[49m\u001b[43m)\u001b[49m\n\u001b[1;32m    618\u001b[0m has_sw \u001b[38;5;241m=\u001b[39m sample_weight \u001b[38;5;129;01mis\u001b[39;00m \u001b[38;5;129;01mnot\u001b[39;00m \u001b[38;5;28;01mNone\u001b[39;00m\n\u001b[1;32m    619\u001b[0m \u001b[38;5;28;01mif\u001b[39;00m has_sw:\n",
      "File \u001b[0;32m~/Desktop/Becode/ByteMind_Final/ByteMind/.conda/lib/python3.12/site-packages/sklearn/base.py:650\u001b[0m, in \u001b[0;36mBaseEstimator._validate_data\u001b[0;34m(self, X, y, reset, validate_separately, cast_to_ndarray, **check_params)\u001b[0m\n\u001b[1;32m    648\u001b[0m         y \u001b[38;5;241m=\u001b[39m check_array(y, input_name\u001b[38;5;241m=\u001b[39m\u001b[38;5;124m\"\u001b[39m\u001b[38;5;124my\u001b[39m\u001b[38;5;124m\"\u001b[39m, \u001b[38;5;241m*\u001b[39m\u001b[38;5;241m*\u001b[39mcheck_y_params)\n\u001b[1;32m    649\u001b[0m     \u001b[38;5;28;01melse\u001b[39;00m:\n\u001b[0;32m--> 650\u001b[0m         X, y \u001b[38;5;241m=\u001b[39m \u001b[43mcheck_X_y\u001b[49m\u001b[43m(\u001b[49m\u001b[43mX\u001b[49m\u001b[43m,\u001b[49m\u001b[43m \u001b[49m\u001b[43my\u001b[49m\u001b[43m,\u001b[49m\u001b[43m \u001b[49m\u001b[38;5;241;43m*\u001b[39;49m\u001b[38;5;241;43m*\u001b[39;49m\u001b[43mcheck_params\u001b[49m\u001b[43m)\u001b[49m\n\u001b[1;32m    651\u001b[0m     out \u001b[38;5;241m=\u001b[39m X, y\n\u001b[1;32m    653\u001b[0m \u001b[38;5;28;01mif\u001b[39;00m \u001b[38;5;129;01mnot\u001b[39;00m no_val_X \u001b[38;5;129;01mand\u001b[39;00m check_params\u001b[38;5;241m.\u001b[39mget(\u001b[38;5;124m\"\u001b[39m\u001b[38;5;124mensure_2d\u001b[39m\u001b[38;5;124m\"\u001b[39m, \u001b[38;5;28;01mTrue\u001b[39;00m):\n",
      "File \u001b[0;32m~/Desktop/Becode/ByteMind_Final/ByteMind/.conda/lib/python3.12/site-packages/sklearn/utils/validation.py:1301\u001b[0m, in \u001b[0;36mcheck_X_y\u001b[0;34m(X, y, accept_sparse, accept_large_sparse, dtype, order, copy, force_writeable, force_all_finite, ensure_2d, allow_nd, multi_output, ensure_min_samples, ensure_min_features, y_numeric, estimator)\u001b[0m\n\u001b[1;32m   1296\u001b[0m         estimator_name \u001b[38;5;241m=\u001b[39m _check_estimator_name(estimator)\n\u001b[1;32m   1297\u001b[0m     \u001b[38;5;28;01mraise\u001b[39;00m \u001b[38;5;167;01mValueError\u001b[39;00m(\n\u001b[1;32m   1298\u001b[0m         \u001b[38;5;124mf\u001b[39m\u001b[38;5;124m\"\u001b[39m\u001b[38;5;132;01m{\u001b[39;00mestimator_name\u001b[38;5;132;01m}\u001b[39;00m\u001b[38;5;124m requires y to be passed, but the target y is None\u001b[39m\u001b[38;5;124m\"\u001b[39m\n\u001b[1;32m   1299\u001b[0m     )\n\u001b[0;32m-> 1301\u001b[0m X \u001b[38;5;241m=\u001b[39m \u001b[43mcheck_array\u001b[49m\u001b[43m(\u001b[49m\n\u001b[1;32m   1302\u001b[0m \u001b[43m    \u001b[49m\u001b[43mX\u001b[49m\u001b[43m,\u001b[49m\n\u001b[1;32m   1303\u001b[0m \u001b[43m    \u001b[49m\u001b[43maccept_sparse\u001b[49m\u001b[38;5;241;43m=\u001b[39;49m\u001b[43maccept_sparse\u001b[49m\u001b[43m,\u001b[49m\n\u001b[1;32m   1304\u001b[0m \u001b[43m    \u001b[49m\u001b[43maccept_large_sparse\u001b[49m\u001b[38;5;241;43m=\u001b[39;49m\u001b[43maccept_large_sparse\u001b[49m\u001b[43m,\u001b[49m\n\u001b[1;32m   1305\u001b[0m \u001b[43m    \u001b[49m\u001b[43mdtype\u001b[49m\u001b[38;5;241;43m=\u001b[39;49m\u001b[43mdtype\u001b[49m\u001b[43m,\u001b[49m\n\u001b[1;32m   1306\u001b[0m \u001b[43m    \u001b[49m\u001b[43morder\u001b[49m\u001b[38;5;241;43m=\u001b[39;49m\u001b[43morder\u001b[49m\u001b[43m,\u001b[49m\n\u001b[1;32m   1307\u001b[0m \u001b[43m    \u001b[49m\u001b[43mcopy\u001b[49m\u001b[38;5;241;43m=\u001b[39;49m\u001b[43mcopy\u001b[49m\u001b[43m,\u001b[49m\n\u001b[1;32m   1308\u001b[0m \u001b[43m    \u001b[49m\u001b[43mforce_writeable\u001b[49m\u001b[38;5;241;43m=\u001b[39;49m\u001b[43mforce_writeable\u001b[49m\u001b[43m,\u001b[49m\n\u001b[1;32m   1309\u001b[0m \u001b[43m    \u001b[49m\u001b[43mforce_all_finite\u001b[49m\u001b[38;5;241;43m=\u001b[39;49m\u001b[43mforce_all_finite\u001b[49m\u001b[43m,\u001b[49m\n\u001b[1;32m   1310\u001b[0m \u001b[43m    \u001b[49m\u001b[43mensure_2d\u001b[49m\u001b[38;5;241;43m=\u001b[39;49m\u001b[43mensure_2d\u001b[49m\u001b[43m,\u001b[49m\n\u001b[1;32m   1311\u001b[0m \u001b[43m    \u001b[49m\u001b[43mallow_nd\u001b[49m\u001b[38;5;241;43m=\u001b[39;49m\u001b[43mallow_nd\u001b[49m\u001b[43m,\u001b[49m\n\u001b[1;32m   1312\u001b[0m \u001b[43m    \u001b[49m\u001b[43mensure_min_samples\u001b[49m\u001b[38;5;241;43m=\u001b[39;49m\u001b[43mensure_min_samples\u001b[49m\u001b[43m,\u001b[49m\n\u001b[1;32m   1313\u001b[0m \u001b[43m    \u001b[49m\u001b[43mensure_min_features\u001b[49m\u001b[38;5;241;43m=\u001b[39;49m\u001b[43mensure_min_features\u001b[49m\u001b[43m,\u001b[49m\n\u001b[1;32m   1314\u001b[0m \u001b[43m    \u001b[49m\u001b[43mestimator\u001b[49m\u001b[38;5;241;43m=\u001b[39;49m\u001b[43mestimator\u001b[49m\u001b[43m,\u001b[49m\n\u001b[1;32m   1315\u001b[0m \u001b[43m    \u001b[49m\u001b[43minput_name\u001b[49m\u001b[38;5;241;43m=\u001b[39;49m\u001b[38;5;124;43m\"\u001b[39;49m\u001b[38;5;124;43mX\u001b[39;49m\u001b[38;5;124;43m\"\u001b[39;49m\u001b[43m,\u001b[49m\n\u001b[1;32m   1316\u001b[0m \u001b[43m\u001b[49m\u001b[43m)\u001b[49m\n\u001b[1;32m   1318\u001b[0m y \u001b[38;5;241m=\u001b[39m _check_y(y, multi_output\u001b[38;5;241m=\u001b[39mmulti_output, y_numeric\u001b[38;5;241m=\u001b[39my_numeric, estimator\u001b[38;5;241m=\u001b[39mestimator)\n\u001b[1;32m   1320\u001b[0m check_consistent_length(X, y)\n",
      "File \u001b[0;32m~/Desktop/Becode/ByteMind_Final/ByteMind/.conda/lib/python3.12/site-packages/sklearn/utils/validation.py:1064\u001b[0m, in \u001b[0;36mcheck_array\u001b[0;34m(array, accept_sparse, accept_large_sparse, dtype, order, copy, force_writeable, force_all_finite, ensure_2d, allow_nd, ensure_min_samples, ensure_min_features, estimator, input_name)\u001b[0m\n\u001b[1;32m   1058\u001b[0m     \u001b[38;5;28;01mraise\u001b[39;00m \u001b[38;5;167;01mValueError\u001b[39;00m(\n\u001b[1;32m   1059\u001b[0m         \u001b[38;5;124m\"\u001b[39m\u001b[38;5;124mFound array with dim \u001b[39m\u001b[38;5;132;01m%d\u001b[39;00m\u001b[38;5;124m. \u001b[39m\u001b[38;5;132;01m%s\u001b[39;00m\u001b[38;5;124m expected <= 2.\u001b[39m\u001b[38;5;124m\"\u001b[39m\n\u001b[1;32m   1060\u001b[0m         \u001b[38;5;241m%\u001b[39m (array\u001b[38;5;241m.\u001b[39mndim, estimator_name)\n\u001b[1;32m   1061\u001b[0m     )\n\u001b[1;32m   1063\u001b[0m \u001b[38;5;28;01mif\u001b[39;00m force_all_finite:\n\u001b[0;32m-> 1064\u001b[0m     \u001b[43m_assert_all_finite\u001b[49m\u001b[43m(\u001b[49m\n\u001b[1;32m   1065\u001b[0m \u001b[43m        \u001b[49m\u001b[43marray\u001b[49m\u001b[43m,\u001b[49m\n\u001b[1;32m   1066\u001b[0m \u001b[43m        \u001b[49m\u001b[43minput_name\u001b[49m\u001b[38;5;241;43m=\u001b[39;49m\u001b[43minput_name\u001b[49m\u001b[43m,\u001b[49m\n\u001b[1;32m   1067\u001b[0m \u001b[43m        \u001b[49m\u001b[43mestimator_name\u001b[49m\u001b[38;5;241;43m=\u001b[39;49m\u001b[43mestimator_name\u001b[49m\u001b[43m,\u001b[49m\n\u001b[1;32m   1068\u001b[0m \u001b[43m        \u001b[49m\u001b[43mallow_nan\u001b[49m\u001b[38;5;241;43m=\u001b[39;49m\u001b[43mforce_all_finite\u001b[49m\u001b[43m \u001b[49m\u001b[38;5;241;43m==\u001b[39;49m\u001b[43m \u001b[49m\u001b[38;5;124;43m\"\u001b[39;49m\u001b[38;5;124;43mallow-nan\u001b[39;49m\u001b[38;5;124;43m\"\u001b[39;49m\u001b[43m,\u001b[49m\n\u001b[1;32m   1069\u001b[0m \u001b[43m    \u001b[49m\u001b[43m)\u001b[49m\n\u001b[1;32m   1071\u001b[0m \u001b[38;5;28;01mif\u001b[39;00m copy:\n\u001b[1;32m   1072\u001b[0m     \u001b[38;5;28;01mif\u001b[39;00m _is_numpy_namespace(xp):\n\u001b[1;32m   1073\u001b[0m         \u001b[38;5;66;03m# only make a copy if `array` and `array_orig` may share memory`\u001b[39;00m\n",
      "File \u001b[0;32m~/Desktop/Becode/ByteMind_Final/ByteMind/.conda/lib/python3.12/site-packages/sklearn/utils/validation.py:123\u001b[0m, in \u001b[0;36m_assert_all_finite\u001b[0;34m(X, allow_nan, msg_dtype, estimator_name, input_name)\u001b[0m\n\u001b[1;32m    120\u001b[0m \u001b[38;5;28;01mif\u001b[39;00m first_pass_isfinite:\n\u001b[1;32m    121\u001b[0m     \u001b[38;5;28;01mreturn\u001b[39;00m\n\u001b[0;32m--> 123\u001b[0m \u001b[43m_assert_all_finite_element_wise\u001b[49m\u001b[43m(\u001b[49m\n\u001b[1;32m    124\u001b[0m \u001b[43m    \u001b[49m\u001b[43mX\u001b[49m\u001b[43m,\u001b[49m\n\u001b[1;32m    125\u001b[0m \u001b[43m    \u001b[49m\u001b[43mxp\u001b[49m\u001b[38;5;241;43m=\u001b[39;49m\u001b[43mxp\u001b[49m\u001b[43m,\u001b[49m\n\u001b[1;32m    126\u001b[0m \u001b[43m    \u001b[49m\u001b[43mallow_nan\u001b[49m\u001b[38;5;241;43m=\u001b[39;49m\u001b[43mallow_nan\u001b[49m\u001b[43m,\u001b[49m\n\u001b[1;32m    127\u001b[0m \u001b[43m    \u001b[49m\u001b[43mmsg_dtype\u001b[49m\u001b[38;5;241;43m=\u001b[39;49m\u001b[43mmsg_dtype\u001b[49m\u001b[43m,\u001b[49m\n\u001b[1;32m    128\u001b[0m \u001b[43m    \u001b[49m\u001b[43mestimator_name\u001b[49m\u001b[38;5;241;43m=\u001b[39;49m\u001b[43mestimator_name\u001b[49m\u001b[43m,\u001b[49m\n\u001b[1;32m    129\u001b[0m \u001b[43m    \u001b[49m\u001b[43minput_name\u001b[49m\u001b[38;5;241;43m=\u001b[39;49m\u001b[43minput_name\u001b[49m\u001b[43m,\u001b[49m\n\u001b[1;32m    130\u001b[0m \u001b[43m\u001b[49m\u001b[43m)\u001b[49m\n",
      "File \u001b[0;32m~/Desktop/Becode/ByteMind_Final/ByteMind/.conda/lib/python3.12/site-packages/sklearn/utils/validation.py:172\u001b[0m, in \u001b[0;36m_assert_all_finite_element_wise\u001b[0;34m(X, xp, allow_nan, msg_dtype, estimator_name, input_name)\u001b[0m\n\u001b[1;32m    155\u001b[0m \u001b[38;5;28;01mif\u001b[39;00m estimator_name \u001b[38;5;129;01mand\u001b[39;00m input_name \u001b[38;5;241m==\u001b[39m \u001b[38;5;124m\"\u001b[39m\u001b[38;5;124mX\u001b[39m\u001b[38;5;124m\"\u001b[39m \u001b[38;5;129;01mand\u001b[39;00m has_nan_error:\n\u001b[1;32m    156\u001b[0m     \u001b[38;5;66;03m# Improve the error message on how to handle missing values in\u001b[39;00m\n\u001b[1;32m    157\u001b[0m     \u001b[38;5;66;03m# scikit-learn.\u001b[39;00m\n\u001b[1;32m    158\u001b[0m     msg_err \u001b[38;5;241m+\u001b[39m\u001b[38;5;241m=\u001b[39m (\n\u001b[1;32m    159\u001b[0m         \u001b[38;5;124mf\u001b[39m\u001b[38;5;124m\"\u001b[39m\u001b[38;5;130;01m\\n\u001b[39;00m\u001b[38;5;132;01m{\u001b[39;00mestimator_name\u001b[38;5;132;01m}\u001b[39;00m\u001b[38;5;124m does not accept missing values\u001b[39m\u001b[38;5;124m\"\u001b[39m\n\u001b[1;32m    160\u001b[0m         \u001b[38;5;124m\"\u001b[39m\u001b[38;5;124m encoded as NaN natively. For supervised learning, you might want\u001b[39m\u001b[38;5;124m\"\u001b[39m\n\u001b[0;32m   (...)\u001b[0m\n\u001b[1;32m    170\u001b[0m         \u001b[38;5;124m\"\u001b[39m\u001b[38;5;124m#estimators-that-handle-nan-values\u001b[39m\u001b[38;5;124m\"\u001b[39m\n\u001b[1;32m    171\u001b[0m     )\n\u001b[0;32m--> 172\u001b[0m \u001b[38;5;28;01mraise\u001b[39;00m \u001b[38;5;167;01mValueError\u001b[39;00m(msg_err)\n",
      "\u001b[0;31mValueError\u001b[0m: Input X contains NaN.\nLinearRegression does not accept missing values encoded as NaN natively. For supervised learning, you might want to consider sklearn.ensemble.HistGradientBoostingClassifier and Regressor which accept missing values encoded as NaNs natively. Alternatively, it is possible to preprocess the data, for instance by using an imputer transformer in a pipeline or drop samples with missing values. See https://scikit-learn.org/stable/modules/impute.html You can find a list of all estimators that handle NaN values at the following page: https://scikit-learn.org/stable/modules/impute.html#estimators-that-handle-nan-values"
     ]
    }
   ],
   "source": [
    "model = LinearRegression()\n",
    "model.fit(X_train,y_train)"
   ]
  },
  {
   "cell_type": "code",
   "execution_count": 243,
   "metadata": {},
   "outputs": [
    {
     "data": {
      "application/vnd.jupyter.widget-view+json": {
       "model_id": "864bb2b185fe433f8586c389ee85e984",
       "version_major": 2,
       "version_minor": 0
      },
      "text/plain": [
       "MetricVisualizer(layout=Layout(align_self='stretch', height='500px'))"
      ]
     },
     "metadata": {},
     "output_type": "display_data"
    },
    {
     "data": {
      "text/plain": [
       "<catboost.core.CatBoostRegressor at 0x13a0ca0f0>"
      ]
     },
     "execution_count": 243,
     "metadata": {},
     "output_type": "execute_result"
    }
   ],
   "source": [
    "from sklearn.model_selection import train_test_split\n",
    "\n",
    "# Split the data into train+validation and test sets\n",
    "X_train_val, X_test, y_train_val, y_test = train_test_split(X, y, test_size=0.25, random_state=42)\n",
    "\n",
    "# Further split train+validation into training and validation sets\n",
    "X_train, X_val, y_train, y_val = train_test_split(X_train_val, y_train_val, test_size=0.2, random_state=42)\n",
    "\n",
    "# Define and train the model\n",
    "model = CatBoostRegressor(iterations=500, learning_rate=0.1, depth=6, verbose=0)\n",
    "model.fit(\n",
    "    X_train, y_train,\n",
    "    eval_set=(X_val, y_val),\n",
    "    plot=True\n",
    ")\n"
   ]
  },
  {
   "cell_type": "code",
   "execution_count": 244,
   "metadata": {},
   "outputs": [
    {
     "name": "stdout",
     "output_type": "stream",
     "text": [
      "Test RMSE: 350874.0359958626, Test R2: 0.3999547148647532\n"
     ]
    }
   ],
   "source": [
    "from sklearn.metrics import mean_squared_error, r2_score\n",
    "import numpy as np\n",
    "\n",
    "# Make predictions on the test set\n",
    "y_pred = model.predict(X_test)\n",
    "\n",
    "# Calculate metrics\n",
    "rmse = np.sqrt(mean_squared_error(y_test, y_pred))\n",
    "r2 = r2_score(y_test, y_pred)\n",
    "\n",
    "print(f\"Test RMSE: {rmse}, Test R2: {r2}\")\n"
   ]
  }
 ],
 "metadata": {
  "kernelspec": {
   "display_name": "Python 3",
   "language": "python",
   "name": "python3"
  },
  "language_info": {
   "codemirror_mode": {
    "name": "ipython",
    "version": 3
   },
   "file_extension": ".py",
   "mimetype": "text/x-python",
   "name": "python",
   "nbconvert_exporter": "python",
   "pygments_lexer": "ipython3",
   "version": "3.12.7"
  }
 },
 "nbformat": 4,
 "nbformat_minor": 2
}
